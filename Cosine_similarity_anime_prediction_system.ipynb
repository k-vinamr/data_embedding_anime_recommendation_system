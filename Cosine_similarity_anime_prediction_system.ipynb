{
  "nbformat": 4,
  "nbformat_minor": 0,
  "metadata": {
    "colab": {
      "provenance": [],
      "authorship_tag": "ABX9TyNwCPUj8FbTeLxi9Fe61WS1",
      "include_colab_link": true
    },
    "kernelspec": {
      "name": "python3",
      "display_name": "Python 3"
    },
    "language_info": {
      "name": "python"
    }
  },
  "cells": [
    {
      "cell_type": "markdown",
      "metadata": {
        "id": "view-in-github",
        "colab_type": "text"
      },
      "source": [
        "<a href=\"https://colab.research.google.com/github/k-vinamr/data_embedding_anime_recommendation_system/blob/main/Cosine_similarity_anime_prediction_system.ipynb\" target=\"_parent\"><img src=\"https://colab.research.google.com/assets/colab-badge.svg\" alt=\"Open In Colab\"/></a>"
      ]
    },
    {
      "cell_type": "code",
      "execution_count": null,
      "metadata": {
        "id": "RH9qUELP02NZ"
      },
      "outputs": [],
      "source": [
        "import numpy as np\n",
        "import pandas as pd\n",
        "import difflib\n",
        "from sklearn.feature_extraction.text import TfidfVectorizer\n",
        "from sklearn.metrics.pairwise import cosine_similarity"
      ]
    },
    {
      "cell_type": "code",
      "source": [
        "anime_data = pd.read_csv('anime_list.csv')"
      ],
      "metadata": {
        "id": "TiHkROqC3hhQ"
      },
      "execution_count": null,
      "outputs": []
    },
    {
      "cell_type": "code",
      "source": [
        "anime_data.head()"
      ],
      "metadata": {
        "colab": {
          "base_uri": "https://localhost:8080/",
          "height": 712
        },
        "id": "IhwS69w03SN-",
        "outputId": "a5b1cbaa-580d-46fe-fd3e-2a74d583687e"
      },
      "execution_count": null,
      "outputs": [
        {
          "output_type": "execute_result",
          "data": {
            "text/plain": [
              "   Unnamed: 0                                Name Type  Score  Score Rank  \\\n",
              "0           0    Fullmetal Alchemist: Brotherhood   TV   9.14           1   \n",
              "1           1                        Spy x Family   TV   9.09           2   \n",
              "2           2  Shingeki no Kyojin Season 3 Part 2   TV   9.08           3   \n",
              "3           3                         Steins;Gate   TV   9.08           4   \n",
              "4           4                            Gintama°   TV   9.08           5   \n",
              "\n",
              "   Popularity Rank                     Air Date  \\\n",
              "0                3   Apr 5, 2009 to Jul 4, 2010   \n",
              "1              350             Apr 9, 2022 to ?   \n",
              "2               32  Apr 29, 2019 to Jul 1, 2019   \n",
              "3               13  Apr 6, 2011 to Sep 14, 2011   \n",
              "4              335  Apr 8, 2015 to Mar 30, 2016   \n",
              "\n",
              "                                      Studio  Num. of episodes  \\\n",
              "0                                  ['Bones']                64   \n",
              "1  ['Wit Studio', '            CloverWorks']                12   \n",
              "2                             ['Wit Studio']                10   \n",
              "3                              ['White Fox']                24   \n",
              "4                  ['Bandai Namco Pictures']                51   \n",
              "\n",
              "                                        Genres  \\\n",
              "0  ['Action', 'Adventure', 'Drama', 'Fantasy']   \n",
              "1                         ['Action', 'Comedy']   \n",
              "2                          ['Action', 'Drama']   \n",
              "3              ['Drama', 'Sci-Fi', 'Suspense']   \n",
              "4               ['Action', 'Comedy', 'Sci-Fi']   \n",
              "\n",
              "                                           Theme(s) Demographic  \n",
              "0                                      ['Military']     Shounen  \n",
              "1                                     ['Childcare']     Shounen  \n",
              "2                  ['Gore', 'Military', 'Survival']     Shounen  \n",
              "3                  ['Psychological', 'Time Travel']        None  \n",
              "4  ['Gag Humor', 'Historical', 'Parody', 'Samurai']     Shounen  "
            ],
            "text/html": [
              "\n",
              "  <div id=\"df-b8e61bab-13fd-49c3-87e8-8e0f4d740981\" class=\"colab-df-container\">\n",
              "    <div>\n",
              "<style scoped>\n",
              "    .dataframe tbody tr th:only-of-type {\n",
              "        vertical-align: middle;\n",
              "    }\n",
              "\n",
              "    .dataframe tbody tr th {\n",
              "        vertical-align: top;\n",
              "    }\n",
              "\n",
              "    .dataframe thead th {\n",
              "        text-align: right;\n",
              "    }\n",
              "</style>\n",
              "<table border=\"1\" class=\"dataframe\">\n",
              "  <thead>\n",
              "    <tr style=\"text-align: right;\">\n",
              "      <th></th>\n",
              "      <th>Unnamed: 0</th>\n",
              "      <th>Name</th>\n",
              "      <th>Type</th>\n",
              "      <th>Score</th>\n",
              "      <th>Score Rank</th>\n",
              "      <th>Popularity Rank</th>\n",
              "      <th>Air Date</th>\n",
              "      <th>Studio</th>\n",
              "      <th>Num. of episodes</th>\n",
              "      <th>Genres</th>\n",
              "      <th>Theme(s)</th>\n",
              "      <th>Demographic</th>\n",
              "    </tr>\n",
              "  </thead>\n",
              "  <tbody>\n",
              "    <tr>\n",
              "      <th>0</th>\n",
              "      <td>0</td>\n",
              "      <td>Fullmetal Alchemist: Brotherhood</td>\n",
              "      <td>TV</td>\n",
              "      <td>9.14</td>\n",
              "      <td>1</td>\n",
              "      <td>3</td>\n",
              "      <td>Apr 5, 2009 to Jul 4, 2010</td>\n",
              "      <td>['Bones']</td>\n",
              "      <td>64</td>\n",
              "      <td>['Action', 'Adventure', 'Drama', 'Fantasy']</td>\n",
              "      <td>['Military']</td>\n",
              "      <td>Shounen</td>\n",
              "    </tr>\n",
              "    <tr>\n",
              "      <th>1</th>\n",
              "      <td>1</td>\n",
              "      <td>Spy x Family</td>\n",
              "      <td>TV</td>\n",
              "      <td>9.09</td>\n",
              "      <td>2</td>\n",
              "      <td>350</td>\n",
              "      <td>Apr 9, 2022 to ?</td>\n",
              "      <td>['Wit Studio', '            CloverWorks']</td>\n",
              "      <td>12</td>\n",
              "      <td>['Action', 'Comedy']</td>\n",
              "      <td>['Childcare']</td>\n",
              "      <td>Shounen</td>\n",
              "    </tr>\n",
              "    <tr>\n",
              "      <th>2</th>\n",
              "      <td>2</td>\n",
              "      <td>Shingeki no Kyojin Season 3 Part 2</td>\n",
              "      <td>TV</td>\n",
              "      <td>9.08</td>\n",
              "      <td>3</td>\n",
              "      <td>32</td>\n",
              "      <td>Apr 29, 2019 to Jul 1, 2019</td>\n",
              "      <td>['Wit Studio']</td>\n",
              "      <td>10</td>\n",
              "      <td>['Action', 'Drama']</td>\n",
              "      <td>['Gore', 'Military', 'Survival']</td>\n",
              "      <td>Shounen</td>\n",
              "    </tr>\n",
              "    <tr>\n",
              "      <th>3</th>\n",
              "      <td>3</td>\n",
              "      <td>Steins;Gate</td>\n",
              "      <td>TV</td>\n",
              "      <td>9.08</td>\n",
              "      <td>4</td>\n",
              "      <td>13</td>\n",
              "      <td>Apr 6, 2011 to Sep 14, 2011</td>\n",
              "      <td>['White Fox']</td>\n",
              "      <td>24</td>\n",
              "      <td>['Drama', 'Sci-Fi', 'Suspense']</td>\n",
              "      <td>['Psychological', 'Time Travel']</td>\n",
              "      <td>None</td>\n",
              "    </tr>\n",
              "    <tr>\n",
              "      <th>4</th>\n",
              "      <td>4</td>\n",
              "      <td>Gintama°</td>\n",
              "      <td>TV</td>\n",
              "      <td>9.08</td>\n",
              "      <td>5</td>\n",
              "      <td>335</td>\n",
              "      <td>Apr 8, 2015 to Mar 30, 2016</td>\n",
              "      <td>['Bandai Namco Pictures']</td>\n",
              "      <td>51</td>\n",
              "      <td>['Action', 'Comedy', 'Sci-Fi']</td>\n",
              "      <td>['Gag Humor', 'Historical', 'Parody', 'Samurai']</td>\n",
              "      <td>Shounen</td>\n",
              "    </tr>\n",
              "  </tbody>\n",
              "</table>\n",
              "</div>\n",
              "    <div class=\"colab-df-buttons\">\n",
              "\n",
              "  <div class=\"colab-df-container\">\n",
              "    <button class=\"colab-df-convert\" onclick=\"convertToInteractive('df-b8e61bab-13fd-49c3-87e8-8e0f4d740981')\"\n",
              "            title=\"Convert this dataframe to an interactive table.\"\n",
              "            style=\"display:none;\">\n",
              "\n",
              "  <svg xmlns=\"http://www.w3.org/2000/svg\" height=\"24px\" viewBox=\"0 -960 960 960\">\n",
              "    <path d=\"M120-120v-720h720v720H120Zm60-500h600v-160H180v160Zm220 220h160v-160H400v160Zm0 220h160v-160H400v160ZM180-400h160v-160H180v160Zm440 0h160v-160H620v160ZM180-180h160v-160H180v160Zm440 0h160v-160H620v160Z\"/>\n",
              "  </svg>\n",
              "    </button>\n",
              "\n",
              "  <style>\n",
              "    .colab-df-container {\n",
              "      display:flex;\n",
              "      gap: 12px;\n",
              "    }\n",
              "\n",
              "    .colab-df-convert {\n",
              "      background-color: #E8F0FE;\n",
              "      border: none;\n",
              "      border-radius: 50%;\n",
              "      cursor: pointer;\n",
              "      display: none;\n",
              "      fill: #1967D2;\n",
              "      height: 32px;\n",
              "      padding: 0 0 0 0;\n",
              "      width: 32px;\n",
              "    }\n",
              "\n",
              "    .colab-df-convert:hover {\n",
              "      background-color: #E2EBFA;\n",
              "      box-shadow: 0px 1px 2px rgba(60, 64, 67, 0.3), 0px 1px 3px 1px rgba(60, 64, 67, 0.15);\n",
              "      fill: #174EA6;\n",
              "    }\n",
              "\n",
              "    .colab-df-buttons div {\n",
              "      margin-bottom: 4px;\n",
              "    }\n",
              "\n",
              "    [theme=dark] .colab-df-convert {\n",
              "      background-color: #3B4455;\n",
              "      fill: #D2E3FC;\n",
              "    }\n",
              "\n",
              "    [theme=dark] .colab-df-convert:hover {\n",
              "      background-color: #434B5C;\n",
              "      box-shadow: 0px 1px 3px 1px rgba(0, 0, 0, 0.15);\n",
              "      filter: drop-shadow(0px 1px 2px rgba(0, 0, 0, 0.3));\n",
              "      fill: #FFFFFF;\n",
              "    }\n",
              "  </style>\n",
              "\n",
              "    <script>\n",
              "      const buttonEl =\n",
              "        document.querySelector('#df-b8e61bab-13fd-49c3-87e8-8e0f4d740981 button.colab-df-convert');\n",
              "      buttonEl.style.display =\n",
              "        google.colab.kernel.accessAllowed ? 'block' : 'none';\n",
              "\n",
              "      async function convertToInteractive(key) {\n",
              "        const element = document.querySelector('#df-b8e61bab-13fd-49c3-87e8-8e0f4d740981');\n",
              "        const dataTable =\n",
              "          await google.colab.kernel.invokeFunction('convertToInteractive',\n",
              "                                                    [key], {});\n",
              "        if (!dataTable) return;\n",
              "\n",
              "        const docLinkHtml = 'Like what you see? Visit the ' +\n",
              "          '<a target=\"_blank\" href=https://colab.research.google.com/notebooks/data_table.ipynb>data table notebook</a>'\n",
              "          + ' to learn more about interactive tables.';\n",
              "        element.innerHTML = '';\n",
              "        dataTable['output_type'] = 'display_data';\n",
              "        await google.colab.output.renderOutput(dataTable, element);\n",
              "        const docLink = document.createElement('div');\n",
              "        docLink.innerHTML = docLinkHtml;\n",
              "        element.appendChild(docLink);\n",
              "      }\n",
              "    </script>\n",
              "  </div>\n",
              "\n",
              "\n",
              "<div id=\"df-958b018b-4996-4ed3-80b8-cc2057271726\">\n",
              "  <button class=\"colab-df-quickchart\" onclick=\"quickchart('df-958b018b-4996-4ed3-80b8-cc2057271726')\"\n",
              "            title=\"Suggest charts\"\n",
              "            style=\"display:none;\">\n",
              "\n",
              "<svg xmlns=\"http://www.w3.org/2000/svg\" height=\"24px\"viewBox=\"0 0 24 24\"\n",
              "     width=\"24px\">\n",
              "    <g>\n",
              "        <path d=\"M19 3H5c-1.1 0-2 .9-2 2v14c0 1.1.9 2 2 2h14c1.1 0 2-.9 2-2V5c0-1.1-.9-2-2-2zM9 17H7v-7h2v7zm4 0h-2V7h2v10zm4 0h-2v-4h2v4z\"/>\n",
              "    </g>\n",
              "</svg>\n",
              "  </button>\n",
              "\n",
              "<style>\n",
              "  .colab-df-quickchart {\n",
              "      --bg-color: #E8F0FE;\n",
              "      --fill-color: #1967D2;\n",
              "      --hover-bg-color: #E2EBFA;\n",
              "      --hover-fill-color: #174EA6;\n",
              "      --disabled-fill-color: #AAA;\n",
              "      --disabled-bg-color: #DDD;\n",
              "  }\n",
              "\n",
              "  [theme=dark] .colab-df-quickchart {\n",
              "      --bg-color: #3B4455;\n",
              "      --fill-color: #D2E3FC;\n",
              "      --hover-bg-color: #434B5C;\n",
              "      --hover-fill-color: #FFFFFF;\n",
              "      --disabled-bg-color: #3B4455;\n",
              "      --disabled-fill-color: #666;\n",
              "  }\n",
              "\n",
              "  .colab-df-quickchart {\n",
              "    background-color: var(--bg-color);\n",
              "    border: none;\n",
              "    border-radius: 50%;\n",
              "    cursor: pointer;\n",
              "    display: none;\n",
              "    fill: var(--fill-color);\n",
              "    height: 32px;\n",
              "    padding: 0;\n",
              "    width: 32px;\n",
              "  }\n",
              "\n",
              "  .colab-df-quickchart:hover {\n",
              "    background-color: var(--hover-bg-color);\n",
              "    box-shadow: 0 1px 2px rgba(60, 64, 67, 0.3), 0 1px 3px 1px rgba(60, 64, 67, 0.15);\n",
              "    fill: var(--button-hover-fill-color);\n",
              "  }\n",
              "\n",
              "  .colab-df-quickchart-complete:disabled,\n",
              "  .colab-df-quickchart-complete:disabled:hover {\n",
              "    background-color: var(--disabled-bg-color);\n",
              "    fill: var(--disabled-fill-color);\n",
              "    box-shadow: none;\n",
              "  }\n",
              "\n",
              "  .colab-df-spinner {\n",
              "    border: 2px solid var(--fill-color);\n",
              "    border-color: transparent;\n",
              "    border-bottom-color: var(--fill-color);\n",
              "    animation:\n",
              "      spin 1s steps(1) infinite;\n",
              "  }\n",
              "\n",
              "  @keyframes spin {\n",
              "    0% {\n",
              "      border-color: transparent;\n",
              "      border-bottom-color: var(--fill-color);\n",
              "      border-left-color: var(--fill-color);\n",
              "    }\n",
              "    20% {\n",
              "      border-color: transparent;\n",
              "      border-left-color: var(--fill-color);\n",
              "      border-top-color: var(--fill-color);\n",
              "    }\n",
              "    30% {\n",
              "      border-color: transparent;\n",
              "      border-left-color: var(--fill-color);\n",
              "      border-top-color: var(--fill-color);\n",
              "      border-right-color: var(--fill-color);\n",
              "    }\n",
              "    40% {\n",
              "      border-color: transparent;\n",
              "      border-right-color: var(--fill-color);\n",
              "      border-top-color: var(--fill-color);\n",
              "    }\n",
              "    60% {\n",
              "      border-color: transparent;\n",
              "      border-right-color: var(--fill-color);\n",
              "    }\n",
              "    80% {\n",
              "      border-color: transparent;\n",
              "      border-right-color: var(--fill-color);\n",
              "      border-bottom-color: var(--fill-color);\n",
              "    }\n",
              "    90% {\n",
              "      border-color: transparent;\n",
              "      border-bottom-color: var(--fill-color);\n",
              "    }\n",
              "  }\n",
              "</style>\n",
              "\n",
              "  <script>\n",
              "    async function quickchart(key) {\n",
              "      const quickchartButtonEl =\n",
              "        document.querySelector('#' + key + ' button');\n",
              "      quickchartButtonEl.disabled = true;  // To prevent multiple clicks.\n",
              "      quickchartButtonEl.classList.add('colab-df-spinner');\n",
              "      try {\n",
              "        const charts = await google.colab.kernel.invokeFunction(\n",
              "            'suggestCharts', [key], {});\n",
              "      } catch (error) {\n",
              "        console.error('Error during call to suggestCharts:', error);\n",
              "      }\n",
              "      quickchartButtonEl.classList.remove('colab-df-spinner');\n",
              "      quickchartButtonEl.classList.add('colab-df-quickchart-complete');\n",
              "    }\n",
              "    (() => {\n",
              "      let quickchartButtonEl =\n",
              "        document.querySelector('#df-958b018b-4996-4ed3-80b8-cc2057271726 button');\n",
              "      quickchartButtonEl.style.display =\n",
              "        google.colab.kernel.accessAllowed ? 'block' : 'none';\n",
              "    })();\n",
              "  </script>\n",
              "</div>\n",
              "    </div>\n",
              "  </div>\n"
            ]
          },
          "metadata": {},
          "execution_count": 4
        }
      ]
    },
    {
      "cell_type": "code",
      "source": [
        "anime_data=anime_data.rename(columns={'Unnamed: 0':'Index'})\n",
        "print(anime_data)"
      ],
      "metadata": {
        "colab": {
          "base_uri": "https://localhost:8080/"
        },
        "id": "BO-gWGHp3tvH",
        "outputId": "a71ca6b6-d1fc-4e4b-f337-fffddd60d768"
      },
      "execution_count": null,
      "outputs": [
        {
          "output_type": "stream",
          "name": "stdout",
          "text": [
            "      Index                                              Name     Type  Score  \\\n",
            "0         0                  Fullmetal Alchemist: Brotherhood       TV   9.14   \n",
            "1         1                                      Spy x Family       TV   9.09   \n",
            "2         2                Shingeki no Kyojin Season 3 Part 2       TV   9.08   \n",
            "3         3                                       Steins;Gate       TV   9.08   \n",
            "4         4                                          Gintama°       TV   9.08   \n",
            "...     ...                                               ...      ...    ...   \n",
            "1995   1995                                Shugo Chara!! Doki       TV   7.41   \n",
            "1996   1996  Steins;Gate: Soumei Eichi no Cognitive Computing      ONA   7.41   \n",
            "1997   1997                   Taiho Shichau zo: Second Season       TV   7.41   \n",
            "1998   1998            Tanaka-kun wa Itsumo Kedaruge Specials  Special   7.41   \n",
            "1999   1999              Tiger & Bunny Movie 1: The Beginning    Movie   7.41   \n",
            "\n",
            "      Score Rank  Popularity Rank                      Air Date  \\\n",
            "0              1                3    Apr 5, 2009 to Jul 4, 2010   \n",
            "1              2              350              Apr 9, 2022 to ?   \n",
            "2              3               32   Apr 29, 2019 to Jul 1, 2019   \n",
            "3              4               13   Apr 6, 2011 to Sep 14, 2011   \n",
            "4              5              335   Apr 8, 2015 to Mar 30, 2016   \n",
            "...          ...              ...                           ...   \n",
            "1995        1996             1766   Oct 4, 2008 to Sep 25, 2009   \n",
            "1996        1997             1748  Oct 15, 2014 to Nov 12, 2014   \n",
            "1997        1998             5610   Apr 7, 2001 to Sep 29, 2001   \n",
            "1998        1999             3394  Jun 24, 2016 to Dec 22, 2016   \n",
            "1999        2000             3908  Saturday, September 22, 2012   \n",
            "\n",
            "                                         Studio  Num. of episodes  \\\n",
            "0                                     ['Bones']                64   \n",
            "1     ['Wit Studio', '            CloverWorks']                12   \n",
            "2                                ['Wit Studio']                10   \n",
            "3                                 ['White Fox']                24   \n",
            "4                     ['Bandai Namco Pictures']                51   \n",
            "...                                         ...               ...   \n",
            "1995                              ['Satelight']                51   \n",
            "1996                              ['White Fox']                 4   \n",
            "1997                            ['Studio Deen']                26   \n",
            "1998                           ['SILVER LINK.']                 7   \n",
            "1999                                ['Sunrise']                 1   \n",
            "\n",
            "                                           Genres  \\\n",
            "0     ['Action', 'Adventure', 'Drama', 'Fantasy']   \n",
            "1                            ['Action', 'Comedy']   \n",
            "2                             ['Action', 'Drama']   \n",
            "3                 ['Drama', 'Sci-Fi', 'Suspense']   \n",
            "4                  ['Action', 'Comedy', 'Sci-Fi']   \n",
            "...                                           ...   \n",
            "1995                                   ['Comedy']   \n",
            "1996                         ['Comedy', 'Sci-Fi']   \n",
            "1997                         ['Action', 'Comedy']   \n",
            "1998                  ['Comedy', 'Slice of Life']   \n",
            "1999              ['Action', 'Comedy', 'Mystery']   \n",
            "\n",
            "                                              Theme(s) Demographic  \n",
            "0                                         ['Military']     Shounen  \n",
            "1                                        ['Childcare']     Shounen  \n",
            "2                     ['Gore', 'Military', 'Survival']     Shounen  \n",
            "3                     ['Psychological', 'Time Travel']        None  \n",
            "4     ['Gag Humor', 'Historical', 'Parody', 'Samurai']     Shounen  \n",
            "...                                                ...         ...  \n",
            "1995                        ['Mahou Shoujo', 'School']      Shoujo  \n",
            "1996                                          ['None']        None  \n",
            "1997                        ['Detective', 'Workplace']     Shounen  \n",
            "1998                           ['Iyashikei', 'School']        None  \n",
            "1999                     ['Adult Cast', 'Super Power']        None  \n",
            "\n",
            "[2000 rows x 12 columns]\n"
          ]
        }
      ]
    },
    {
      "cell_type": "code",
      "source": [
        "anime_data.shape"
      ],
      "metadata": {
        "colab": {
          "base_uri": "https://localhost:8080/"
        },
        "id": "6TGcrmhh4GpZ",
        "outputId": "7209b5d0-098e-47e9-921e-b1c09f0be024"
      },
      "execution_count": null,
      "outputs": [
        {
          "output_type": "execute_result",
          "data": {
            "text/plain": [
              "(2000, 12)"
            ]
          },
          "metadata": {},
          "execution_count": 8
        }
      ]
    },
    {
      "cell_type": "code",
      "source": [
        "anime_data['Score'] = anime_data['Score'].astype(str)"
      ],
      "metadata": {
        "id": "75oq6kD34Wfc"
      },
      "execution_count": null,
      "outputs": []
    },
    {
      "cell_type": "code",
      "source": [
        "selected_features = ['Score','Genres','Demographic','Theme(s)']\n",
        "print(selected_features)"
      ],
      "metadata": {
        "colab": {
          "base_uri": "https://localhost:8080/"
        },
        "id": "75vHntht4YpE",
        "outputId": "fc87a5ee-29af-44a2-fb27-edd063d0f05e"
      },
      "execution_count": null,
      "outputs": [
        {
          "output_type": "stream",
          "name": "stdout",
          "text": [
            "['Score', 'Genres', 'Demographic', 'Theme(s)']\n"
          ]
        }
      ]
    },
    {
      "cell_type": "code",
      "source": [
        "for feature in selected_features:\n",
        "    anime_data[feature] = anime_data[feature].fillna('')"
      ],
      "metadata": {
        "id": "pZRSEPfi4arW"
      },
      "execution_count": null,
      "outputs": []
    },
    {
      "cell_type": "code",
      "source": [
        "combined_feature = anime_data['Score']+' '+anime_data['Genres']+' '+anime_data['Demographic']+' '+anime_data['Theme(s)']\n"
      ],
      "metadata": {
        "id": "x0nREjk64czH"
      },
      "execution_count": null,
      "outputs": []
    },
    {
      "cell_type": "code",
      "source": [
        "print(combined_feature)"
      ],
      "metadata": {
        "colab": {
          "base_uri": "https://localhost:8080/"
        },
        "id": "LuBL435t4hEB",
        "outputId": "e12548ef-f3d0-43c5-aa30-7f7c5c7af974"
      },
      "execution_count": null,
      "outputs": [
        {
          "output_type": "stream",
          "name": "stdout",
          "text": [
            "0       9.14 ['Action', 'Adventure', 'Drama', 'Fantasy...\n",
            "1         9.09 ['Action', 'Comedy'] Shounen ['Childcare']\n",
            "2       9.08 ['Action', 'Drama'] Shounen ['Gore', 'Mil...\n",
            "3       9.08 ['Drama', 'Sci-Fi', 'Suspense'] None ['Ps...\n",
            "4       9.08 ['Action', 'Comedy', 'Sci-Fi'] Shounen ['...\n",
            "                              ...                        \n",
            "1995    7.41 ['Comedy'] Shoujo ['Mahou Shoujo', 'School']\n",
            "1996              7.41 ['Comedy', 'Sci-Fi'] None ['None']\n",
            "1997    7.41 ['Action', 'Comedy'] Shounen ['Detective'...\n",
            "1998    7.41 ['Comedy', 'Slice of Life'] None ['Iyashi...\n",
            "1999    7.41 ['Action', 'Comedy', 'Mystery'] None ['Ad...\n",
            "Length: 2000, dtype: object\n"
          ]
        }
      ]
    },
    {
      "cell_type": "code",
      "source": [
        "#converting text data to feature vectors\n",
        "#creation of an instance\n",
        "vectorizer= TfidfVectorizer()\n",
        "feature_vectors = vectorizer.fit_transform(combined_feature)\n",
        "print(feature_vectors)"
      ],
      "metadata": {
        "colab": {
          "base_uri": "https://localhost:8080/"
        },
        "id": "iswM1JvE4jaJ",
        "outputId": "c206b2ce-110d-492e-e696-1c614ec829d6"
      },
      "execution_count": null,
      "outputs": [
        {
          "output_type": "stream",
          "name": "stdout",
          "text": [
            "  (0, 138)\t0.40920869783963004\n",
            "  (0, 164)\t0.26141736705442\n",
            "  (0, 111)\t0.27981423619012935\n",
            "  (0, 108)\t0.25112100653373204\n",
            "  (0, 92)\t0.28814433134935596\n",
            "  (0, 90)\t0.228364925700642\n",
            "  (0, 12)\t0.6983364090025104\n",
            "  (1, 100)\t0.6078461656126801\n",
            "  (1, 102)\t0.21084195008002088\n",
            "  (1, 8)\t0.6855337520879978\n",
            "  (1, 164)\t0.2566247816775907\n",
            "  (1, 90)\t0.22417829335931871\n",
            "  (2, 174)\t0.516023374465725\n",
            "  (2, 118)\t0.4505849991126486\n",
            "  (2, 7)\t0.5391648022405205\n",
            "  (2, 138)\t0.3383684733896387\n",
            "  (2, 164)\t0.2161620607644289\n",
            "  (2, 108)\t0.20764815622318203\n",
            "  (2, 90)\t0.18883149770034313\n",
            "  (3, 178)\t0.42572202739159964\n",
            "  (3, 177)\t0.42572202739159964\n",
            "  (3, 151)\t0.32247538563427297\n",
            "  (3, 142)\t0.12576687374004972\n",
            "  (3, 175)\t0.37885380953513387\n",
            "  (3, 113)\t0.23194259763210684\n",
            "  :\t:\n",
            "  (1996, 159)\t0.3867381972535449\n",
            "  (1996, 102)\t0.26463154488848895\n",
            "  (1997, 36)\t0.5428148762878683\n",
            "  (1997, 107)\t0.4911889216650361\n",
            "  (1997, 183)\t0.5479616942089537\n",
            "  (1997, 102)\t0.21296956770591663\n",
            "  (1997, 164)\t0.25921439635593935\n",
            "  (1997, 90)\t0.22644048875313616\n",
            "  (1998, 36)\t0.5654816242946686\n",
            "  (1998, 127)\t0.4622306660276406\n",
            "  (1998, 158)\t0.3072224028772609\n",
            "  (1998, 130)\t0.3120124182067531\n",
            "  (1998, 143)\t0.3120124182067531\n",
            "  (1998, 166)\t0.3120124182067531\n",
            "  (1998, 142)\t0.17581078372716136\n",
            "  (1998, 102)\t0.2218627055604274\n",
            "  (1999, 36)\t0.4766057803728681\n",
            "  (1999, 140)\t0.3123022532940946\n",
            "  (1999, 150)\t0.3833400875980071\n",
            "  (1999, 172)\t0.3833400875980071\n",
            "  (1999, 98)\t0.3774665428365791\n",
            "  (1999, 91)\t0.3774665428365791\n",
            "  (1999, 142)\t0.1481788835857655\n",
            "  (1999, 102)\t0.1869928984008195\n",
            "  (1999, 90)\t0.19882072243165264\n"
          ]
        }
      ]
    },
    {
      "cell_type": "markdown",
      "source": [
        "### **COSINE SIMILARITY**\n",
        "\n"
      ],
      "metadata": {
        "id": "dyQhuEPA4vfU"
      }
    },
    {
      "cell_type": "code",
      "source": [
        "similarity = cosine_similarity(feature_vectors)\n",
        "print(similarity)\n",
        "print(similarity.shape)"
      ],
      "metadata": {
        "colab": {
          "base_uri": "https://localhost:8080/"
        },
        "id": "DDGXvsXf4lwH",
        "outputId": "72179c60-752b-4329-aed6-a81ebf25d908"
      },
      "execution_count": null,
      "outputs": [
        {
          "output_type": "stream",
          "name": "stdout",
          "text": [
            "[[1.         0.11828063 0.29023914 ... 0.11947421 0.         0.04540368]\n",
            " [0.11828063 1.         0.09780446 ... 0.1621868  0.04677797 0.08399724]\n",
            " [0.29023914 0.09780446 1.         ... 0.09879141 0.         0.03754361]\n",
            " ...\n",
            " [0.11947421 0.1621868  0.09879141 ... 1.         0.35420184 0.34355357]\n",
            " [0.         0.04677797 0.         ... 0.35420184 1.         0.33705001]\n",
            " [0.04540368 0.08399724 0.03754361 ... 0.34355357 0.33705001 1.        ]]\n",
            "(2000, 2000)\n"
          ]
        }
      ]
    },
    {
      "cell_type": "markdown",
      "source": [
        "### **USER INPUT FOR ANIME**"
      ],
      "metadata": {
        "id": "kIcaQfkW428o"
      }
    },
    {
      "cell_type": "code",
      "source": [
        "anime_name = input('Enter your favorite Anime:')"
      ],
      "metadata": {
        "colab": {
          "base_uri": "https://localhost:8080/"
        },
        "id": "2ikSd4My4zaj",
        "outputId": "7b2cd509-e91a-4d64-9b95-e7443a20b496"
      },
      "execution_count": null,
      "outputs": [
        {
          "name": "stdout",
          "output_type": "stream",
          "text": [
            "Enter your favorite Anime:Gintama\n"
          ]
        }
      ]
    },
    {
      "cell_type": "code",
      "source": [
        "#creating a list with all anime names from the dataset\n",
        "list_anime_titles = anime_data['Name'].tolist()\n",
        "print(list_anime_titles)"
      ],
      "metadata": {
        "colab": {
          "base_uri": "https://localhost:8080/"
        },
        "id": "TyJF5B1L5Gg8",
        "outputId": "ac303e63-9614-4cdf-f191-916494837be1"
      },
      "execution_count": null,
      "outputs": [
        {
          "output_type": "stream",
          "name": "stdout",
          "text": [
            "['Fullmetal Alchemist: Brotherhood', 'Spy x Family', 'Shingeki no Kyojin Season 3 Part 2', 'Steins;Gate', 'Gintama°', \"Gintama'\", 'Gintama: The Final', 'Hunter x Hunter (2011)', 'Fruits Basket: The Final', \"Gintama': Enchousen\", 'Ginga Eiyuu Densetsu', 'Gintama.', 'Kaguya-sama wa Kokurasetai: Ultra Romantic', '3-gatsu no Lion 2nd Season', 'Koe no Katachi', 'Gintama', 'Violet Evergarden Movie', 'Clannad: After Story', 'Gintama Movie 2: Kanketsu-hen - Yorozuya yo Eien Nare', 'Code Geass: Hangyaku no Lelouch R2', 'Owarimonogatari 2nd Season', 'Shingeki no Kyojin: The Final Season Part 2', 'Kimetsu no Yaiba: Yuukaku-hen', 'Gintama.: Shirogane no Tamashii-hen - Kouhan-sen', 'Kimi no Na wa.', 'Shingeki no Kyojin: The Final Season', 'Monster', 'Mob Psycho 100 II', 'Gintama.: Shirogane no Tamashii-hen', 'Kizumonogatari III: Reiketsu-hen', 'Shiguang Dailiren', 'Sen to Chihiro no Kamikakushi', 'Haikyuu!!: Karasuno Koukou vs. Shiratorizawa Gakuen Koukou', 'Kingdom 3rd Season', 'Monogatari Series: Second Season', 'Cowboy Bebop', 'Mushoku Tensei: Isekai Ittara Honki Dasu Part 2', 'Odd Taxi', 'Shouwa Genroku Rakugo Shinjuu: Sukeroku Futatabi-hen', 'Mushishi Zoku Shou 2nd Season', 'Hajime no Ippo', 'Vinland Saga', '86 Part 2', \"Fate/stay night Movie: Heaven's Feel - III. Spring Song\", 'Ashita no Joe 2', 'Mushishi Zoku Shou', 'Rurouni Kenshin: Meiji Kenkaku Romantan - Tsuioku-hen', 'Mo Dao Zu Shi: Wanjie Pian', 'Code Geass: Hangyaku no Lelouch', 'Great Teacher Onizuka', 'Jujutsu Kaisen (TV)', 'Kingdom 4th Season', 'Made in Abyss', 'Made in Abyss Movie 3: Fukaki Tamashii no Reimei', 'Mononoke Hime', 'Mushishi', 'Ousama Ranking', 'Shigatsu wa Kimi no Uso', 'Violet Evergarden', 'Kimetsu no Yaiba Movie: Mugen Ressha-hen', 'Hajime no Ippo: New Challenger', 'Howl no Ugoku Shiro', 'Evangelion: 3.0+1.0 Thrice Upon a Time', 'Haikyuu!! Second Season', 'Kaguya-sama wa Kokurasetai? Tensai-tachi no Renai Zunousen', 'Natsume Yuujinchou Shi', 'Tengen Toppa Gurren Lagann', 'Natsume Yuujinchou Roku', 'One Piece', 'Death Note', 'Ping Pong the Animation', 'Seishun Buta Yarou wa Yumemiru Shoujo no Yume wo Minai', 'Shingeki no Kyojin Season 3', 'Suzumiya Haruhi no Shoushitsu', 'Mushishi Zoku Shou: Suzu no Shizuku', 'Ookami Kodomo no Ame to Yuki', 'Kizumonogatari II: Nekketsu-hen', 'Hajime no Ippo: Rising', 'JoJo no Kimyou na Bouken Part 5: Ougon no Kaze', 'Natsume Yuujinchou Go', 'Natsume Yuujinchou San', 'Shoujo☆Kageki Revue Starlight Movie', 'Shouwa Genroku Rakugo Shinjuu', 'Yojouhan Shinwa Taikei', 'Tengen Toppa Gurren Lagann Movie 2: Lagann-hen', 'Fate/Zero 2nd Season', 'Fruits Basket 2nd Season', 'Kimi no Suizou wo Tabetai', 'Bakuman. 3rd Season', 'Kimetsu no Yaiba', 'Mushishi: Hihamukage', 'Neon Genesis Evangelion: The End of Evangelion', 'Yakusoku no Neverland', 'Zoku Natsume Yuujinchou', 'Sora yori mo Tooi Basho', 'Yuru Camp△ Season 2', 'Haikyuu!! To the Top 2nd Season', 'Kara no Kyoukai 5: Mujun Rasen', \"Fate/stay night Movie: Heaven's Feel - II. Lost Butterfly\", 'Gintama.: Porori-hen', 'Jujutsu Kaisen 0 Movie', 'Kenpuu Denki Berserk', 'Shingeki no Kyojin', 'Slam Dunk', 'Perfect Blue', 'Steins;Gate 0', 'Gintama Movie 1: Shinyaku Benizakura-hen', 'Koukaku Kidoutai: Stand Alone Complex 2nd GIG', 'Ansatsu Kyoushitsu 2nd Season', 'Banana Fish', 'Hotaru no Haka', 'Karakai Jouzu no Takagi-san 3', 'Nana', 'One Punch Man', 'Uchuu Kyoudai', 'Samurai Champloo', 'Shingeki no Kyojin Season 2', 'Tian Guan Ci Fu Special', 'Aria the Origination', 'JoJo no Kimyou na Bouken Part 4: Diamond wa Kudakenai', 'Rainbow: Nisha Rokubou no Shichinin', 'Re:Zero kara Hajimeru Isekai Seikatsu 2nd Season Part 2', 'Mob Psycho 100', 'Chihayafuru 3', 'Gintama: The Semi-Final', 'Josee to Tora to Sakana-tachi', 'Kono Subarashii Sekai ni Shukufuku wo! Movie: Kurenai Densetsu', 'Mo Dao Zu Shi', 'Zoku Owarimonogatari', 'Nichijou', 'Owarimonogatari', 'Saenai Heroine no Sodatekata Fine', 'Steins;Gate Movie: Fuka Ryouiki no Déjà vu', 'Mahou Shoujo Madoka★Magica Movie 3: Hangyaku no Monogatari', 'Golden Kamuy 3rd Season', 'Haikyuu!!', 'Mo Dao Zu Shi: Xian Yun Pian', \"Vivy: Fluorite Eye's Song\", 'Yuu☆Yuu☆Hakusho', 'Mushishi Zoku Shou: Odoro no Michi', 'Saiki Kusuo no Ψ-nan 2', 'Wu Liuqi Zhi Xuanwu Guo Pian', 'Gintama: Yorinuki Gintama-san on Theater 2D', 'JoJo no Kimyou na Bouken Part 3: Stardust Crusaders 2nd Season', 'Grand Blue', 'JoJo no Kimyou na Bouken Part 6: Stone Ocean', 'Kono Oto Tomare! 2nd Season', 'Koukaku Kidoutai: Stand Alone Complex', 'Mononoke', 'Saiki Kusuo no Ψ-nan', 'Major S5', 'Yoru Ni Kakeru', 'Natsume Yuujinchou Movie: Utsusemi ni Musubu', 'Sayonara no Asa ni Yakusoku no Hana wo Kazarou', 'Shingeki no Kyojin: Kuinaki Sentaku', 'Sono Bisque Doll wa Koi wo Suru', 'Violet Evergarden Gaiden: Eien to Jidou Shuki Ningyou', 'Kara no Kyoukai 7: Satsujin Kousatsu (Go)', 'Kaze ga Tsuyoku Fuiteiru', '3-gatsu no Lion', 'Chihayafuru 2', 'Cross Game', 'Gintama°: Aizome Kaori-hen', 'Houseki no Kuni (TV)', 'Hunter x Hunter', 'Kaguya-sama wa Kokurasetai: Tensai-tachi no Renai Zunousen', 'Natsume Yuujinchou Roku Specials', 'Non Non Biyori Nonstop', 'Tensei shitara Slime Datta Ken 2nd Season', 'Tian Guan Ci Fu', 'Yahari Ore no Seishun Love Comedy wa Machigatteiru. Kan', 'Barakamon', 'Fumetsu no Anata e', 'Kobayashi-san Chi no Maid Dragon S', 'Kotarou wa Hitorigurashi', 'Baccano!', 'Cowboy Bebop: Tengoku no Tobira', 'Holo no Graffiti', 'Kamisama Hajimemashita: Kako-hen', 'Kimetsu no Yaiba: Mugen Ressha-hen', 'Kizumonogatari I: Tekketsu-hen', 'Mahou Shoujo Madoka★Magica Movie 2: Eien no Monogatari', 'Re:Zero kara Hajimeru Isekai Seikatsu 2nd Season', 'Usagi Drop', 'Mushoku Tensei: Isekai Ittara Honki Dasu', 'Kaze no Tani no Nausicaä', 'Bakuman. 2nd Season', 'Haikyuu!! To the Top', 'Hellsing Ultimate', 'Kingdom 2nd Season', 'Mahou Shoujo Madoka★Magica', 'Doupo Cangqiong: San Nian Zhi Yue', 'Gintama: Shiroyasha Koutan', 'Given', 'Gotcha!', 'Kiseijuu: Sei no Kakuritsu', 'Made in Abyss Movie 2: Hourou Suru Tasogare', 'Paripi Koumei', 'Psycho-Pass', 'Major S6', 'Natsume Yuujinchou: Itsuka Yuki no Hi ni', 'Neon Genesis Evangelion', 'One Outs', 'Uchuu Senkan Yamato 2199', 'Versailles no Bara', 'Ano Hi Mita Hana no Namae wo Bokutachi wa Mada Shiranai.', 'Bakemonogatari', 'Fruits Basket: Prelude', 'K-On! Movie', 'Katanagatari', 'Kemono no Souja Erin', 'Mobile Suit Gundam: The Origin', 'Ookami to Koushinryou II', 'Romeo no Aoi Sora', 'Natsume Yuujinchou', 'Natsume Yuujinchou Go Specials', 'NHK ni Youkoso!', 'Sakamichi no Apollon', 'Tenki no Ko', 'Violet Evergarden: Kitto \"Ai\" wo Shiru Hi ga Kuru no Darou', 'World Trigger 3rd Season', 'Boku dake ga Inai Machi', 'Evangelion: 2.0 You Can (Not) Advance', 'Fate/stay night: Unlimited Blade Works 2nd Season', 'Kawaki wo Ameku', 'Komi-san wa, Comyushou desu. 2nd Season', 'Doukyuusei (Movie)', 'Hotarubi no Mori e', 'Hunter x Hunter: Original Video Animation', 'Initial D First Stage', 'Kuroko no Basket 3rd Season', 'Major: World Series', 'Shelter (Music)', 'Shinsekai yori', 'Tensei shitara Slime Datta Ken 2nd Season Part 2', 'Rurouni Kenshin: Meiji Kenkaku Romantan', 'Shirobako', 'Steins;Gate: Oukoubakko no Poriomania', 'Beck', 'Detective Conan Movie 06: The Phantom of Baker Street', 'Diamond no Ace: Second Season', 'Dr. Stone', 'Fate/Zero', 'Hibike! Euphonium 2', 'Kino no Tabi: The Beautiful World', 'Ashita no Joe', 'Gintama: Shinyaku Benizakura-hen', 'Tsubasa: Tokyo Revelations', 'Nodame Cantabile', 'Redline', 'Sasaki to Miyano', 'Seishun Buta Yarou wa Bunny Girl Senpai no Yume wo Minai', 'Stranger: Mukou Hadan', 'Tokyo Godfathers', 'Bakemono no Ko', 'Gin no Saji 2nd Season', 'Gyakkyou Burai Kaiji: Ultimate Survivor', 'Kono Subarashii Sekai ni Shukufuku wo! 2', 'Koukaku Kidoutai', 'Great Pretender', 'Hajime no Ippo: Champion Road', 'Planetes', 'Tenkuu no Shiro Laputa', 'Yuru Camp△', 'Non Non Biyori Movie: Vacation', 'Space☆Dandy 2nd Season', 'Summertime Render', 'Tonari no Totoro', 'Wu Liuqi Zhi Zui Qiang Fa Xing Shi', 'Hunter x Hunter: Greed Island Final', 'Initial D Final Stage', 'Danshi Koukousei no Nichijou', 'Diamond no Ace: Act II', 'Gyakkyou Burai Kaiji: Hakairoku-hen', 'Kuroshitsuji Movie: Book of the Atlantic', 'Re:Zero kara Hajimeru Isekai Seikatsu', 'Sennen Joyuu', 'Major S3', 'Naruto: Shippuuden', 'Nodame Cantabile: Finale', 'One Piece Movie 14: Stampede', 'Ookami to Koushinryou', 'Quanzhi Gaoshou Specials', 'Steins;Gate: Kyoukaimenjou no Missing Link - Divide By Zero', 'Youjo Senki Movie', 'Douluo Dalu: Xiaowu Juebie', '86', 'Detective Conan: Episode One - The Great Detective Turned Small', 'Dororo', 'Golden Kamuy 2nd Season', 'Hajime no Ippo: Mashiba vs. Kimura', 'Kuroko no Basket 2nd Season', 'Luo Xiao Hei Zhan Ji (Movie)', 'Magi: The Kingdom of Magic', 'Major S1', 'Mobile Suit Gundam: Iron-Blooded Orphans 2nd Season', 'SKET Dance', 'xxxHOLiC: Kei', 'Yahari Ore no Seishun Love Comedy wa Machigatteiru. Zoku', 'Yuukoku no Moriarty 2nd Season', 'Mimi wo Sumaseba', 'No Game No Life: Zero', 'Stand By Me Doraemon 2', 'Trigun', 'Detective Conan Movie 13: The Raven Chaser', 'Fruits Basket 1st Season', 'Ginga Eiyuu Densetsu: Die Neue These - Seiran 3', 'Hachimitsu to Clover II', 'Kono Sekai no Katasumi ni', 'Mahou Shoujo Madoka★Magica Movie 1: Hajimari no Monogatari', 'Majo no Takkyuubin', 'Bungou Stray Dogs 3rd Season', 'Cardcaptor Sakura Movie 2: Fuuin Sareta Card', 'Horimiya', 'Kaguya-hime no Monogatari', 'Major S2', 'Major S4', 'Nomad: Megalo Box 2', 'ReLIFE: Kanketsu-hen', 'Saiki Kusuo no Ψ-nan: Kanketsu-hen', 'xxxHOLiC: Rou', 'One Piece: Episode of Merry - Mou Hitori no Nakama no Monogatari', 'Toaru Kagaku no Railgun T', 'Vanitas no Karte Part 2', 'Yoru wa Mijikashi Arukeyo Otome', 'Bakuman.', 'Berserk: Ougon Jidai-hen III - Kourin', 'Bungou Stray Dogs 2nd Season', 'Chihayafuru', \"Fate/stay night Movie: Heaven's Feel - I. Presage Flower\", 'IDOLiSH7: Third Beat!', 'InuYasha: Kanketsu-hen', 'Little Busters!: Refrain', 'Maison Ikkoku', 'Asobi Asobase', 'Ballroom e Youkoso', 'Fate/stay night: Unlimited Blade Works', 'Girls & Panzer Movie', 'Higurashi no Naku Koro ni Kai', 'Hunter x Hunter: Greed Island', 'Kamisama Hajimemashita◎', 'Liz to Aoi Tori', 'Non Non Biyori Repeat', 'Senki Zesshou Symphogear XV', 'Shokugeki no Souma', 'Shoujo Shuumatsu Ryokou', 'Tanoshii Muumin Ikka', 'Shoujo Kakumei Utena', 'Aria the Natural', 'Black Lagoon: The Second Barrage', 'Dr. Stone: Stone Wars', 'Eiga Daisuki Pompo-san (Movie)', 'Girls & Panzer: Saishuushou Part 3', 'Boku no Hero Academia 2nd Season', 'Death Parade', 'Detective Conan Movie 20: The Darkest Nightmare', 'Digimon Adventure: Last Evolution Kizuna', 'K-On!!', \"Kyoukai no Kanata Movie 2: I'll Be Here - Mirai-hen\", 'Major: Message', 'Noragami Aragoto', 'Ramayana: The Legend of Prince Rama', 'One Piece Film: Z', 'Ouran Koukou Host Club', 'Tengen Toppa Gurren Lagann Movie 1: Gurren-hen', 'Working!!!: Lord of the Takanashi', 'Akira', 'Detective Conan', 'Given Movie', 'Given: Uragawa no Sonzai', 'Haikyuu!! Movie 4: Concept no Tatakai', 'Hinamatsuri (TV)', 'Kaguya-sama wa Kokurasetai: Ultra Romantic Teaser PV - Ishigami Yuu wa Kataritai', 'Cardcaptor Sakura', 'Douluo Dalu: Xingdou Xian Ji Pian', 'Dragon Ball Z', 'Gankutsuou', 'Initial D Fourth Stage', 'Kaiba', 'Lupin III: Cagliostro no Shiro', 'Lupin III: Part 5', 'Mo Dao Zu Shi Q', 'Nisemonogatari', 'Nodame Cantabile: Paris-hen', 'Seirei no Moribito', 'Tokyo Revengers', 'Toki wo Kakeru Shoujo', 'Yuukoku no Moriarty', 'Douluo Dalu: Hanhai Qian Kun', 'Eizouken ni wa Te wo Dasu na!', 'IDOLiSH7: Second Beat!', 'Initial D Second Stage', 'Kamisama Hajimemashita: Kamisama, Shiawase ni Naru', 'Katekyo Hitman Reborn!', 'Made in Abyss Movie 1: Tabidachi no Yoake', \"Mahou Shoujo Lyrical Nanoha: The Movie 2nd A's\", '5-toubun no Hanayome ∬', 'Chuunibyou demo Koi ga Shitai! Movie: Take On Me', 'Dragon Ball Super: Broly', 'Durarara!!', 'Ginga Eiyuu Densetsu Gaiden', 'Honzuki no Gekokujou: Shisho ni Naru Tame ni wa Shudan wo Erandeiraremasen 2nd Season', 'Interstella5555: The 5tory of The 5ecret 5tar 5ystem', 'Kono Subarashii Sekai ni Shukufuku wo!', 'One Piece: Episode of Nami - Koukaishi no Namida to Nakama no Kizuna', 'Tensei shitara Slime Datta Ken', 'Tonikaku Kawaii: SNS', 'Mobile Suit Gundam 00', 'Mobile Suit Gundam Unicorn', 'Natsume Yuujinchou: Ishi Okoshi to Ayashiki Raihousha', 'One Piece Film: Strong World', 'Princess Tutu', 'Sakura-sou no Pet na Kanojo', 'Shokugeki no Souma: Ni no Sara', 'Toradora!', 'Detective Conan Movie 05: Countdown to Heaven', 'Detective Conan Movie 14: The Lost Ship in the Sky', 'Detroit Metal City', 'Douluo Dalu: Qian Hua Xi Jin', 'Fullmetal Alchemist', 'Koukaku Kidoutai: Stand Alone Complex - Solid State Society', 'Kuragehime', 'Mahoutsukai no Yome: Hoshi Matsu Hito', 'Baccano! Specials', 'Black Clover', 'Douluo Dalu: Jingying Sai', 'Ginga Eiyuu Densetsu: Die Neue These - Seiran 2', \"Gintama': Futon ni Haitte kara Buki Nokoshi ni Kizuite Neru ni Nerenai Toki mo Aru\", 'Gintama°: Umai-mono wa Atomawashi ni Suru to Yokodorisareru kara Yappari Saki ni Kue', 'Mobile Suit Gundam: The Origin - Advent of the Red Comet', 'No Game No Life', 'Non Non Biyori Nonstop OVA', 'Quanzhi Gaoshou Zhi Dianfeng Rongyao', 'Saiki Kusuo no Ψ-nan: Ψ-shidou-hen', 'Tamayura: Sotsugyou Shashin Part 4 - Ashita', 'Tsubasa: Shunraiki', 'Tsukimonogatari', 'Uchouten Kazoku 2', 'Tsuki ga Kirei', 'Zankyou no Terror', 'Ansatsu Kyoushitsu', 'Boku no Hero Academia 3rd Season', 'Diamond no Ace', 'Douluo Dalu: Haishen Zhi Guang', 'Ginga Eiyuu Densetsu: Arata Naru Tatakai no Overture', 'Haikyuu!! Movie 3: Sainou to Sense', 'Hyouka', 'JoJo no Kimyou na Bouken Part 3: Stardust Crusaders', 'Kanata no Astra', 'Kaze Tachinu', 'Kuroko no Basket: Saikou no Present Desu', 'Akatsuki no Yona OVA', 'Gin no Saji', 'Hajime no Ippo: Boxer no Kobushi', 'Karakai Jouzu no Takagi-san 2', 'Mirai Shounen Conan', 'Mobile Suit Gundam 00 Second Season', 'Saint Seiya: The Lost Canvas - Meiou Shinwa 2', 'Skip Beat!', 'World Trigger 2nd Season', 'Yuusha-Ou GaoGaiGar Final', 'Stand By Me Doraemon', 'Yowamushi Pedal: Grande Road', 'Angel Beats!', 'Darker than Black: Kuro no Keiyakusha', 'Detective Conan Movie 18: The Sniper from Another Dimension', 'Gintama: Nanigoto mo Saiyo ga Kanjin nano de Tasho Senobisuru Kurai ga Choudoyoi', 'Hidamari Sketch: Sae Hiro Sotsugyou-hen', 'Hikaru no Go', 'Initial D Fifth Stage', 'Koukaku Kidoutai: Stand Alone Complex - The Laughing Man', 'Kuroko no Basket', 'Kuroko no Basket Movie 4: Last Game', 'Kuroshitsuji: Book of Circus', 'Mairimashita! Iruma-kun 2nd Season', 'Detective Conan Movie 08: Magician of the Silver Sky', 'Dorohedoro', 'Durarara!!x2 Ketsu', 'Gintama: Dai Hanseikai', 'Girls & Panzer: Saishuushou Part 2', 'Gosick', 'Kamisama Hajimemashita', 'Koukyoushihen Eureka Seven', 'Kuroshitsuji: Book of Murder', 'Mahoutsukai no Yome', 'Omoide no Marnie', 'Shijou Saikyou no Deshi Kenichi', 'Serial Experiments Lain', 'xxxHOLiC: Shunmuki', 'City Hunter 2', 'Dennou Coil', 'Fate/stay night: Unlimited Blade Works Prologue', 'Ginga Eiyuu Densetsu Gaiden (1999)', 'Glass no Kamen (2005)', 'Komi-san wa, Comyushou desu.', 'Doraemon Movie 31: Shin Nobita to Tetsujin Heidan - Habatake Tenshi-tachi', 'Douluo Dalu: Hao Tian Yang Wei', 'Hololive Alternative', 'Kill la Kill', 'Kodomo no Omocha (TV)', 'Kyou kara Ore wa!!', 'Summer Wars', 'Mobile Suit Gundam: Iron-Blooded Orphans', 'Paprika', 'Saint Seiya: Meiou Hades Juuni Kyuu-hen', 'Saiunkoku Monogatari 2nd Season', 'Shokugeki no Souma: San no Sara', 'SK∞', 'Yahari Ore no Seishun Love Comedy wa Machigatteiru. Zoku OVA', 'BanG Dream! 3rd Season', 'Detective Conan Movie 10: Requiem of the Detectives', 'Eve no Jikan', 'Full Metal Panic? Fumoffu', 'Juuni Kokuki', 'Kara no Kyoukai 3: Tsuukaku Zanryuu', 'Kono Subarashii Sekai ni Shukufuku wo! 2: Kono Subarashii Geijutsu ni Shukufuku wo!', 'Lovely★Complex', 'Akatsuki no Yona', 'Baby Steps 2nd Season', 'Black Lagoon', \"Black Lagoon: Roberta's Blood Trail\", 'Boku no Hero Academia the Movie 2: Heroes:Rising', 'D.Gray-man', 'Date A Live IV', 'Detective Conan Movie 03: The Last Wizard of the Century', 'Detective Conan Movie 04: Captured in Her Eyes', 'FLCL', 'Ginga Eiyuu Densetsu: Die Neue These - Gekitotsu', 'Ginga Nagareboshi Gin', 'Honzuki no Gekokujou: Shisho ni Naru Tame ni wa Shudan wo Erandeiraremasen 3rd Season', 'Kami nomi zo Shiru Sekai: Megami-hen', 'Magi: The Labyrinth of Magic', 'Toaru Kagaku no Railgun S', 'Tsumiki no Ie', 'Zombieland Saga: Revenge', 'Omae Umasou da na', 'Pui Pui Molcar', 'Slayers Next', 'Tate no Yuusha no Nariagari', 'Tokyo Magnitude 8.0', 'Uma Musume: Pretty Derby (TV) Season 2', 'Yahari Ore no Seishun Love Comedy wa Machigatteiru.', 'Yuuki Yuuna wa Yuusha de Aru: Washio Sumi no Shou 3 - Yakusoku', 'Detective Conan Movie 15: Quarter of Silence', 'ef: A Tale of Melodies.', 'Evangelion: 1.0 You Are (Not) Alone', 'Golden Boy', 'Hachimitsu to Clover', 'Kaichou wa Maid-sama!', 'Kamisama Hajimemashita OVA', 'Kara no Kyoukai Movie: Mirai Fukuin', 'Aria the OVA: Arietta', 'BanG Dream! Movie: Episode of Roselia - II: Song I Am.', 'Clannad', 'Fullmetal Alchemist: Brotherhood Specials', 'Honzuki no Gekokujou: Shisho ni Naru Tame ni wa Shudan wo Erandeiraremasen', 'Love Live! Superstar!!', 'Mobile Suit Gundam: The 08th MS Team', 'Mushoku Tensei: Isekai Ittara Honki Dasu Special', 'Nagi no Asu kara', 'Persona 3 the Movie 4: Winter of Rebirth', \"Wolf's Rain OVA\", 'Maoujou de Oyasumi', 'Ookiku Furikabutte: Natsu no Taikai-hen', 'School Rumble Ni Gakki', 'Touch', 'Code Geass: Hangyaku no Lelouch III - Oudou', 'Doupo Cangqiong 4th Season', 'Durarara!!x2 Shou', 'Eve no Jikan (Movie)', 'Haikyuu!! Movie 2: Shousha to Haisha', 'Hanada Shounen-shi', 'Hibike! Euphonium', 'High Score Girl: Extra Stage', 'Kakushigoto (TV)', 'Kimi ni Todoke', 'Kobayashi-san Chi no Maid Dragon', 'Koukaku Kidoutai: Stand Alone Complex 2nd GIG - Individual Eleven', 'Douluo Dalu: Shan Yu Yu Lai', 'Ginga Eiyuu Densetsu: Die Neue These - Seiran 1', 'High Score Girl II', 'Kimi ni Todoke 2nd Season', 'Koukaku Kidoutai 2.0', 'Major Movie: Yuujou no Winning Shot', 'Promare', 'ReLIFE', 'Sakasama no Patema', 'Shokugeki no Souma: San no Sara - Tootsuki Ressha-hen', 'xxxHOLiC', 'Rurouni Kenshin: Meiji Kenkaku Romantan - Seisou-hen', 'Tennis no Ouji-sama: Zenkoku Taikai-hen - Final', 'Wan Sheng Jie 2', 'Working!!!', 'Akagami no Shirayuki-hime 2nd Season', 'Aria the Origination: Sono Choppiri Himitsu no Basho ni...', 'Durarara!!x2 Ten', 'Hyouge Mono', 'Kingdom', 'Love Live! Nijigasaki Gakuen School Idol Doukoukai 2nd Season', 'Azumanga Daioh', 'Haibane Renmei', 'Hokuto no Ken', 'Kanon (2006)', \"Mahou Shoujo Lyrical Nanoha A's\", 'Naruto', 'Noragami', 'One Piece Film: Strong World Episode 0', 'Osomatsu-san', 'Phantom: Requiem for the Phantom', 'Quanzhi Gaoshou 2', 'Saint Seiya: The Lost Canvas - Meiou Shinwa', 'Wan Sheng Jie', 'Youjo Senki', 'Yuri!!! on Ice: Yuri Plisetsky GPF in Barcelona EX - Welcome to The Madness', 'Mawaru Penguindrum', 'Nurarihyon no Mago: Sennen Makyou', 'Sword Art Online: Progressive Movie - Hoshi Naki Yoru no Aria', 'Tekkon Kinkreet', 'Boku no Hero Academia 4th Season', 'Dragon Ball', 'Fate/Grand Carnival', 'Girls & Panzer: Saishuushou Part 1', 'Haikyuu!! Movie 1: Owari to Hajimari', 'Hikaru no Go: Hokuto Hai e no Michi', 'IDOLiSH7 Vibrato', 'Kobato.', 'Macross F Movie 2: Sayonara no Tsubasa', 'Macross: Do You Remember Love?', 'Boku no Hero Academia', 'Clannad: Mou Hitotsu no Sekai, Tomoyo-hen', 'Fate/kaleid liner Prisma☆Illya Movie: Sekka no Chikai', 'Gochuumon wa Usagi Desu ka? Bloom', 'Hanamonogatari', 'Kindaichi Shounen no Jikenbo', 'Kokoro Connect: Michi Random', 'Kurenai no Buta', 'Log Horizon', 'Non Non Biyori', 'Usagi Drop Specials', 'Wotaku ni Koi wa Muzukashii', 'xxxHOLiC Movie: Manatsu no Yoru no Yume', 'Yowamushi Pedal', 'Mobile Suit Gundam 0080: War in the Pocket', 'Mobile Suit Gundam Thunderbolt', 'Nekomonogatari: Kuro', 'Tamako Love Story', 'Trigun: Badlands Rumble', 'Zetsuen no Tempest', 'Fate/Grand Order: Zettai Majuu Sensen Babylonia', 'Full Metal Panic! The Second Raid', 'Full Moon wo Sagashite', 'Kimi to Boku. 2', 'Kuuchuu Buranko', 'Bishoujo Senshi Sailor Moon: Sailor Stars', 'Bungou Stray Dogs Wan!', 'Darker than Black: Kuro no Keiyakusha Gaiden', 'Douluo Dalu: Chongfan Haotian', 'Final Fantasy VII: Advent Children Complete', 'Hidamari Sketch x Honeycomb', 'Kidou Keisatsu Patlabor 2 the Movie', 'Kotonoha no Niwa', 'Love Live! The School Idol Movie', 'Mobile Suit Gundam Thunderbolt: December Sky', 'SKET Dance: Imouto no Nayami ni Nayamu Ani ni Nayamu Imouto to Sono Nakama-tachi', 'Takarajima', 'Touhai Densetsu Akagi: Yami ni Maiorita Tensai', 'Umibe no Étranger', 'Wotaku ni Koi wa Muzukashii OVA', 'Yakitate!! Japan', 'Yuru Yuri San☆Hai!', 'One Piece Film: Gold', 'Ore Monogatari!!', 'Overlord', 'Overlord III', 'Plastic Memories', 'Quanzhi Gaoshou', 'Tonikaku Kawaii', 'Cike Wu Liuqi', 'City Hunter', 'Code Geass: Fukkatsu no Lelouch', 'Eyeshield 21', 'Fate/Grand Order: Shuukyoku Tokuiten - Kani Jikan Shinden Solomon', 'Hanasaku Iroha', 'JoJo no Kimyou na Bouken (TV)', 'Kaleido Star', 'Macross', 'Aria the Avvenire', 'Bungou Stray Dogs: Dead Apple', 'Detective Conan OVA 09: The Stranger in 10 Years...', 'Drifters', 'ef: A Tale of Memories.', 'Ergo Proxy', 'Hidamari Sketch x ☆☆☆', 'Ie Naki Ko Remy', 'Jormungand: Perfect Order', 'Kono Oto Tomare!', 'Lupin III (2015)', 'Ookiku Furikabutte', 'Princess Connect! Re:Dive Season 2', 'Sakigake!! Cromartie Koukou', 'Shirokuma Cafe', 'Tennis no Ouji-sama: Zenkoku Taikai-hen', 'Tennis no Ouji-sama: Zenkoku Taikai-hen - Semifinal', 'Ushio to Tora (TV) 2nd Season', 'Vanitas no Karte', 'Yagate Kimi ni Naru', 'Yuri!!! on Ice', 'Zoku Sayonara Zetsubou Sensei', 'Saiunkoku Monogatari', 'School Rumble', 'Shijou Saikyou no Deshi Kenichi OVA', 'Summer Ghost', 'Terra e... (TV)', 'Date A Live II: Kurumi Star Festival', 'Death Billiards', 'Free! Eternal Summer: Kindan no All Hard!', 'Gake no Ue no Ponyo', 'Gakuen Babysitters', 'Ginga Eiyuu Densetsu: Waga Yuku wa Hoshi no Taikai', 'Ginga Sengoku Gunyuuden Rai', 'Higurashi no Naku Koro ni', 'Jigoku Shoujo Futakomori', 'Kami nomi zo Shiru Sekai II', 'Karigurashi no Arrietty', 'Macross F', 'Beastars', 'Carole & Tuesday', 'Code Geass: Hangyaku no Lelouch I - Koudou', 'Megalo Box', 'Mobile Suit Zeta Gundam', 'One Piece: Episode of East Blue - Luffy to 4-nin no Nakama no Daibouken', 'Sekaiichi Hatsukoi OVA', 'Vampire Hunter D (2000)', 'Wu Shan Wu Xing (2020)', 'One Piece 3D2Y: Ace no shi wo Koete! Luffy Nakama Tono Chikai', 'Ookami to Koushinryou II: Ookami to Kohakuiro no Yuuutsu', 'Osomatsu-san Movie', 'Sayonara Zetsubou Sensei', 'Sekaiichi Hatsukoi 2', 'Sekaiichi Hatsukoi Movie: Yokozawa Takafumi no Baai', 'Space☆Dandy', 'Tiger & Bunny', 'Zan Sayonara Zetsubou Sensei', 'Berserk: Ougon Jidai-hen II - Doldrey Kouryaku', 'Carnival Phantasm', 'Detective Conan Movie 02: The Fourteenth Target', 'Hoozuki no Reitetsu 2nd Season', 'Initial D Third Stage', 'Inochi no Tabekata', 'Mahou Shoujo Lyrical Nanoha: The Movie 1st', 'Ano Hi Mita Hana no Namae wo Bokutachi wa Mada Shiranai. Movie', 'Beelzebub', 'Bishoujo Senshi Sailor Moon S', 'Durarara!! Specials', 'High☆Speed! Movie: Free! Starting Days', 'Kobayashi-san Chi no Maid Dragon S: Nippon no Omotenashi - Attend wa Dragon Desu', \"Kyoukai no Kanata Movie: I'll Be Here - Kako-hen - Yakusoku no Kizuna\", 'Les Misérables: Shoujo Cosette', 'Lupin III vs. Detective Conan: The Movie', \"Mobile Suit Gundam: Hathaway's Flash\", 'Noragami Aragoto OVA', 'Seitokai Yakuindomo* OVA', 'Tennis no Ouji-sama', 'There She Is!!', 'Top wo Nerae! Gunbuster', 'Musekinin Kanchou Tylor', 'Shingeki no Kyojin OVA', 'Tanaka-kun wa Itsumo Kedaruge', 'Tentai Senshi Sunred 2nd Season', 'Yuru Yuri Nachuyachumi!', 'Beastars 2nd Season', 'Blue Period', 'Douluo Dalu', 'Douluo Dalu: Xiaowu Fuhuo', 'Gekkan Shoujo Nozaki-kun', 'Golden Kamuy', 'Grisaia no Meikyuu: Caprice no Mayu 0', 'Hanasaku Iroha Movie: Home Sweet Home', 'Hoozuki no Reitetsu OVA', 'Id:Invaded', 'Kaleido Star: Legend of Phoenix - Layla Hamilton Monogatari', 'Kokoro ga Sakebitagatterunda.', 'Magi: Sinbad no Bouken (TV)', 'Magic Kaito 1412', 'Aoki Hagane no Arpeggio: Ars Nova Movie 2 - Cadenza', 'Bleach', 'Densetsu Kyojin Ideon: Hatsudou-hen', 'Detective Conan Movie 01: The Timed Skyscraper', 'Dramaturgy', 'Flanders no Inu (Movie)', 'Hoozuki no Reitetsu 2nd Season: Sono Ni', 'InuYasha', 'Jibaku Shounen Hanako-kun', 'K-On!', 'Kara no Kyoukai 4: Garan no Dou', 'Kono Subarashii Sekai ni Shukufuku wo!: Kono Subarashii Choker ni Shukufuku wo!', 'Lupin the IIIrd: Chikemuri no Ishikawa Goemon', 'Non Non Biyori Repeat: Hotaru ga Tanoshinda', 'Paradise Kiss', 'Seihou Bukyou Outlaw Star', 'Uchouten Kazoku', 'Youkoso Jitsuryoku Shijou Shugi no Kyoushitsu e (TV)', 'Michiko to Hatchin', 'Seitokai Yakuindomo Movie', 'Seto no Hanayome OVA', 'Soul Eater', 'Suzumiya Haruhi no Yuuutsu', 'Tasogare Otome x Amnesia', 'Urusei Yatsura 2: Beautiful Dreamer', \"Working'!!\", 'Yume-iro Pâtissière', 'Aggressive Retsuko (ONA) 3rd Season', 'Break Blade 4: Sanka no Chi', 'Detective Conan Movie 22: Zero the Enforcer', 'Detective Conan Movie 23: The Fist of Blue Sapphire', 'Eikoku Koi Monogatari Emma: Molders-hen', 'Gungrave', 'K-On!!: Keikaku!', 'K-On!: Live House!', '91 Days', 'Chuan Shu Zijiu Zhinan', 'Danshi Koukousei no Nichijou Specials', 'Goku Sayonara Zetsubou Sensei', 'Haikyuu!! (OVA)', 'Hidamari Sketch x 365', 'Ie Naki Ko', 'Igano Kabamaru', 'Little Witch Academia (TV)', 'Lupin III: The First', 'Mahoujin Guruguru (2017)', 'Mahoutsukai no Yome: Nishi no Shounen to Seiran no Kishi', 'New Initial D Movie: Legend 3 - Mugen', 'Planetarian: Hoshi no Hito', 'Somali to Mori no Kamisama', 'Yi Nian Yong Heng', 'Yuru Yuri♪♪', 'Yuusha-Ou GaoGaiGar', 'Maria-sama ga Miteru 3rd', 'Oniisama e...', 'Owarimonogatari 2nd Season Recaps', 'Psycho-Pass 3: First Inspector', 'Saiyuuki Gaiden', 'Slayers Try', 'Akachan to Boku', 'Baby Steps', 'Break Blade 5: Shisen no Hate', 'Bungou Stray Dogs', 'Capeta', 'Haikyuu!! Riku vs. Kuu', 'Jormungand', 'Jungle wa Itsumo Hare nochi Guu', 'Kuroko no Basket: Tip Off', 'Lupin the IIIrd: Jigen Daisuke no Bohyou', 'Ai no Utagoe wo Kikasete', 'Akebi-chan no Sailor-fuku', 'Aria the Crepuscolo', 'City Hunter 3', 'Coquelicot-zaka kara', 'Crayon Shin-chan Movie 09: Arashi wo Yobu Mouretsu! Otona Teikoku no Gyakushuu', 'Detective Conan Movie 07: Crossroad in the Ancient Capital', 'Detective Conan Movie 08: Time Travel of the Silver Sky', 'Heartcatch Precure!', 'Hidamari Sketch x ☆☆☆ Specials', 'Kekkai Sensen & Beyond', 'Little Witch Academia', 'Macross F Movie 1: Itsuwari no Utahime', 'Magi: Sinbad no Bouken', 'Nodame Cantabile: Finale - Mine to Kiyora no Saikai', 'Saint☆Oniisan (Movie)', 'Seikai no Senki II', 'Shingeki no Kyojin Movie 2: Jiyuu no Tsubasa', 'Tamayura: Sotsugyou Shashin Part 3 - Akogare', \"Wolf's Rain\", 'Yuuki Yuuna wa Yuusha de Aru: Washio Sumi no Shou 2 - Tamashii', 'Mobile Suit Gundam Wing: Endless Waltz Special', 'Sekaiichi Hatsukoi: Valentine-hen', 'Shiguang Dailiren Fan Wai Pian: Biwu Zhaoqin', 'Shingeki no Kyojin: Lost Girls', 'Tokyo Ghoul', 'Clannad: After Story - Mou Hitotsu no Sekai, Kyou-hen', 'Detective Conan Movie 09: Strategy Above the Depths', 'Emiya-san Chi no Kyou no Gohan', 'Giant Robo the Animation: Chikyuu ga Seishi Suru Hi', 'Ginga Tetsudou 999', 'Gochuumon wa Usagi Desu ka??', 'Innocence', 'InuYasha Movie 3: Tenka Hadou no Ken', 'Jungle wa Itsumo Hare nochi Guu Deluxe', 'Kara no Kyoukai 2: Satsujin Kousatsu (Zen)', 'Last Exile', 'Lucky☆Star: Original na Visual to Animation', 'Break Blade 3: Kyoujin no Ato', 'Detective Conan Movie 12: Full Score of Fear', 'Gochuumon wa Usagi Desu ka??: Dear My Sister', 'Grisaia no Rakuen', 'High Score Girl', 'Kageki Shoujo!!', 'Kubikiri Cycle: Aoiro Savant to Zaregototsukai', 'Lupin III: Part II', 'Saiyuuki Reload: Burial', 'Saraiya Goyou', 'Seitokai Yakuindomo Movie 2', 'Mind Game', 'New Initial D Movie: Legend 2 - Tousou', 'Saenai Heroine no Sodatekata ♭', 'Shingeki no Kyojin Season 2 Movie: Kakusei no Houkou', 'Taishou Otome Otogibanashi', 'The Everlasting Guilty Crown', 'The Last: Naruto the Movie', 'Tunshi Xingkong', 'Yuru Yuri Nachuyachumi!+', 'Zan Sayonara Zetsubou Sensei Bangaichi', 'Ame wo Matsu,', 'BanG Dream! Garupa☆Pico', 'Code Geass: Hangyaku no Lelouch R2 Special Edition - Zero Requiem', 'Colorful (Movie)', 'Enen no Shouboutai: Ni no Shou', 'Hataraku Maou-sama!', 'Hibike! Euphonium Movie 2: Todoketai Melody', 'Higashi no Eden', 'Hoozuki no Reitetsu', 'Hug tto! Precure', 'Isekai no Seikishi Monogatari', 'Jin-Rou', 'Kuroko no Basket Movie 3: Winter Cup - Tobira no Mukou', 'Love Live! School Idol Project 2nd Season', 'Lupin III vs. Detective Conan', 'Magic Kaito', 'Akagami no Shirayuki-hime', 'Cardcaptor Sakura: Clear Card-hen Prologue - Sakura to Futatsu no Kuma', 'Devilman: Crybaby', 'Digimon Adventure', 'Digimon Adventure: Bokura no War Game!', 'Ghost Hunt', 'Hadashi no Gen', 'Haikyuu!! vs. \"Akaten\"', 'Hidamari Sketch x SP', 'Kokoro Connect', 'Lupin the Third: Mine Fujiko to Iu Onna', 'Machikado Mazoku: 2-choume', 'Maria-sama ga Miteru 4th', 'New Initial D Movie: Legend 1 - Kakusei', 'Ojamajo Doremi Na-i-sho', 'Seitokai Yakuindomo OVA', 'Shiki Specials', 'Tentai Senshi Sunred', 'The Disappearance of Conan Edogawa: The Worst Two Days in History', 'Mobile Suit Gundam', 'Mobile Suit Gundam III: Encounters in Space', 'Mobile Suit Gundam SEED', 'Overlord II', 'Ranma ½', 'Shaman King', 'Shanhe Jian Xin', 'Snow Halation', 'Texhnolyze', 'Tiger & Bunny Movie 2: The Rising', 'Toshokan Sensou: Kakumei no Tsubasa', \"City Hunter '91\", 'Detective Conan OVA 10: Kid in Trap Island', 'Free! Movie 4: The Final Stroke - Zenpen', 'Genshiken 2', 'Gochuumon wa Usagi Desu ka??: Sing for You', 'Heike Monogatari', 'Kino no Tabi: The Beautiful World - Nanika wo Suru Tame ni - Life Goes On.', 'Kochira Katsushikaku Kameari Kouenmae Hashutsujo', 'Kyou kara Maou! 3rd Series', 'Little Witch Academia: Mahoujikake no Parade', 'Aggressive Retsuko (ONA) 2nd Season', 'BanG Dream! Garupa☆Pico: Oomori', 'Charlotte', 'Claymore', 'Doraemon (1979)', 'Free! Take Your Marks', 'Go! Princess Precure', 'Golden Time', 'Gundam Build Fighters', 'Hibike! Euphonium Movie 3: Chikai no Finale', 'InuYasha: Kuroi Tessaiga', 'Jinrui wa Suitai Shimashita', 'Junjou Romantica 2', 'Kuroko no Basket: Last Game NG-shuu', 'Mobile Suit Gundam Wing: Endless Waltz', 'Saint Seiya: Meiou Hades Meikai-hen', 'Shadows House', 'Shiki', 'Shokugeki no Souma: Shin no Sara', 'Star☆Twinkle Precure: Hoshi no Uta ni Omoi wo Komete', 'Tamayura: Sotsugyou Shashin Part 2 - Hibiki', 'Tantei Gakuen Q', 'Tegamibachi Reverse', 'Udon no Kuni no Kiniro Kemari', 'Ushiro no Shoumen Daare', 'Neko no Ongaeshi', 'Ranma ½ OVA', 'Saint Seiya', 'Sidonia no Kishi: Daikyuu Wakusei Seneki', 'Uchuu Senkan Yamato 2199: Hoshimeguru Hakobune', 'Ueki no Housoku', 'Wonder Egg Priority', 'Ani ni Tsukeru Kusuri wa Nai! 2', 'Bishoujo Senshi Sailor Moon Crystal Season III', 'Black Jack', 'Crayon Shin-chan', 'Detective Conan Movie 24: The Scarlet Bullet', 'Doukyonin wa Hiza, Tokidoki, Atama no Ue.', 'Dragon Ball Z Special 2: Zetsubou e no Hankou!! Nokosareta Chousenshi - Gohan to Trunks', 'Free! Movie 3: Road to the World - Yume', 'Gakuen Babysitters Special', 'Kobayashi-san Chi no Maid Dragon: Valentine, Soshite Onsen! - Amari Kitai Shinaide Kudasai', 'Kyoukai no Kanata', 'Kyousou Giga (TV)', 'Lucky☆Star', 'Mairimashita! Iruma-kun', 'Arakawa Under the Bridge x Bridge', 'Asagao to Kase-san.', 'Final Fantasy VII: Advent Children', 'Gate: Jieitai Kanochi nite, Kaku Tatakaeri 2nd Season', 'Gekkan Shoujo Nozaki-kun Specials', 'Ginga Eiyuu Densetsu: Die Neue These - Kaikou', 'Hidamari Sketch x 365 Specials', 'Junjou Romantica OVA', 'Koukaku Kidoutai: Stand Alone Complex - Solid State Society 3D', 'Mahouka Koukou no Rettousei: Tsuioku-hen', 'Master Keaton OVA', 'Noragami OVA', 'Pokemon: The Origin', 'Psycho-Pass: Sinners of the System Case.3 - Onshuu no Kanata ni＿＿', 'School Rumble: Ichi Gakki Hoshuu', 'Slayers', 'Sonny Boy', 'Tetsuwan Birdy Decode:02', 'Yamato Nadeshiko Shichihenge♥', 'Memories', 'Mujin Wakusei Survive', 'Nanatsu no Taizai', 'New Game!!', 'One Piece Movie 06: Omatsuri Danshaku to Himitsu no Shima', 'One Piece: Episode of Sabo - 3 Kyoudai no Kizuna Kiseki no Saikai to Uketsugareru Ishi', 'Psycho-Pass Movie', 'Rozen Maiden: Ouvertüre', 'Rurouni Kenshin DVD-BOX Special Ending', 'Taiyou no Ko Esteban', 'Tsuki ga Michibiku Isekai Douchuu', 'Wan Sheng Jie 3', 'Watashi no Ashinaga Ojisan', 'Berserk: Ougon Jidai-hen I - Haou no Tamago', 'Break Blade 2: Ketsubetsu no Michi', 'Change!! Getter Robo: Sekai Saigo no Hi', \"Chi's Sweet Home: Atarashii Ouchi\", 'Chuunibyou demo Koi ga Shitai!', 'Detective Conan Movie 19: The Hellfire Sunflowers', 'Douluo Dalu: Feng Qi Tang Men', 'Doupo Cangqiong 3rd Season', 'Haikyuu!! Lev Genzan!', 'Hakuouki Movie 2: Shikon Soukyuu', 'Heikousen', 'IDOLiSH7', 'Karakai Jouzu no Takagi-san', 'Kuroko no Basket 2nd Season NG-shuu', \"Kyoukai no Kanata Movie 1: I'll Be Here - Kako-hen\", 'Macross Plus Movie Edition', 'Akagami no Shirayuki-hime: Nandemonai Takaramono, Kono Page', 'Akage no Anne', 'Aoi Bungaku Series', 'BanG Dream! 5th Anniversary Animation: CiRCLE Thanks Party!', 'Bishoujo Senshi Sailor Moon', 'D.Gray-man Hallow', 'Daicon Opening Animations', 'Detective Conan Movie 16: The Eleventh Striker', 'Dragon Ball Kai', 'Gakkou no Kaidan', 'Girls & Panzer: Kore ga Hontou no Anzio-sen Desu!', 'Hanasakeru Seishounen', 'Hourou Musuko', 'Joshikousei no Mudazukai', 'Jujutsu Kaisen', 'Little Busters!: EX', 'Macross Plus', 'Nurarihyon no Mago OVA', 'One Punch Man: Road to Hero', 'Panty & Stocking with Garterbelt', 'Shingeki no Kyojin: Chronicle', 'Shirobako Movie', 'Turn A Gundam', 'Uramichi Oniisan', 'Mobile Suit Gundam Wing', 'One Punch Man Specials', 'Princess Principal', 'Princess Principal: Crown Handler Movie 2', 'Seitokai Yakuindomo*', 'Shingeki no Kyojin Movie 1: Guren no Yumiya', 'Soukou Kihei Votoms', 'Tenshi no Tamago', 'Urusei Yatsura', 'Ani ni Tsukeru Kusuri wa Nai! 3', 'Baka to Test to Shoukanjuu Ni!', 'BanG Dream! Film Live', 'Bishoujo Senshi Sailor Moon Eternal Movie 2', 'Bishoujo Senshi Sailor Moon R', 'Bishoujo Senshi Sailor Moon R: The Movie', 'Death Note: Rewrite', 'Gate: Jieitai Kanochi nite, Kaku Tatakaeri', 'JoJo no Kimyou na Bouken: Phantom Blood', 'Koutetsujou no Kabaneri Movie 3: Unato Kessen', 'Kuroko no Basket Movie 2: Winter Cup - Namida no Saki e', 'Ansatsu Kyoushitsu 2nd Season: Kagaijugyou-hen', 'BanG Dream! Movie: Episode of Roselia - I: Yakusoku', 'Binbougami ga!', 'Break Blade 6: Doukoku no Toride', 'Enen no Shouboutai', 'Hayate no Gotoku!!', 'Ichigo Mashimaro Encore', 'Ichigo Mashimaro OVA', 'Kami nomi zo Shiru Sekai: Tenri-hen', 'Keroro Gunsou', 'Kill la Kill Specials', 'Kino no Tabi: The Beautiful World - Byouki no Kuni - For You', 'Kuroko no Basket Movie 1: Winter Cup - Kage to Hikari', 'Macross F: Close Encounter - Deculture Edition', 'Muumindani no Suisei', 'Saint Seiya: Meiou Hades Juuni Kyuu-hen - Yomigaerishi Gold Saint-tachi no Shinwa', 'Seikai no Senki', 'Sekaiichi Hatsukoi', 'Senpai ga Uzai Kouhai no Hanashi', 'Seto no Hanayome', 'Shigatsu wa Kimi no Uso: Moments', 'Shuumatsu Nani Shitemasu ka? Isogashii Desu ka? Sukutte Moratte Ii Desu ka?', 'Uchuu Kaizoku Captain Herlock', 'Yuru Yuri,', 'Manga de Wakaru! Fate/Grand Order', 'Mitsudomoe Zouryouchuu!', 'Pandora Hearts', 'Shoukoujo Sara', 'Space Cobra', 'Tenkuu no Escaflowne', 'Toaru Kagaku no Railgun', 'Tong Ling Fei', 'Yuuki Yuuna wa Yuusha de Aru: Washio Sumi no Shou', 'Yuuseiboushi', '5-toubun no Hanayome', 'Aria the Animation', 'Bishoujo Senshi Sailor Moon S: Kaguya-hime no Koibito', 'Bokura wa Minna Kawai-sou', \"Chi's Sweet Home\", 'Detective Conan Movie 17: Private Eye in the Distant Sea', 'Durarara!!x2 Shou: Watashi no Kokoro wa Nabe Moyou', 'Fruits Basket', 'Ghost (Music)', 'Giovanni no Shima', 'Kakkou no Iinazuke', 'Kami nomi zo Shiru Sekai', 'Kanojo to Kanojo no Neko: Everything Flows', 'Kengan Ashura Part 2', 'Kidou Keisatsu Patlabor: On Television', 'Kuroko no Basket 3rd Season NG-shuu', 'Kuroshitsuji', '3D Kanojo: Real Girl 2nd Season', 'ACCA: 13-ku Kansatsu-ka', 'Arslan Senki (TV)', 'Detective Conan Movie 21: The Crimson Love Letter', 'Dragon Ball Kai (2014)', 'Drifters: Special Edition', 'Full Metal Panic! The Second Raid: Wari to Hima na Sentaichou no Ichinichi', 'Hachimitsu to Clover Specials', 'Hakumei to Mikochi', 'Heion Sedai no Idaten-tachi', 'InuYasha Movie 2: Kagami no Naka no Mugenjo', 'Kakushigoto Movie', 'Kimi to Boku.', 'Kuroko no Basket NG-shuu', 'Minami-ke', 'Mousou Dairinin', 'Naruto: Shippuuden Movie 6 - Road to Ninja', 'Nejimaki Seirei Senki: Tenkyou no Alderamin', 'Pokemon XY&Z', 'Seikai no Senki III', 'Sexy Commando Gaiden: Sugoi yo!! Masaru-san', 'Shin Mazinger Shougeki! Z-hen', 'Tsuritama', 'Minami-ke Tadaima', \"Mobile Suit Gundam: Char's Counterattack\", 'Poyopoyo Kansatsu Nikki', 'Rilakkuma to Kaoru-san', 'Seikai no Monshou', 'Sidonia no Kishi', 'Slam Dunk: Hoero Basketman-damashii! Hanamichi to Rukawa no Atsuki Natsu', 'Working!!', 'Yowamushi Pedal: New Generation', 'Yuuki Yuuna wa Yuusha de Aru: Yuusha no Shou', 'Aggressive Retsuko (ONA)', 'Arashi no Yoru ni', 'Bokura wa Minna Kawai-sou: Hajimete no', 'Bounen no Xamdou', 'Bungou Stray Dogs: Hitori Ayumu', 'D4DJ: First Mix', 'Fairy Tail (2014)', 'Hai to Gensou no Grimgar', 'Inuyashiki', 'Junjou Romantica 3', 'Kindaichi Shounen no Jikenbo Returns 2nd Season', 'Ao Ashi', 'Ao Haru Ride', 'Cardcaptor Sakura: Clear Card-hen', 'Code Geass: Hangyaku no Lelouch II - Handou', 'Daa! Daa! Daa!', 'Flip Flappers', 'Isekai Shokudou 2', 'K: Missing Kings', 'Kokoro Yohou', 'Kyou kara Maou!', 'Machikado Mazoku', 'Maria-sama ga Miteru: Haru', 'Natsume Yuujinchou: Nyanko-sensei to Hajimete no Otsukai', 'Ojamajo Doremi Dokkaan!', 'Overlord Movie 2: Shikkoku no Eiyuu', 'Ranma ½ Super', 'Shinigami Bocchan to Kuro Maid', 'Tiger & Bunny 2', 'Nanatsu no Taizai: Imashime no Fukkatsu', 'Piano no Mori', 'R.O.D: Read or Die', 'Servant x Service', 'Shingeki no Bahamut: Genesis', 'Shoujo☆Kageki Revue Starlight', 'Tenchi Muyou! Ryououki 2nd Season', 'Tian Bao Fuyao Lu 2nd Season', 'Uchuu Senkan Yamato 2202: Ai no Senshi-tachi', 'Utawarerumono', 'White Album 2', 'AKB0048: Next Stage', 'Break Blade 1: Kakusei no Toki', 'Detective Conan Movie 10: Promo Special', 'Digimon Adventure tri. 3: Kokuhaku', 'Free! Eternal Summer', 'Free!: FrFr - Short Movie', 'Genshiken', 'Genshiken OVA', 'Hana yori Dango', 'Hug tto! Precure♡Futari wa Precure Movie: All Stars Memories', 'Huyao Xiao Hongniang: Yue Hong', 'Ichigo Mashimaro', 'Inazuma Eleven', 'Initial D Battle Stage 2', 'Jungle wa Itsumo Hare nochi Guu Final', 'Kimagure Orange☆Road: Ano Hi ni Kaeritai', 'Koyomimonogatari', 'Kyoukai no Kanata: Shinonome', 'Luo Xiao Hei Zhan Ji', 'Lupin III', 'Mahoujin Guruguru', 'Aggressive Retsuko', 'Akudama Drive', 'Blood+', 'Bokura no', 'Cardcaptor Sakura Movie 1', 'Chrno Crusade', 'Da Wang Rao Ming', 'Digimon Tamers', 'Eikoku Koi Monogatari Emma', 'Free! Movie 2: Timeless Medley - Yakusoku', 'Fune wo Amu', 'Gabriel DropOut Specials', 'Gakuen Alice', 'Hakkenden: Touhou Hakken Ibun 2nd Season', 'Hakuouki Movie 1: Kyoto Ranbu', 'Hellsing: Digest for Freaks', 'High School Fleet Movie', 'Ima, Soko ni Iru Boku', 'Jigoku Shoujo Mitsuganae', 'K: Seven Stories Movie 5 - Memory of Red - Burn', 'Layton Kyouju to Eien no Utahime', 'Mahou Shoujo Lyrical Nanoha StrikerS', 'Mob Psycho 100: Dai Ikkai Rei toka Soudansho Ian Ryokou - Kokoro Mitasu Iyashi no Tabi', 'Nezha Zhi Mo Tong Jiang Shi', 'Non Non Biyori: Okinawa e Ikukoto ni Natta', 'Owari no Seraph: Nagoya Kessen-hen', 'Pokemon Movie 01: Mewtwo no Gyakushuu', 'Prison School', 'Rozen Maiden: Träumend', 'Tegamibachi', 'Tenchi Muyou! Ryououki', 'Tennis no Ouji-sama: Another Story - Kako to Mirai no Message', 'Toaru Hikuushi e no Tsuioku', 'Top wo Nerae 2! Diebuster', 'Trapp Ikka Monogatari', 'Wu Dong Qian Kun 2nd Season', 'Nurarihyon no Mago', 'Orange', \"Persona 3 the Movie 2: Midsummer Knight's Dream\", 'Puparia', 'Rokuhou-dou Yotsuiro Biyori', 'Ryuu to Sobakasu no Hime', 'Shin Tennis no Ouji-sama OVA vs. Genius 10', 'Shoujo Kakumei Utena: Adolescence Mokushiroku', 'Shoujo☆Kageki Revue Starlight: Rondo Rondo Rondo', 'Soredemo Sekai wa Utsukushii', 'Tamayura: Sotsugyou Shashin Part 1 - Kizashi', 'Tsurune: Kazemai Koukou Kyuudoubu', 'Diamond no Ace: Second Season OVA', 'Evangelion: 3.0 You Can (Not) Redo', 'Full Metal Panic!', 'Fushigi Yuugi', 'Gakkougurashi!', 'Hanma Baki: Son of Ogre', 'Jigoku Shoujo', 'Kishibe Rohan wa Ugokanai', 'Kuroko no Basket: Mou Ikkai Yarimasen ka', 'Ajin 2nd Season', 'BanG Dream! Garupa☆Pico Fever!', 'Bishoujo Senshi Sailor Moon SuperS', 'Byousoku 5 Centimeter', 'Chuuka Ichiban!', 'Date A Bullet: Nightmare or Queen', 'Doraemon (2005)', 'Free! Dive to the Future', 'Hakuouki: Sekkaroku', 'Heartcatch Precure! Movie: Hana no Miyako de Fashion Show... Desu ka!?', 'Hourou Musuko Specials', 'Kekkai Sensen', 'Kekkaishi (TV)', 'Kimi to, Nami ni Noretara', 'Konnichiwa Anne: Before Green Gables', 'Love Live! Sunshine!! The School Idol Movie: Over the Rainbow', 'Majo Minarai wo Sagashite', 'One Piece: Episode of Luffy - Hand Island no Bouken', 'Overlord Movie 1: Fushisha no Ou', 'Ranma ½: Yomigaeru Kioku', 'Romeo x Juliet', 'Ruru-chan no Jisatsu Haishin', 'Soukyuu no Fafner: Dead Aggressor - Exodus 2nd Season', 'The iDOLM@STER', 'Uchuu Kyoudai: Number Zero', 'Zhen Hun Jie', 'Master Keaton', 'Mobile Suit Gundam Unicorn RE:0096', 'Momo e no Tegami', 'Nisekoi', 'Osomatsu-san 2nd Season', 'Persona 3 the Movie 3: Falling Down', 'Re:Zero kara Hajimeru Isekai Seikatsu - Hyouketsu no Kizuna', 'The iDOLM@STER Movie: Kagayaki no Mukougawa e!', 'Towa no Quon 6: Towa no Quon', 'Ashita no Nadja', 'Asobi Asobase Specials', 'Black Jack (TV)', 'Bleach Movie 4: Jigoku-hen', 'Chibi Maruko-chan', 'Detective Conan Movie 09: Promo Special', 'Diamond no Ace OVA', 'Doupo Cangqiong 2nd Season', 'Ga-Rei: Zero', 'Juubee Ninpuuchou', 'Kareshi Kanojo no Jijou', 'Kino no Tabi: The Beautiful World - The Animated Series', 'Majin Tantei Nougami Neuro', 'Air Gear: Kuro no Hane to Nemuri no Mori - Break on the Sky', 'Ao no Exorcist Movie', 'Baka to Test to Shoukanjuu: Matsuri', 'Boku no Hero Academia the Movie 1: Futari no Hero', 'Code Geass: Hangyaku no Lelouch Special Edition - Black Rebellion', 'Detective Conan: Black History', 'Dragon Quest: Dai no Daibouken (TV)', 'Fairy Tail', 'Fanren Xiu Xian Chuan: Fanren Feng Qi Tian Nan', 'GetBackers', 'Higashi no Eden Movie II: Paradise Lost', 'Hoshiai no Sora', 'Kara no Kyoukai 1: Fukan Fuukei', 'Log Horizon 2nd Season', 'Noein: Mou Hitori no Kimi e', 'Ore wo Suki nano wa Omae dake ka yo: Oretachi no Game Set', 'Penguin Highway', 'Runway de Waratte', 'Sengoku Basara Movie: The Last Party', 'Senjou no Valkyria', 'Senki Zesshou Symphogear AXZ', 'Shouwa Genroku Rakugo Shinjuu: Yotarou Hourou-hen', 'Tsubasa Chronicle 2nd Season', 'Tsurezure Children', 'Tunshi Xingkong 2nd Season', 'Utawarerumono Specials', 'Yahari Ore no Seishun Love Comedy wa Machigatteiru. OVA', 'Yoru wa Honoka', 'New Game!', 'Ongaku', 'Radiant 2nd Season', \"Raison d'être\", 'Strike Witches Movie', 'Sword Art Online: Alicization - War of Underworld', 'Tales of Vesperia: The First Strike', 'To LOVE-Ru Darkness 2nd Specials', 'Uchuu Senkan Yamato', 'Ushio to Tora (TV)', 'World Trigger', 'Yamada-kun to 7-nin no Majo (TV)', 'Yondemasu yo, Azazel-san.', 'Yowamushi Pedal Movie', 'Yowamushi Pedal: Glory Line', 'Yume-iro Pâtissière SP Professional', 'Yuru Yuri', 'Ani ni Tsukeru Kusuri wa Nai! 4', 'Ao Haru Ride OVA', 'BanG Dream! 2nd Season', 'Detective Conan: Conan vs. Kid - Shark & Jewel', 'Digimon Adventure Movie', 'Fate/Grand Order: Shinsei Entaku Ryouiki Camelot 2 - Paladin; Agateram', 'Fukigen na Mononokean Tsuzuki', 'Full Metal Panic! Invisible Victory', 'Gokinjo Monogatari', 'Hakuouki: Hekketsuroku', 'Higashi no Eden: Air Communication', 'Hybrid Child', 'K: Return of Kings', 'Kino no Tabi: The Beautiful World - Tou no Kuni - Free Lance', 'Lupin III: Episode 0 \"First Contact\"', 'Mahou Sensei Negima!: Mou Hitotsu no Sekai', 'Aa! Megami-sama!: Tatakau Tsubasa', 'Angel Beats! Specials', 'Arakawa Under the Bridge', \"Boku no Hero Academia the Movie 3: World Heroes' Mission\", 'Demi-chan wa Kataritai', 'Donten ni Warau Gaiden: Shukumei, Soutou no Fuuma', 'Dungeon ni Deai wo Motomeru no wa Machigatteiru Darou ka', 'Durarara!!x2 Ketsu: Dufufufu!!', 'Garo Movie: Divine Flame', 'Gugure! Kokkuri-san', 'Hataraku Saibou (TV)', 'Higashi no Eden Movie I: The King of Eden', 'Hinomaruzumou', 'Kami no Tou', 'Kara no Kyoukai Remix: Gate of Seventh Heaven', 'Love Live! Sunshine!! 2nd Season', 'Mobile Suit Gundam 00 Special Edition', 'Moyashimon', 'Net-juu no Susume', 'No.6', 'Nodame Cantabile: Finale OVA', 'Saint Seiya: Meiou Hades Elysion-hen', 'Sakamoto Desu ga?', 'Seitokai Yakuindomo', 'Shakugan no Shana II (Second)', 'Sora no Otoshimono: Tokeijikake no Angeloid', 'Sword Art Online Movie: Ordinal Scale', 'Tada-kun wa Koi wo Shinai', 'Tensura Nikki: Tensei shitara Slime Datta Ken', 'Yama no Susume Third Season', 'Minami-ke Okaeri', 'Mini Dragon Specials', 'Mobile Fighter G Gundam', 'Mutsu Enmei Ryuu Gaiden: Shura no Toki', 'Nijuu Mensou no Musume', 'Nobunaga Concerto', 'Patapata Hikousen no Bouken', 'Planetarian: Chiisana Hoshi no Yume', 'Re:Zero kara Hajimeru Isekai Seikatsu - Memory Snow', 'Shounen Onmyouji', 'Slam Dunk: Shouhoku Saidai no Kiki! Moero Sakuragi Hanamichi', 'Sword Art Online: Alicization', 'Tamayura: More Aggressive', 'Uchiage Hanabi', 'Uchuu Patrol Luluco', 'Un-Go: Inga-ron', 'Wakakusa Monogatari: Nan to Jo-sensei', 'Yama no Susume Second Season', 'Aa! Megami-sama!: Sorezore no Tsubasa', 'Bakuten!!', 'Basilisk: Kouga Ninpou Chou', 'Black Jack 21', 'Chuunibyou demo Koi ga Shitai! Ren', 'Dragon Ball Z Movie 12: Fukkatsu no Fusion!! Gokuu to Vegeta', 'Free! Movie 1: Timeless Medley - Kizuna', 'Free!: Dive to the Future - Soushun no Build-up!', 'Gensoumaden Saiyuuki', 'Hakumei no Tsubasa', 'Hakumei to Mikochi: Neji to Bed to Irori to Bakuchi', 'Hokuto no Ken 2', 'Hokuto no Ken: Raoh Gaiden Gekitou-hen', 'Hungry Heart: Wild Striker', 'Initial D Battle Stage', 'Inu x Boku SS Special', 'InuYasha Movie 1: Toki wo Koeru Omoi', 'Itai no wa Iya nano de Bougyoryoku ni Kyokufuri Shitai to Omoimasu.', 'Aa! Megami-sama! Movie', 'Bishoujo Senshi Sailor Moon SuperS: Sailor 9 Senshi Shuuketsu! Black Dream Hole no Kiseki', 'Darker than Black: Kuro no Keiyakusha - Sakura no Hana no Mankai no Shita', 'Date A Bullet: Dead or Bullet', 'Doraemon Movie 07: Nobita to Tetsujin Heidan', 'Dragon Ball Z Special 1: Tatta Hitori no Saishuu Kessen', 'Fairy Tail: Final Series', 'Giant Killing', 'Ginga Tetsudou 999 (Movie)', 'Hello! Lady Lynn', 'Heya Camp△: Sauna to Gohan to Sanrin Bike', 'InuYasha Movie 4: Guren no Houraijima', 'Jigoku Sensei Nube', 'Kaguya-sama wa Kokurasetai: Tensai-tachi no Renai Zunousen OVA', 'Kaitou Saint Tail', 'Katekyo Hitman Reborn! Vongola Family Soutoujou! Vongola Shiki Shuugakuryokou, Kuru!!', 'Kidou Keisatsu Patlabor the Movie', 'Kidou Keisatsu Patlabor: New OVA', 'Kuroko no Basket: Baka ja Katenai no yo!', 'Majo no Tabitabi', 'Mashiro no Oto', 'Mitsudomoe', 'Mitsudomoe: Oppai Ippai Mama Genki', 'One Piece Movie 04: Dead End no Bouken', 'Over Drive', 'Perrine Monogatari', 'Persona 3 the Movie 1: Spring of Birth', 'Re:Creators', 'Rurouni Kenshin: Meiji Kenkaku Romantan - Ishinshishi e no Chinkonka', 'Shin Tennis no Ouji-sama', 'Shoubushi Densetsu Tetsuya', 'Shoukoku no Altair', 'To LOVE-Ru Darkness OVA', 'Toaru Majutsu no Index II', 'Tonari no Seki-kun', 'Towa no Quon 4: Guren no Shoushin', 'Yondemasu yo, Azazel-san. Z', 'Yuru Camp△ Specials', 'Yuuki Yuuna wa Yuusha de Aru: Washio Sumi no Shou 1 - Tomodachi', 'Mekakucity Records', 'Muteki-kyuu*Believer / Mirai Harmony', 'Pretty Rhythm: Rainbow Live', 'Princess Principal: Crown Handler Movie 1', 'R.O.D: The TV', 'Slam Dunk: Zenkoku Seiha Da! - Sakuragi Hanamichi', 'So Ra No Wo To', 'Taiho Shichau zo (TV)', 'Tian Bao Fuyao Lu', 'To LOVE-Ru Darkness 2nd OVA', 'Tokyo Autumn Session', 'Voy@ger', 'Xingchen Bian', 'Yao Shen Ji: Ying Yao Pian', 'Afro Samurai Movie', 'Aikatsu Stars!', 'Baka to Test to Shoukanjuu', 'Boku no Hero Academia the Movie 2: Heroes:Rising - Epilogue Plus - Yume wo Genjitsu ni', 'Candy Candy', 'Densetsu no Yuusha no Densetsu', 'Durarara!!x2 Ten: Onoroke Chakapoko', 'Fugou Keiji: Balance:Unlimited', 'Haikyuu!! Tokushuu! Haru-kou Volley ni Kaketa Seishun', 'Hataraku Saibou Black (TV)', 'Hibike! Euphonium Movie 1: Kitauji Koukou Suisougaku-bu e Youkoso', 'Hoshi wo Ou Kodomo', 'Huyao Xiao Hongniang: Wangquan Fugui', 'Ike! Ina-chuu Takkyuubu', 'Junjou Romantica', 'Kemono Friends', 'Kimagure Orange☆Road', 'Koutetsujou no Kabaneri Movie 2: Moeru Inochi', 'Liang Bu Yi', 'Lord El-Melloi II Sei no Jikenbo: Rail Zeppelin Grace Note Special', 'Love Live! Nijigasaki Gakuen School Idol Doukoukai', 'Amaama to Inazuma', 'Asobi Asobase: Cosplay Taikai/Otona no Watashi e', 'Cike Wu Liuqi Fanwai', 'D-Frag!', 'Denpa-teki na Kanojo', 'Drifters (OVA)', 'Fairy Tail Movie 2: Dragon Cry', 'Fate/kaleid liner Prisma☆Illya 3rei!!', 'Final Fantasy VII: Advent Children - Venice Film Festival Footage', 'Fugou Keiji: Balance:Unlimited', 'Fullmetal Alchemist: The Conqueror of Shamballa', 'Golgo 13 (TV)', 'Hayate no Gotoku!', 'Hello World', 'Heroic Age', 'Hidamari Sketch Specials', 'Journey: Taiko Arabia Hantou de no Kiseki to Tatakai no Monogatari', 'Kindaichi Shounen no Jikenbo Returns', 'Konjiki no Gash Bell!!', 'Koutetsujou no Kabaneri Movie 1: Tsudou Hikari', 'Kuroshitsuji: Sono Shitsuji, Kougyou', 'Mahou Shoujo Lyrical Nanoha: Detonation', 'Metropolis', 'Naruto: Shippuuden - Sunny Side Battle', 'Ojiisan no Lamp', 'Saki Achiga-hen: Episode of Side-A Specials', 'Sengoku Basara Ni', 'Shion no Ou', 'So Ra No Wo To Specials', 'The Big O', 'Toriko', 'Totsukuni no Shoujo', 'Tsubasa Chronicle', 'UFO Robo Grendizer', 'Mekakucity Days', 'Nanatsu no Taizai OVA', \"Ningen Shikkaku: Director's Cut-ban\", 'Shakugan no Shana III (Final)', 'Special A', 'Yondemasu yo, Azazel-san. (TV)', 'Aa! Megami-sama! (TV) Specials', 'Ao no Exorcist', 'Baki: Dai Raitaisai-hen', 'Casshern Sins', 'Da Yu Hai Tang (Movie)', 'Doraemon Movie 27: Nobita no Shin Makai Daibouken - 7-nin no Mahoutsukai', 'Dragon Ball Kai: Mirai ni Heiwa wo! Goku no Tamashii yo Eien ni', 'Fantastic Children', 'Fushigi no Umi no Nadia', 'Girls & Panzer', 'Hollowness', 'Initial D: Project D to the Next Stage - Project D e Mukete', 'Irozuku Sekai no Ashita kara', 'Kakuriyo no Yadomeshi', 'Karakai Jouzu no Takagi-san: Water Slide', 'Kiniro Mosaic: Pretty Days', 'Macross Zero', 'Aa! Megami-sama!: Sorezore no Tsubasa Specials', 'Area 88', 'Arslan Senki (TV): Fuujin Ranbu', 'City Hunter: Goodbye My Sweetheart', 'Dance Dance Danseur', 'Deaimon', 'Detective Conan Magic File 2: Kudou Shinichi - The Case of the Mysterious Wall and the Black Lab', 'Doupo Cangqiong Specials', 'Elfen Lied', 'Fate/Grand Order', 'Flying Witch', 'Gokushufudou Part 2', 'Golden Kamuy 2nd Season OVA', 'Happy Party Train', 'Hello!! Kiniro Mosaic', 'KanColle Movie', 'Kappa no Coo to Natsuyasumi', 'Konohana Kitan', 'Kore wa Zombie Desu ka? of the Dead', 'Kyoukaisenjou no Horizon II', 'Magic Knight Rayearth II', 'Momoko, Kaeru no Uta ga Kikoeru yo.', 'One Piece: Heart of Gold', 'Ranma ½: Akumu! Shunmin Kou', 'Rikei ga Koi ni Ochita no de Shoumei shitemita. Heart', 'Shin Tennis no Ouji-sama Specials', 'Shiroi Suna no Aquatope', 'Towa no Quon 5: Souzetsu no Raifuku', 'Wakaokami wa Shougakusei! Movie', 'Yaoguai Mingdan 2nd Season', 'Zombieland Saga', 'Major 2nd (TV) 2nd Season', 'Minami-ke Betsubara', 'Oban Star-Racers', 'Ouritsu Uchuugun: Honneamise no Tsubasa', 'Paniponi Dash!: Danjite Okonaeba Kishin mo Kore wo Saku', 'Persona 4 the Animation', 'Precure All Stars Movie DX3: Mirai ni Todoke! Sekai wo Tsunagu☆Nijiiro no Hana', 'Saenai Heroine no Sodatekata', 'Sarazanmai', 'Seishun Buta Yarou wa Bunny Girl Senpai no Yume wo Minai Picture Drama', 'Shinchou Yuusha: Kono Yuusha ga Ore Tueee Kuse ni Shinchou Sugiru', 'Shingeki no Kyojin Season 3 Specials', 'Sora no Aosa wo Shiru Hito yo', 'Tanoshii Muumin Ikka Bouken Nikki', 'Tasogare Otome x Amnesia: Taima Otome', 'Tennis no Ouji-sama: Another Story II - Ano Toki no Bokura', 'The Perfect World', 'Yamiyo', 'Yawara!', 'Yoru no Kuni', 'Zipang', 'Aharen-san wa Hakarenai', 'Air Gear', 'Bleach Movie 3: Fade to Black - Kimi no Na wo Yobu', 'Bokura Mada Underground', 'Chuunibyou demo Koi ga Shitai!: Kirameki no... Slapstick Noel', 'Demi-chan wa Kataritai: Demi-chan no Natsuyasumi', 'Donten ni Warau', 'Doupo Cangqiong 2nd Season Specials', 'Gochuumon wa Usagi Desu ka?', 'Grisaia no Kajitsu', 'Gundam Build Divers Re:Rise 2nd Season', 'Itte.', 'Kamisama no Memochou', 'Kidou Senkan Nadesico', 'Koi wa Ameagari no You ni', 'Ling Qi 2', 'Little Busters!', 'Luo Xiao Hei Zhan Ji: Zhongsheng Zhi Men', 'Madang-eul Naon Amtalg', 'Another', 'Bai She: Yuan Qi', 'Be-Bop Highschool', 'Bishoujo Senshi Sailor Moon Eternal Movie 1', 'Detective Conan OVA 04: Conan and Kid and Crystal Mother', 'Doraemon Movie 26: Nobita no Kyouryuu 2006', 'Furiko', 'Haikara-san ga Tooru Movie 1: Benio, Hana no 17-sai', 'Hanbun no Tsuki ga Noboru Sora', 'Hellsing', 'Heppoko Jikken Animation Excel♥Saga', 'Hetalia World Series', 'Hetalia: The Beautiful World Specials', 'High School DxD New', 'Hime-chan no Ribbon', 'Hitoribocchi no Marumaru Seikatsu', 'Kaichou wa Maid-sama!: Omake dayo!', 'Kaleido Star: Aratanaru Tsubasa - Extra Stage', 'Koukaku Kidoutai Arise: Ghost in the Shell - Border:2 Ghost Whispers', 'Kumo no Mukou, Yakusoku no Basho', 'Lady Lady!!', 'Nanbaka 2', 'Owari no Seraph', 'Persona 4 the Animation: No One is Alone', 'Saint☆Oniisan', 'Tensei shitara Slime Datta Ken OVA', 'Tonari no Kaibutsu-kun', 'Waga Seishun no Arcadia', 'Zettai Karen Children: The Unlimited - Hyoubu Kyousuke', 'Mieruko-chan', 'Mondaiji-tachi ga Isekai kara Kuru Sou Desu yo?', 'One Piece Movie 09: Episode of Chopper Plus - Fuyu ni Saku, Kiseki no Sakura', 'Otome Game no Hametsu Flag shika Nai Akuyaku Reijou ni Tensei shiteshimatta...', 'Psycho-Pass: Sinners of the System Case.2 - First Guardian', 'Sayonara Zetsubou Sensei Special', 'Shinryaku!? Ika Musume', 'Shokugeki no Souma: Ni no Sara OVA', 'Sora no Otoshimono: Forte', 'Totsukuni no Shoujo (2022)', 'Yozakura Quartet: Hana no Uta', 'Yozakura Quartet: Tsuki ni Naku', 'Yu☆Gi☆Oh! The Dark Side of Dimensions', 'Acchi Kocchi', 'Aikatsu! Movie', 'Amagi Brilliant Park', 'Ani ni Tsukeru Kusuri wa Nai!', 'Bobobo-bo Bo-bobo', 'Charlotte: Tsuyoimono-tachi', 'Code Geass: Boukoku no Akito 2 - Hikisakareshi Yokuryuu', 'Detective Conan Magic File 4: Osaka Okonomiyaki Odyssey', 'Fairy Tail OVA', 'Fullmetal Alchemist: Brotherhood - 4-Koma Theater', 'Hetalia World Series Specials', 'Hokuto no Ken Zero: Kenshirou Den', 'Hoozuki no Reitetsu 2nd Season OVA', 'Itsudatte Bokura no Koi wa 10 cm Datta.', 'Kara no Kyoukai 6: Boukyaku Rokuon', 'Acchi Kocchi: Place=Princess', 'Ajin Part 1: Shoudou', 'Akame ga Kill!', 'Angel Densetsu', 'Carnival Phantasm EX Season', 'Genjitsu Shugi Yuusha no Oukoku Saikenki Part 2', 'Gintama: Monster Strike-hen', 'Grappler Baki: Saidai Tournament-hen', 'Haiyore! Nyaruko-san F', 'Hibike! Euphonium: Kakedasu Monaka', 'Ishuzoku Reviewers', 'Joshiraku', 'Kamichu! Specials', 'Kara no Kyoukai Movie: Mirai Fukuin - Extra Chorus', 'Oushitsu Kyoushi Heine', 'Psycho-Pass 3', 'Rakudai Kishi no Cavalry', 'Re:Zero kara Hajimeru Isekai Seikatsu - Memory Snow - Manner Movie', 'Sekaiichi Hatsukoi: Propose-hen', 'Shakugan no Shana', 'Shigofumi', 'Shinryaku!! Ika Musume', 'Sugar Sugar Rune', 'Suisei no Gargantia', 'Suteki Desu wa, Sakura-chan! Tomoyo no Cardcaptor Sakura Katsuyaku Video Nikki!', 'Suzumiya Haruhi-chan no Yuuutsu', \"Tales of Symphonia The Animation: Tethe'alla-hen\", 'The iDOLM@STER: 765 Pro to Iu Monogatari', 'Yeon-ae Halujeon 2', 'Yowamushi Pedal: Spare Bike', 'Yu☆Gi☆Oh! Duel Monsters', 'Marmalade Boy', 'Miira no Kaikata', 'On Your Mark', 'One Punch Man 2nd Season', 'PriPara', 'Saki', 'Samurai 7', 'Senki Zesshou Symphogear G', 'Shokugeki no Souma: San no Sara - Kyokuseiryou no Erina', 'Star☆Twinkle Precure', 'Sword Art Online: Alicization - War of Underworld 2nd Season', 'Taiho Shichau zo', 'Tennis no Ouji-sama Movie 2: Eikokushiki Teikyuu Shiro Kessen!', 'Tennis no Ouji-sama: Atobe kara no Okurimono - Kimi ni Sasageru Tennis Prince Matsuri', 'To LOVE-Ru Darkness 2nd', 'Toaru Kagaku no Railgun: Misaka-san wa Ima Chuumoku no Mato Desu kara', 'Tokyo Ravens', 'Tsugu Tsugumomo', 'Uchuu no Kishi Tekkaman Blade', 'Wangan Midnight', 'Wu Geng Ji Zhi Tianqi', 'Zero no Tsukaima F', 'Angel Beats!: Another Epilogue', 'Chouyaku Hyakuninisshu: Uta Koi.', 'Days: Touin Gakuen-sen!', 'Digimon Adventure tri. 2: Ketsui', \"Doggy God's Street\", 'Doraemon Movie 40: Nobita no Shin Kyouryuu', 'Fate/stay night: Unlimited Blade Works 2nd Season - Sunny Day', 'Gabriel DropOut', 'Hetalia: The Beautiful World', 'Hokuto no Ken: Raoh Gaiden Junai-hen', 'Honzuki no Gekokujou: Shisho ni Naru Tame ni wa Shudan wo Erandeiraremasen OVA', 'Huyao Xiao Hongniang: Beishan Yaodi', 'Ie Naki Ko Remy Specials', 'Kamikaze Kaitou Jeanne', 'Kishuku Gakkou no Juliet', 'Koi ni Naritai Aquarium', 'Magic Knight Rayearth', 'Mahouka Koukou no Rettousei Movie: Hoshi wo Yobu Shoujo', 'Aishiteruze Baby★★', 'Ano Ko Secret', 'Chio-chan no Tsuugakuro', 'Chuunibyou demo Koi ga Shitai! Ren: The Rikka Wars', 'Cider no You ni Kotoba ga Wakiagaru', 'City Hunter Movie: Shinjuku Private Eyes', 'CLAMP in Wonderland 2', 'Danganronpa 3: The End of Kibougamine Gakuen - Kibou-hen', 'Darker than Black: Ryuusei no Gemini', 'Digimon Adventure tri. 1: Saikai', 'Dungeon ni Deai wo Motomeru no wa Machigatteiru Darou ka III', 'Fanren Xiu Xian Chuan: Fanren Feng Qi Tian Nan Er', 'Future GPX Cyber Formula Sin', 'Gokudou-kun Manyuuki', 'Grappler Baki (TV)', 'Hakuouki: Reimeiroku', 'Hidamari Sketch', 'Itazura na Kiss', 'Junjou Romantica Special', 'K', 'Kiniro no Corda: Primo Passo - Hitonatsu no Encore', 'Kore wa Zombie Desu ka? of the Dead: Hai, Minotake ni Attemasu', 'Koukaku Kidoutai Arise: Ghost in the Shell - Border:1 Ghost Pain', 'Koukaku Kidoutai: Shin Movie', 'Kumo Desu ga, Nani ka?', 'Mahou Shoujo Lyrical Nanoha: Reflection', 'Mahoutsukai Precure! Movie: Kiseki no Henshin! Cure Mofurun!', 'Mardock Scramble: The First Compression', 'Mirai Nikki (TV)', 'Mugen no Ryvius', 'Naruto: Shippuuden Movie 5 - Blood Prison', 'Neo-Aspect', 'Neon Genesis Evangelion: Death & Rebirth', 'Nodame Cantabile OVA', 'Orange: Mirai', 'Otome Youkai Zakuro', 'Pokemon Generations', \"Ryman's Club\", 'Shonan Junai Gumi!', 'Tegamibachi: Hikari to Ao no Gensou Yawa', 'Tenshi na Konamaiki', 'To LOVE-Ru Darkness', 'Toaru Majutsu no Index Movie: Endymion no Kiseki', 'Tonari no Seki-kun Specials', 'Toradora! Recap', 'Toshokan Sensou', 'Uchuu Senkan Yamato 2', 'Xingchen Bian: Xingchen Yao Hai', 'Xue Ying Ling Zhu 2nd Season', 'Oki ni Mesu mama', 'Omoide Poroporo', 'Paniponi Dash!', 'Salaryman Kintarou', 'Senyuu. 2', 'Simoun', 'Soredemo Machi wa Mawatteiru', 'Tales of Symphonia The Animation: Sekai Tougou-hen', 'Tetsuwan Birdy Decode', 'Top wo Nerae! & Top wo Nerae 2! Gattai Movie!!', 'Toradora!: Bentou no Gokui', 'Towa no Quon 3: Mugen no Renza', 'Urusei Yatsura Movie 5: Kanketsu-hen', 'Xiao Lu He Xiao Lan', '5-fun de Wakaru: Violet Evergarden', 'Ano Natsu de Matteru', 'Boku no Hero Academia 5th Season', 'Bokutachi no Remake', 'Brave Story', 'Detective Conan Movie 11: Jolly Roger in the Deep Azure', 'Donten ni Warau Gaiden: Ketsubetsu, Yamainu no Chikai', 'Dungeon ni Deai wo Motomeru no wa Machigatteiru Darou ka Movie: Orion no Ya', 'Genshiken Nidaime', 'Guilty Crown', 'Idoly Pride', 'K: Seven Stories Movie 4 - Lost Small World - Ori no Mukou ni', 'Kengan Ashura', 'Koi wa Sekai Seifuku no Ato de', 'Koukaku Kidoutai Arise: Ghost in the Shell - Border:4 Ghost Stands Alone', 'Lady Jewelpet', 'Mahouka Koukou no Rettousei', 'Ansatsu Kyoushitsu: Deai no Jikan', 'Bleach Movie 1: Memories of Nobody', 'Bleach Movie 2: The DiamondDust Rebellion - Mou Hitotsu no Hyourinmaru', 'Boruto: Naruto the Movie', 'Chou Denji Machine Voltes V', 'Gallery Fake', 'Haha wo Tazunete Sanzenri', 'High School DxD BorN', 'High School DxD BorN: Yomigaeranai Fushichou', 'Kingsglaive: Final Fantasy XV', 'Kiniro no Corda: Primo Passo', 'Kuroshitsuji II Specials', 'Kyou kara Maou! R', 'Level E', 'Mai-HiME', 'Oshi ga Budoukan Ittekuretara Shinu', 'Puchi Pri*Yucie', 'Sayonara Zetsubou Sensei Jo: Zetsubou Shoujo Senshuu', 'Sayonara Zetsubou Sensei Jo: Zoku Zetsubou Shoujo Senshuu', 'Senki Zesshou Symphogear GX', 'Shingeki no Bahamut: Virgin Soul', 'Shinreigari', 'Shinryaku! Ika Musume', 'SSSS.Dynazenon', 'Sukitte Ii na yo.', 'Super Cub', 'Tamayura: More Aggressive - Tsuitachi dake no Shuugakuryokou, Nanode', 'Tenchi Muyou!', 'Tensai Ouji no Akaji Kokka Saisei Jutsu', 'Xian Wang de Richang Shenghuo 2', 'Zero no Tsukaima: Futatsuki no Kishi', 'Major 2nd (TV)', 'Mardock Scramble: The Third Exhaust', 'Medaka Box Abnormal', 'Micchiri Neko March', 'Mitsuboshi Colors', 'Mobile Suit Gundam Wing: Operation Meteor', 'Naruto: Shippuuden Movie 4 - The Lost Tower', 'Ranma ½: Kessen Tougenkyou! Hanayome wo Torimodose!', 'Re:Zero kara Hajimeru Isekai Seikatsu - Hyouketsu no Kizuna - Manner Movie', 'Rozen Maiden', 'Sakurako-san no Ashimoto ni wa Shitai ga Umatteiru', 'Tenchi Muyou! in Love', 'WWW.Working!!', 'Yamada-kun to 7-nin no Majo: Mou Hitotsu no Suzaku-sai', 'Youjo Senki: Sabaku no Pasta Daisakusen', 'Yowamushi Pedal: Re:ROAD', \"Yu☆Gi☆Oh! 5D's\", 'Ajin', 'Aoki Hagane no Arpeggio: Ars Nova Movie 1 - DC', 'Bai She II: Qing She Jie Qi', \"Boku no Hero Academia the Movie 3: World Heroes' Mission - Tabidachi\", 'Captain Tsubasa: Road to 2002', 'City Hunter: The Secret Service', 'Cowboy Bebop: Yose Atsume Blues', 'Detective Conan Magic File 3: Shinichi and Ran - Memories of Mahjong Tiles and Tanabata', 'Doraemon Movie 33: Nobita no Himitsu Dougu Museum', 'Fukigen na Mononokean', 'Gantz:O', 'Goblin Slayer', 'Hakuouki OVA', 'Hal', 'Higurashi no Naku Koro ni Rei', 'Ikoku Meiro no Croisée The Animation', 'Isekai Izakaya: Koto Aitheria no Izakaya Nobu', 'Jewelpet Twinkle☆', 'Kemono Jihen', 'Keroro Gunsou Movie 3: Tenkuu Daikessen de Arimasu!', 'Mahou Sensei Negima!: Shiroki Tsubasa Ala Alba', 'Mahou Shoujo Lyrical Nanoha', 'Aikatsu!', 'Akazukin Chacha', 'Aldnoah.Zero', 'Amagami SS+ Plus', 'Aoki Densetsu Shoot!', 'Ayakashi: Japanese Classic Horror', 'Chobits', 'City Hunter: Kinkyuu Namachuukei!? Kyouakuhan Saeba Ryou no Saigo', 'Crayon Shin-chan Movie 10: Arashi wo Yobu Appare! Sengoku Daikassen', 'Dakaretai Otoko 1-i ni Odosarete Imasu.', 'Danganronpa 3: The End of Kibougamine Gakuen - Zetsubou-hen', 'Dragon Ball Super', 'Freedom', 'Future GPX Cyber Formula Zero', 'Gokusen', 'Hakkenden: Touhou Hakken Ibun', 'Houkago Teibou Nisshi', 'Huyao Xiao Hongniang: Qian Yan', 'Inu x Boku SS', 'Isekai Quartet', \"Jashin-chan Dropkick'\", 'Juan Siliang', 'Kimagure Orange☆Road OVA', 'Love Live! School Idol Project', 'Love Stage!!: Chotto ja Nakutte', 'Mobile Suit Gundam SEED: SEED Supernova - Tanekyara Gekijou', 'Nanatsu no Umi no Tico', 'New Game!: Watashi, Shain Ryokou tte Hajimete nano de...', 'Piano no Mori (TV) 2nd Season', 'Pokemon Black and White 2: Introduction Movie', 'Pokemon XY: Mega Evolution', 'Saki Zenkoku-hen', 'Shugo Chara!! Doki', 'Steins;Gate: Soumei Eichi no Cognitive Computing', 'Taiho Shichau zo: Second Season', 'Tanaka-kun wa Itsumo Kedaruge Specials', 'Tiger & Bunny Movie 1: The Beginning']\n"
          ]
        }
      ]
    },
    {
      "cell_type": "code",
      "source": [
        "# find the closest match for the anime provided by the user\n",
        "find_cl_match = difflib.get_close_matches(anime_name,list_anime_titles)\n",
        "print(find_cl_match)"
      ],
      "metadata": {
        "colab": {
          "base_uri": "https://localhost:8080/"
        },
        "id": "bSnHyTYr5OTo",
        "outputId": "96ef94dc-137f-422d-97e1-e6b6d1b54e16"
      },
      "execution_count": null,
      "outputs": [
        {
          "output_type": "stream",
          "name": "stdout",
          "text": [
            "['Gintama', 'Gintama°', 'Gintama.']\n"
          ]
        }
      ]
    },
    {
      "cell_type": "code",
      "source": [
        "close_match = find_cl_match[0]\n",
        "print(close_match)"
      ],
      "metadata": {
        "colab": {
          "base_uri": "https://localhost:8080/"
        },
        "id": "kN5YfTaW5TFa",
        "outputId": "acf20b4c-8a3b-4d71-88dd-4ffb0ac8b36b"
      },
      "execution_count": null,
      "outputs": [
        {
          "output_type": "stream",
          "name": "stdout",
          "text": [
            "Gintama\n"
          ]
        }
      ]
    },
    {
      "cell_type": "code",
      "source": [
        "#finding the index of anime with the title\n",
        "index_of_anime = anime_data[anime_data.Name == close_match]['Index'].values[0]\n",
        "print(index_of_anime)"
      ],
      "metadata": {
        "colab": {
          "base_uri": "https://localhost:8080/"
        },
        "id": "7bf41PIY5lQ8",
        "outputId": "7c068cb6-cdb0-4ac3-b2fb-4c121797ec62"
      },
      "execution_count": null,
      "outputs": [
        {
          "output_type": "stream",
          "name": "stdout",
          "text": [
            "15\n"
          ]
        }
      ]
    },
    {
      "cell_type": "code",
      "source": [
        "#getting a list of similar anime\n",
        "similarity_score = list(enumerate(similarity[index_of_anime]))\n",
        "print(similarity_score)"
      ],
      "metadata": {
        "colab": {
          "base_uri": "https://localhost:8080/"
        },
        "id": "IyB337vx5nB6",
        "outputId": "97057f23-7176-428c-8b80-7b96ed2fb7f5"
      },
      "execution_count": null,
      "outputs": [
        {
          "output_type": "stream",
          "name": "stdout",
          "text": [
            "[(0, 0.08676838208058105), (1, 0.11778848432256006), (2, 0.07174746074092793), (3, 0.10485541141466041), (4, 0.7768052176385466), (5, 0.7617780465770233), (6, 0.7500234361808844), (7, 0.0962651737532566), (8, 0.0), (9, 0.7768052176385466), (10, 0.11693461653859354), (11, 0.7669152021621374), (12, 0.02530954787719259), (13, 0.0), (14, 0.04160142137176147), (15, 1.0), (16, 0.31800298773387714), (17, 0.030946128873431126), (18, 0.6706530865231328), (19, 0.14828337547808956), (20, 0.040923994604082706), (21, 0.08519049710925514), (22, 0.20580948980012315), (23, 0.7768052176385466), (24, 0.0), (25, 0.07213175754156506), (26, 0.0), (27, 0.07107325265287742), (28, 0.7853932879537789), (29, 0.04605493102611444), (30, 0.0), (31, 0.0), (32, 0.03887462305007864), (33, 0.1516442516645047), (34, 0.031653857340467766), (35, 0.15946026102666136), (36, 0.0), (37, 0.0), (38, 0.07143529191324478), (39, 0.07431171614802987), (40, 0.038756442859491716), (41, 0.150118608343508), (42, 0.17583888679812804), (43, 0.04528910556588687), (44, 0.06166616606860026), (45, 0.0747381902305101), (46, 0.2933942212959504), (47, 0.18609839887149265), (48, 0.16592960795361628), (49, 0.06915265886708896), (50, 0.10769245283758432), (51, 0.1512166018437269), (52, 0.14091263264405293), (53, 0.14091263264405293), (54, 0.04562921642657715), (55, 0.07483456443681212), (56, 0.0), (57, 0.053750719580978684), (58, 0.0), (59, 0.22612425803607483), (60, 0.038756442859491716), (61, 0.0), (62, 0.17064503162227274), (63, 0.03980387432459771), (64, 0.025641113953588857), (65, 0.0), (66, 0.22078763889563563), (67, 0.0), (68, 0.109722553869157), (69, 0.05104640289214608), (70, 0.0), (71, 0.0), (72, 0.07308358764890396), (73, 0.1102101662372348), (74, 0.08324294589811744), (75, 0.0), (76, 0.03723172417763816), (77, 0.03965158761496354), (78, 0.07425967385927189), (79, 0.0), (80, 0.0), (81, 0.0), (82, 0.07224765897488113), (83, 0.027541852274543577), (84, 0.15136715471601855), (85, 0.045830760698959284), (86, 0.03197381542886101), (87, 0.0), (88, 0.07210739772397243), (89, 0.23604943644322784), (90, 0.08543637171625118), (91, 0.10319453067340849), (92, 0.15417850257441953), (93, 0.0), (94, 0.04209871209942254), (95, 0.03135191207252323), (96, 0.04081589483210356), (97, 0.03555345361055967), (98, 0.046656301408513456), (99, 0.8015714073410443), (100, 0.11243007735544658), (101, 0.028384756820156065), (102, 0.07479614475747948), (103, 0.04090345787694598), (104, 0.0), (105, 0.11297146648044783), (106, 0.6299198362543741), (107, 0.13218442281373302), (108, 0.1585245352463235), (109, 0.03485657661872042), (110, 0.13747695830506437), (111, 0.06095301296343075), (112, 0.0), (113, 0.2211389028344724), (114, 0.1433299667762247), (115, 0.5241174608936663), (116, 0.08519049710925514), (117, 0.17854547034515922), (118, 0.21135501840512164), (119, 0.18194328841835905), (120, 0.0855429321553918), (121, 0.0), (122, 0.07253623216016389), (123, 0.0), (124, 0.729346116919641), (125, 0.0), (126, 0.16912336029618322), (127, 0.15094895557909863), (128, 0.033435367026323055), (129, 0.373177779470977), (130, 0.0339781005177837), (131, 0.024292805852382717), (132, 0.17298132698201804), (133, 0.0), (134, 0.16914198276713907), (135, 0.04138141110365611), (136, 0.1646024880004361), (137, 0.13945402829741835), (138, 0.1122692988677102), (139, 0.07549581197623588), (140, 0.3561453093736343), (141, 0.057076156126210864), (142, 0.7979764178297742), (143, 0.10272720137365979), (144, 0.037147561398899576), (145, 0.11661014501488667), (146, 0.042137524511741103), (147, 0.13871297242707928), (148, 0.07335552841512474), (149, 0.3566006353581637), (150, 0.06613370947380934), (151, 0.0), (152, 0.0), (153, 0.0), (154, 0.05120641802904343), (155, 0.0), (156, 0.0), (157, 0.03686474993734118), (158, 0.0), (159, 0.0), (160, 0.0), (161, 0.04336973193798151), (162, 0.608126400968168), (163, 0.04210090712615291), (164, 0.15564491380721868), (165, 0.029259181025284582), (166, 0.0), (167, 0.034845171772963895), (168, 0.06773586113471594), (169, 0.1369749930954027), (170, 0.025289730398438074), (171, 0.023196192937136973), (172, 0.05147508186208564), (173, 0.03179828815991737), (174, 0.02797241504312927), (175, 0.12681733435256023), (176, 0.1519802683417588), (177, 0.04030930869279485), (178, 0.030826550622243123), (179, 0.20393749576087888), (180, 0.0), (181, 0.0), (182, 0.0), (183, 0.0), (184, 0.0), (185, 0.0), (186, 0.06493222538439188), (187, 0.03726897364956625), (188, 0.024363417193744283), (189, 0.13343226761095092), (190, 0.0), (191, 0.035529535411542), (192, 0.43468218251306795), (193, 0.0), (194, 0.0), (195, 0.13782979393617562), (196, 0.12950294739845966), (197, 0.0), (198, 0.1306228017266056), (199, 0.06394962994598377), (200, 0.0), (201, 0.12253167518014005), (202, 0.0), (203, 0.14146461577668332), (204, 0.09663944003070558), (205, 0.0), (206, 0.0), (207, 0.0), (208, 0.02929945868889506), (209, 0.1172450975102336), (210, 0.0), (211, 0.18688165948824717), (212, 0.08636432121657568), (213, 0.09340614665570142), (214, 0.0), (215, 0.0), (216, 0.025993589950750517), (217, 0.0), (218, 0.0), (219, 0.0), (220, 0.23167249709873636), (221, 0.0), (222, 0.1644047932516289), (223, 0.041611385428165365), (224, 0.0), (225, 0.06062261970120441), (226, 0.0), (227, 0.0), (228, 0.09535790684094678), (229, 0.034694098067400383), (230, 0.038238345966444334), (231, 0.06365280232915162), (232, 0.14800706389608315), (233, 0.11536568491795363), (234, 0.05579711519428461), (235, 0.4942601107615183), (236, 0.026564541621710295), (237, 0.18100906690201032), (238, 0.10408691744681099), (239, 0.0678931743723151), (240, 0.04610821981354368), (241, 0.18643753317618003), (242, 0.06444887673123416), (243, 0.0), (244, 0.04125888955927149), (245, 0.05725685128370867), (246, 0.5686759530629875), (247, 0.08134520972348153), (248, 0.02432566076485365), (249, 0.14407596976463877), (250, 0.0), (251, 0.035156247077435025), (252, 0.3370758476556077), (253, 0.03306744934014564), (254, 0.0), (255, 0.08394489074722693), (256, 0.0), (257, 0.16034372715413725), (258, 0.1314704151733147), (259, 0.06646622099128383), (260, 0.0363449884480375), (261, 0.1007435427251376), (262, 0.13152021747322307), (263, 0.02795045505910832), (264, 0.027461359958078677), (265, 0.14667278802897538), (266, 0.04616224646471349), (267, 0.0), (268, 0.05453233763850188), (269, 0.09328029996539179), (270, 0.0), (271, 0.30083593993134805), (272, 0.03756153792568072), (273, 0.0), (274, 0.1954129787136963), (275, 0.0), (276, 0.1082528861322925), (277, 0.038534866172451596), (278, 0.07848458247955561), (279, 0.026616919377532317), (280, 0.09535790684094678), (281, 0.0891940262086514), (282, 0.03321600124501027), (283, 0.10980847162336181), (284, 0.031912392886230066), (285, 0.11761830544177215), (286, 0.16761831744473651), (287, 0.08144955442490569), (288, 0.34246970533303145), (289, 0.1506529592822457), (290, 0.037949119241958144), (291, 0.03900459087394582), (292, 0.0), (293, 0.09930046777211878), (294, 0.06491207642901531), (295, 0.16370302062873393), (296, 0.10180291070481476), (297, 0.03161622916625586), (298, 0.026256050746769406), (299, 0.13562637896051655), (300, 0.0), (301, 0.0), (302, 0.19031050750723955), (303, 0.22347038010647527), (304, 0.08755016372590718), (305, 0.024979145228593774), (306, 0.14208285650054972), (307, 0.0), (308, 0.11260558237664088), (309, 0.0), (310, 0.03553264909106829), (311, 0.033024995370298), (312, 0.02559363721275442), (313, 0.07992950051528872), (314, 0.11784985899157197), (315, 0.06394962994598377), (316, 0.06394962994598377), (317, 0.10157985744987592), (318, 0.0), (319, 0.33495338960663923), (320, 0.0), (321, 0.15564491380721868), (322, 0.21991231797543823), (323, 0.18552220246903592), (324, 0.06679519349230584), (325, 0.08213689828134925), (326, 0.03127246538706898), (327, 0.042212276094365085), (328, 0.0), (329, 0.06444887673123416), (330, 0.0), (331, 0.18157345896812974), (332, 0.040317452348427145), (333, 0.041955179934429626), (334, 0.33517412686884934), (335, 0.06603850142519051), (336, 0.0419106512750008), (337, 0.0), (338, 0.0), (339, 0.09861429029717614), (340, 0.03156610089889785), (341, 0.0), (342, 0.027485934417134924), (343, 0.1419807619804393), (344, 0.0431621740798342), (345, 0.1210093953548031), (346, 0.026644944664410548), (347, 0.02352372086480795), (348, 0.1618066182578356), (349, 0.026652021768844635), (350, 0.15763530073034548), (351, 0.03708369343711342), (352, 0.0), (353, 0.08221411051915715), (354, 0.0), (355, 0.08626403358608895), (356, 0.07555740260399607), (357, 0.028181777782425046), (358, 0.0), (359, 0.06365280232915162), (360, 0.09146280923794424), (361, 0.0), (362, 0.09710388505927531), (363, 0.021286008381748024), (364, 0.07914317554176846), (365, 0.028827280750947017), (366, 0.13370076606893913), (367, 0.08009517220247636), (368, 0.0), (369, 0.0), (370, 0.03858354969857199), (371, 0.02354598469803088), (372, 0.041165344175058655), (373, 0.024637928330697955), (374, 0.1199275838268925), (375, 0.0947903299903048), (376, 0.1233134399631835), (377, 0.035518755005876854), (378, 0.13696363097492728), (379, 0.06258010825487673), (380, 0.06258010825487673), (381, 0.1538688244109828), (382, 0.031325072572236504), (383, 0.024916049669929677), (384, 0.15169807733173785), (385, 0.06166120825501746), (386, 0.11168003928525547), (387, 0.13376249097451162), (388, 0.11886864479541621), (389, 0.02643366996095906), (390, 0.0), (391, 0.035139357768689664), (392, 0.0312257988226336), (393, 0.08722441808682387), (394, 0.1321120349764891), (395, 0.1855310118585538), (396, 0.07937859045090354), (397, 0.03206484984983392), (398, 0.06901914450634475), (399, 0.040088615644414585), (400, 0.1625176208811103), (401, 0.0), (402, 0.11942884434395892), (403, 0.16034372715413725), (404, 0.09710388505927531), (405, 0.05631590091565432), (406, 0.09738810590265323), (407, 0.1544427451744293), (408, 0.1544427451744293), (409, 0.0), (410, 0.10056133181737223), (411, 0.024326408812671105), (412, 0.02659281340298696), (413, 0.04366362484045844), (414, 0.0), (415, 0.0822167269963586), (416, 0.09005888539245391), (417, 0.3273102697349012), (418, 0.12126219164136842), (419, 0.08920861451873303), (420, 0.10396895936553952), (421, 0.02150802385505942), (422, 0.05237155690167411), (423, 0.12943109297389568), (424, 0.14172660175829283), (425, 0.12048997439158574), (426, 0.14412078611248041), (427, 0.7732452177758891), (428, 0.7082839843946975), (429, 0.19786405988080602), (430, 0.024882036181323307), (431, 0.0285724169083311), (432, 0.0342255507083275), (433, 0.3415648025143333), (434, 0.02897936153478485), (435, 0.08184316082262097), (436, 0.03161487980491664), (437, 0.03143117203760588), (438, 0.0), (439, 0.0), (440, 0.23757721887688185), (441, 0.11232882296409165), (442, 0.04610821981354368), (443, 0.14780957543600481), (444, 0.17051809627952397), (445, 0.04610821981354368), (446, 0.0), (447, 0.13915742637543022), (448, 0.18309678279599287), (449, 0.18073975913377324), (450, 0.07949490346087226), (451, 0.07675232351525305), (452, 0.08394489074722693), (453, 0.037561007513282195), (454, 0.05830593707647827), (455, 0.14584033079948452), (456, 0.15144597087719747), (457, 0.06869513982996348), (458, 0.023751673010891493), (459, 0.23017936273447126), (460, 0.18356309431432583), (461, 0.19775040779720804), (462, 0.05864511569626296), (463, 0.0), (464, 0.1624879987020488), (465, 0.09047667457747174), (466, 0.5804325879630409), (467, 0.023706492332387193), (468, 0.07244460567698079), (469, 0.036142288681566895), (470, 0.12919659130719327), (471, 0.03934690724523692), (472, 0.03934690724523692), (473, 0.20805845902414405), (474, 0.07430831160914099), (475, 0.08057893823526904), (476, 0.06041216846594523), (477, 0.04038140595332554), (478, 0.4240885057567317), (479, 0.0), (480, 0.10629218435183015), (481, 0.03140220377437235), (482, 0.1342476579838939), (483, 0.20365300787104829), (484, 0.051188722923553434), (485, 0.0), (486, 0.11172897478933524), (487, 0.09648596247040771), (488, 0.030505151292212117), (489, 0.1294704892304473), (490, 0.16200573763966097), (491, 0.040167034066414094), (492, 0.14003691631099588), (493, 0.0), (494, 0.060678901428199726), (495, 0.03458039457409881), (496, 0.11793824895926128), (497, 0.0), (498, 0.06019535674088519), (499, 0.023667291201975454), (500, 0.07846168961569014), (501, 0.18875930245287637), (502, 0.1656145145442967), (503, 0.08320458943919612), (504, 0.2133312485200837), (505, 0.10118040597959328), (506, 0.04381136002987291), (507, 0.0), (508, 0.029875072674811654), (509, 0.0), (510, 0.08256873076611324), (511, 0.14107030673456003), (512, 0.38389891850425906), (513, 0.037409029638236196), (514, 0.03515813938204891), (515, 0.1636201126706858), (516, 0.03854707538747771), (517, 0.07268415143068607), (518, 0.05661247963058799), (519, 0.02779743975901955), (520, 0.02779743975901955), (521, 0.09019932106281682), (522, 0.10781585414199346), (523, 0.15025194906247896), (524, 0.08290260643783177), (525, 0.08290260643783177), (526, 0.2523559991123535), (527, 0.14533173249023112), (528, 0.08559785798875087), (529, 0.0), (530, 0.06218847016023491), (531, 0.1016990985497518), (532, 0.17243673155239797), (533, 0.0), (534, 0.027669338566511152), (535, 0.03138709366244595), (536, 0.025985258494337696), (537, 0.03612566834560358), (538, 0.03798200908459583), (539, 0.0), (540, 0.0), (541, 0.026485192003489613), (542, 0.0), (543, 0.08256873076611324), (544, 0.0), (545, 0.16795468366877564), (546, 0.28049217982542074), (547, 0.021651619593688973), (548, 0.03709027821527686), (549, 0.03212560601270671), (550, 0.0), (551, 0.1672761280752861), (552, 0.0), (553, 0.030756762858181193), (554, 0.0529197085374409), (555, 0.0), (556, 0.0), (557, 0.12457976734779473), (558, 0.0), (559, 0.0), (560, 0.04129123239330473), (561, 0.13269915784379707), (562, 0.13429386205318555), (563, 0.03086680156053899), (564, 0.36204769720292346), (565, 0.03377009838112804), (566, 0.17059203300814707), (567, 0.03703515678405685), (568, 0.06014178471090685), (569, 0.18526801095074202), (570, 0.04610821981354368), (571, 0.04169353763628558), (572, 0.0), (573, 0.021711647675145513), (574, 0.29492052479441605), (575, 0.0), (576, 0.04633574407525178), (577, 0.1959289533771628), (578, 0.1194183562864814), (579, 0.1426509431721466), (580, 0.019796042789224384), (581, 0.0), (582, 0.1319200902338298), (583, 0.06907508830836091), (584, 0.15585957953927387), (585, 0.0), (586, 0.15204973681230066), (587, 0.042971033662871305), (588, 0.03130232386686142), (589, 0.3380621407131057), (590, 0.0556982473211552), (591, 0.03128238531605008), (592, 0.028676798456493822), (593, 0.0), (594, 0.07895451902738876), (595, 0.039773221520705344), (596, 0.22130093522335437), (597, 0.1401717669422109), (598, 0.0), (599, 0.2897240242637325), (600, 0.0), (601, 0.20555224385587684), (602, 0.0), (603, 0.058760782587670785), (604, 0.08131001970054746), (605, 0.09602389416192314), (606, 0.0591452966300717), (607, 0.4863783686349945), (608, 0.028055779014467142), (609, 0.034356555290935877), (610, 0.0698871767573069), (611, 0.03226945010649315), (612, 0.0329198235487858), (613, 0.0), (614, 0.024639127917602623), (615, 0.09515706173882439), (616, 0.0322484815900694), (617, 0.03999899296043187), (618, 0.08547914998836331), (619, 0.06685139980411171), (620, 0.037925351827117045), (621, 0.0), (622, 0.039239784864763816), (623, 0.04505849750525331), (624, 0.0), (625, 0.03434142319701301), (626, 0.14421673181232397), (627, 0.14421673181232397), (628, 0.3931693708392363), (629, 0.31659424937502995), (630, 0.4242901878605134), (631, 0.2778015058815753), (632, 0.3821507448396931), (633, 0.4451337063416959), (634, 0.3507821691004302), (635, 0.4622895375546342), (636, 0.2658490700385468), (637, 0.2888574053446055), (638, 0.24328405265273845), (639, 0.22817021134526966), (640, 0.3317409672422644), (641, 0.4354268337188516), (642, 0.12261634888693904), (643, 0.1521344931282038), (644, 0.03177661403870296), (645, 0.03328575679545926), (646, 0.22450922231975529), (647, 0.08443804692600326), (648, 0.03804073396715132), (649, 0.03940425558327259), (650, 0.03173401981666822), (651, 0.07229117730140006), (652, 0.027290264583827797), (653, 0.025604823215765078), (654, 0.034153164112001234), (655, 0.16302430798602335), (656, 0.12202648299768187), (657, 0.03824419464541449), (658, 0.02375500440290647), (659, 0.11855714868368805), (660, 0.0), (661, 0.0), (662, 0.1553990051627891), (663, 0.10468382391015252), (664, 0.10993624239633881), (665, 0.0), (666, 0.0), (667, 0.01840049278597587), (668, 0.08399712354206904), (669, 0.24432735939212313), (670, 0.10056133181737223), (671, 0.03832701899086832), (672, 0.028833865796096828), (673, 0.02956646732962663), (674, 0.14998859229596742), (675, 0.03435655529093588), (676, 0.10127659494683278), (677, 0.0551147710271573), (678, 0.1378198453221564), (679, 0.14580048696132375), (680, 0.04039195855777024), (681, 0.03887285234897679), (682, 0.030964688923982957), (683, 0.08301805283452887), (684, 0.028697930971995758), (685, 0.14421673181232395), (686, 0.17438611386396652), (687, 0.0668672280862975), (688, 0.08435452757176448), (689, 0.31891861766251883), (690, 0.0), (691, 0.14725811988441403), (692, 0.02396263017181281), (693, 0.10346482277744272), (694, 0.03067773637324492), (695, 0.041208138016319965), (696, 0.06463395080700611), (697, 0.026754710864800756), (698, 0.08124455394313851), (699, 0.3346819018984494), (700, 0.23735626045969743), (701, 0.06046508968029614), (702, 0.06046508968029614), (703, 0.12576048725335762), (704, 0.14776673520328273), (705, 0.0), (706, 0.0), (707, 0.5149128462728977), (708, 0.11588405796556266), (709, 0.36204769720292346), (710, 0.14568766014370413), (711, 0.0), (712, 0.2604240726528463), (713, 0.0), (714, 0.0), (715, 0.050237639259776), (716, 0.0), (717, 0.03099084936912329), (718, 0.17559021172024908), (719, 0.2358339374609124), (720, 0.0), (721, 0.0), (722, 0.07121406996995638), (723, 0.0), (724, 0.1699739707530623), (725, 0.03979344624767482), (726, 0.14432271462535207), (727, 0.14150682469486353), (728, 0.10326209344115422), (729, 0.11778987658812429), (730, 0.0962651737532566), (731, 0.02769042539622789), (732, 0.13917013161862485), (733, 0.12613125310076365), (734, 0.0595140468069429), (735, 0.09250056459209091), (736, 0.48811565638452376), (737, 0.5067219798262219), (738, 0.02845689780849606), (739, 0.02845689780849606), (740, 0.15381521844252216), (741, 0.05888205586115828), (742, 0.5067219798262219), (743, 0.027482728678067146), (744, 0.22140519386328197), (745, 0.08256873076611324), (746, 0.033965606773172355), (747, 0.03479331530724497), (748, 0.0), (749, 0.19010828845249284), (750, 0.0), (751, 0.08852570428097639), (752, 0.0), (753, 0.08221313505032954), (754, 0.0), (755, 0.034123940681071205), (756, 0.0), (757, 0.09874154044374231), (758, 0.1378198453221564), (759, 0.1544427451744293), (760, 0.09156421546794713), (761, 0.08639697728782061), (762, 0.05600200668650147), (763, 0.03430077711457042), (764, 0.21857190918130254), (765, 0.2646920181750748), (766, 0.07670653292473972), (767, 0.032464000564802975), (768, 0.18328844383664442), (769, 0.24974208586194396), (770, 0.04104754135337452), (771, 0.0), (772, 0.10792638854229872), (773, 0.12237874447964271), (774, 0.02804724918632121), (775, 0.15458088126063868), (776, 0.0), (777, 0.03129399199835541), (778, 0.03424495542482312), (779, 0.12952809603695714), (780, 0.03956788629109661), (781, 0.0), (782, 0.10222926053891618), (783, 0.097051968029939), (784, 0.19847559254387698), (785, 0.10222926053891618), (786, 0.13490211752084827), (787, 0.08322013789593215), (788, 0.0), (789, 0.07742972478445181), (790, 0.03424495542482312), (791, 0.1608812772662823), (792, 0.09812182024023991), (793, 0.02934027626518992), (794, 0.03643555553340525), (795, 0.16922065058612845), (796, 0.03558936679134893), (797, 0.028006363700471226), (798, 0.024926592105778758), (799, 0.20855653238918953), (800, 0.0319098179845069), (801, 0.0), (802, 0.04566997989652155), (803, 0.08680572352889415), (804, 0.25748344578369486), (805, 0.1348026263962332), (806, 0.28787764567957114), (807, 0.04523768877910061), (808, 0.20581210837771832), (809, 0.029530727325808553), (810, 0.0), (811, 0.027846522738993254), (812, 0.07461941518515336), (813, 0.03866548335120274), (814, 0.11829113347083894), (815, 0.09653576545651552), (816, 0.10766655923069729), (817, 0.029164013125291714), (818, 0.029164013125291714), (819, 0.11232912109734884), (820, 0.09449303254027328), (821, 0.0875635915639987), (822, 0.5097250410392469), (823, 0.0407238190364304), (824, 0.023800873573929793), (825, 0.08689489076907733), (826, 0.07371522135800074), (827, 0.03876177537031257), (828, 0.06393886285759334), (829, 0.09752972385990923), (830, 0.053101067781703266), (831, 0.0), (832, 0.16009560530696493), (833, 0.0), (834, 0.1591393887201172), (835, 0.24473949425059377), (836, 0.19682173266936032), (837, 0.0), (838, 0.0), (839, 0.03178033288401197), (840, 0.14538200768446727), (841, 0.03908546278754435), (842, 0.08720638580987031), (843, 0.03191554157578026), (844, 0.05600200668650147), (845, 0.07438452510613129), (846, 0.06276897119667868), (847, 0.050742240268712165), (848, 0.03923978486476382), (849, 0.03017543893433761), (850, 0.31664311904234294), (851, 0.03923978486476382), (852, 0.03521044839059799), (853, 0.14659892611557634), (854, 0.0), (855, 0.17438611386396652), (856, 0.14263450047092352), (857, 0.11035763854651146), (858, 0.19761555374831752), (859, 0.08435452757176447), (860, 0.0), (861, 0.06812747546815204), (862, 0.02396263017181281), (863, 0.09892371537404612), (864, 0.03947250264697643), (865, 0.14661825213650853), (866, 0.10414142560781567), (867, 0.02783916534777383), (868, 0.035781653229370054), (869, 0.16827326030337772), (870, 0.07750448887534217), (871, 0.029658269364347234), (872, 0.17098393210864304), (873, 0.0), (874, 0.1874605309317369), (875, 0.03552284199729765), (876, 0.0), (877, 0.07812466995445905), (878, 0.03679376816123086), (879, 0.0), (880, 0.1090366282692499), (881, 0.03405502212302158), (882, 0.23422295938240334), (883, 0.18395289951639082), (884, 0.03148108053268469), (885, 0.12035572163430412), (886, 0.17786377100496983), (887, 0.4060547485950945), (888, 0.043712214372943724), (889, 0.268083086109136), (890, 0.20880080418218883), (891, 0.07358606974665582), (892, 0.08102891012097042), (893, 0.026454114253016088), (894, 0.0), (895, 0.019836910432803605), (896, 0.0), (897, 0.03923098121909374), (898, 0.06258010825487673), (899, 0.03612004973717054), (900, 0.24849765187634434), (901, 0.08502170319403024), (902, 0.02295790397990782), (903, 0.0), (904, 0.023911103048367254), (905, 0.07833037768455166), (906, 0.1871396592763104), (907, 0.0), (908, 0.09997561447211639), (909, 0.17335298415683326), (910, 0.2528604641812536), (911, 0.5202785849113096), (912, 0.0), (913, 0.042597158731763826), (914, 0.034598660750103594), (915, 0.0), (916, 0.11203499826158053), (917, 0.03555189347496301), (918, 0.0), (919, 0.1324996306019773), (920, 0.035242187981778896), (921, 0.03176478994659624), (922, 0.054887332625197016), (923, 0.0), (924, 0.06836252908820654), (925, 0.0), (926, 0.13723901313290832), (927, 0.10078870350724212), (928, 0.0), (929, 0.0), (930, 0.024838922749869877), (931, 0.06146619983810013), (932, 0.16159323045410087), (933, 0.0), (934, 0.12729441445928402), (935, 0.03954383763661295), (936, 0.023800873573929793), (937, 0.0), (938, 0.2188678765930969), (939, 0.03035846037252634), (940, 0.0), (941, 0.03753436883511063), (942, 0.039147108219788375), (943, 0.0875635915639987), (944, 0.0), (945, 0.41316313244926306), (946, 0.08322013789593215), (947, 0.13004350713623258), (948, 0.1522723967849683), (949, 0.15214540598903623), (950, 0.029217584095281114), (951, 0.04750262383183834), (952, 0.1133747769600867), (953, 0.13233133503161212), (954, 0.0), (955, 0.18698028838932573), (956, 0.05962359130473315), (957, 0.06612946142634289), (958, 0.14202955451673535), (959, 0.08408897004884909), (960, 0.0), (961, 0.2042495805605112), (962, 0.027097151931370363), (963, 0.3278273721666204), (964, 0.0), (965, 0.27085125179394476), (966, 0.030516734777137133), (967, 0.039305235339436216), (968, 0.0285370923179429), (969, 0.042597158731763826), (970, 0.0), (971, 0.06857810530649615), (972, 0.1644185792434159), (973, 0.0), (974, 0.05266342921697034), (975, 0.03107218738463519), (976, 0.19816529860332296), (977, 0.0), (978, 0.06399307079360528), (979, 0.04027201033530879), (980, 0.02919510764550668), (981, 0.06836252908820654), (982, 0.15901952290261095), (983, 0.19272806702105022), (984, 0.0), (985, 0.0), (986, 0.04504269926085288), (987, 0.03176478994659624), (988, 0.029973987088583193), (989, 0.0864748244854553), (990, 0.058447009735997583), (991, 0.0), (992, 0.13282888345761537), (993, 0.0), (994, 0.04981146237906098), (995, 0.2086343093225199), (996, 0.16590135184879337), (997, 0.14696705661842488), (998, 0.11059463623753125), (999, 0.0), (1000, 0.0366703633282447), (1001, 0.0), (1002, 0.0), (1003, 0.03034133299755489), (1004, 0.1207669744841163), (1005, 0.027242994869123936), (1006, 0.05860792270531292), (1007, 0.0), (1008, 0.03254124974777823), (1009, 0.03506737079885053), (1010, 0.0), (1011, 0.044168551363937804), (1012, 0.33621590930438855), (1013, 0.0756019420744366), (1014, 0.04010905658210844), (1015, 0.0), (1016, 0.03867454790372195), (1017, 0.03660328980142698), (1018, 0.0413729654444951), (1019, 0.14635963241123395), (1020, 0.023885690570820912), (1021, 0.028768412041831178), (1022, 0.10504325536258134), (1023, 0.15845346541395647), (1024, 0.08093335152977682), (1025, 0.08883585347038288), (1026, 0.06766632639995304), (1027, 0.14722490880028444), (1028, 0.09966622692253231), (1029, 0.0367694928745274), (1030, 0.0), (1031, 0.2367427097602181), (1032, 0.02772027886056435), (1033, 0.13397060686823425), (1034, 0.14899190542388352), (1035, 0.10689739342877755), (1036, 0.020339392474727193), (1037, 0.10212179252666337), (1038, 0.10689739342877755), (1039, 0.15085942939506), (1040, 0.08658777128356906), (1041, 0.13136515480549177), (1042, 0.2729955995432845), (1043, 0.07529112447146243), (1044, 0.03286251784657586), (1045, 0.1267137665859243), (1046, 0.031373293032297904), (1047, 0.07684200165861832), (1048, 0.19201915130189096), (1049, 0.028568801602548308), (1050, 0.03437834796224788), (1051, 0.09452475326506427), (1052, 0.12992441824097223), (1053, 0.03201143564267718), (1054, 0.04161004407443785), (1055, 0.30262093844618254), (1056, 0.0), (1057, 0.0), (1058, 0.06045527207157807), (1059, 0.028020017968194144), (1060, 0.04528910556588687), (1061, 0.15332974446504977), (1062, 0.0), (1063, 0.09872710282832255), (1064, 0.09522509827400505), (1065, 0.0), (1066, 0.0), (1067, 0.08136646942422557), (1068, 0.1327209339596186), (1069, 0.05955459898415862), (1070, 0.09794262700803832), (1071, 0.0), (1072, 0.0), (1073, 0.0), (1074, 0.0), (1075, 0.3679181884968573), (1076, 0.06369273409871434), (1077, 0.032561822611164734), (1078, 0.10923491280101451), (1079, 0.09955203496074977), (1080, 0.21707656574137088), (1081, 0.458097860012519), (1082, 0.07335082080539415), (1083, 0.02393851597305009), (1084, 0.14919845828019795), (1085, 0.23553851516692725), (1086, 0.1874605309317369), (1087, 0.2592398282140041), (1088, 0.2355435216907365), (1089, 0.2355435216907365), (1090, 0.11940176168015418), (1091, 0.09302894612659338), (1092, 0.1874605309317369), (1093, 0.0), (1094, 0.2652975976205811), (1095, 0.050237639259776), (1096, 0.03033775128727113), (1097, 0.0), (1098, 0.0), (1099, 0.0), (1100, 0.0), (1101, 0.06276039202355761), (1102, 0.04633682076287143), (1103, 0.09358088626906277), (1104, 0.044987373824177355), (1105, 0.04610821981354368), (1106, 0.15275581441161387), (1107, 0.0), (1108, 0.2795874109878791), (1109, 0.0764281156946704), (1110, 0.11158897417541237), (1111, 0.26868091487603657), (1112, 0.030711132066534447), (1113, 0.029612189878260815), (1114, 0.08424391254936493), (1115, 0.3756102077356445), (1116, 0.06348941819952925), (1117, 0.0), (1118, 0.04016716647453608), (1119, 0.15214353407038814), (1120, 0.03308843938746153), (1121, 0.22226830403669373), (1122, 0.16988563825240352), (1123, 0.029141088492043443), (1124, 0.022263886986718585), (1125, 0.19027335289848163), (1126, 0.061748572498547795), (1127, 0.1494466769854269), (1128, 0.17034038787835115), (1129, 0.24739927180439078), (1130, 0.0465137837060362), (1131, 0.32733780313694677), (1132, 0.05406353571583955), (1133, 0.10294993288184996), (1134, 0.15690099863174578), (1135, 0.0), (1136, 0.17821346727116538), (1137, 0.16022560101897898), (1138, 0.0), (1139, 0.0), (1140, 0.08507574151161257), (1141, 0.17700926014479454), (1142, 0.026146932628358998), (1143, 0.03370469784479768), (1144, 0.028568801602548308), (1145, 0.08595973891792863), (1146, 0.04371606236209396), (1147, 0.026027439058462314), (1148, 0.0), (1149, 0.13385697465927196), (1150, 0.08939100597914545), (1151, 0.0634481553243278), (1152, 0.0), (1153, 0.04067625678007344), (1154, 0.17086634020880684), (1155, 0.028020017968194144), (1156, 0.21547450850982083), (1157, 0.0), (1158, 0.0), (1159, 0.1878250855885269), (1160, 0.13301388508815729), (1161, 0.09809977245743504), (1162, 0.3218379163424712), (1163, 0.04610688892569207), (1164, 0.025303384420098267), (1165, 0.0), (1166, 0.0), (1167, 0.1604374162854742), (1168, 0.07759120538435962), (1169, 0.07580910536512518), (1170, 0.06637340469239252), (1171, 0.032365877232728844), (1172, 0.0), (1173, 0.09218581704840212), (1174, 0.04288157143881912), (1175, 0.06889561519593315), (1176, 0.1702525726805798), (1177, 0.34503052233798687), (1178, 0.08223871724516163), (1179, 0.1760128050372806), (1180, 0.031969421624880416), (1181, 0.12703712746364837), (1182, 0.02820268665760177), (1183, 0.0), (1184, 0.16827326030337772), (1185, 0.16590135184879337), (1186, 0.03988275920604159), (1187, 0.030030316637771847), (1188, 0.06046508968029614), (1189, 0.0), (1190, 0.028264235380648612), (1191, 0.032785092047691776), (1192, 0.03310797857335373), (1193, 0.18790757626100607), (1194, 0.03464693286569089), (1195, 0.0), (1196, 0.10414142560781567), (1197, 0.038820032361774795), (1198, 0.1566240996179481), (1199, 0.028903132041068102), (1200, 0.0630427301722678), (1201, 0.0), (1202, 0.0), (1203, 0.026324374280052094), (1204, 0.14671725775219535), (1205, 0.16168158965569265), (1206, 0.19204196908800883), (1207, 0.0), (1208, 0.03849971428052049), (1209, 0.0), (1210, 0.030516734777137133), (1211, 0.03061744024118375), (1212, 0.0), (1213, 0.0), (1214, 0.042133614856884626), (1215, 0.029980610589338017), (1216, 0.07560523916713774), (1217, 0.02753878819320458), (1218, 0.06963202436480373), (1219, 0.10088255347845677), (1220, 0.034594427887940545), (1221, 0.24293079558714953), (1222, 0.031808793870240756), (1223, 0.040604740376541784), (1224, 0.0), (1225, 0.2366330161679766), (1226, 0.15487540508306658), (1227, 0.14937419528968224), (1228, 0.1955487769980387), (1229, 0.0), (1230, 0.11917487627772873), (1231, 0.07721635559239803), (1232, 0.08654200754587482), (1233, 0.08483645687904273), (1234, 0.0), (1235, 0.040300522860055026), (1236, 0.15615943370373794), (1237, 0.21013942737757926), (1238, 0.0), (1239, 0.032010488838347846), (1240, 0.15825841708355579), (1241, 0.03106059359250776), (1242, 0.03694669746680961), (1243, 0.037738789612938375), (1244, 0.34142938875973433), (1245, 0.08682979104364116), (1246, 0.03915944155523177), (1247, 0.0), (1248, 0.04321271495368191), (1249, 0.06595826142087083), (1250, 0.10300099951045813), (1251, 0.02722801942757603), (1252, 0.19025497334405586), (1253, 0.02798233932382212), (1254, 0.11707201557769156), (1255, 0.027953158500832086), (1256, 0.19486729938135555), (1257, 0.08519985537604391), (1258, 0.08687134650454761), (1259, 0.10169199821214803), (1260, 0.0), (1261, 0.0), (1262, 0.09246607586340996), (1263, 0.02662801785654678), (1264, 0.040048200825253316), (1265, 0.30644695061694965), (1266, 0.023876751835809756), (1267, 0.04652412407225231), (1268, 0.13066036170556913), (1269, 0.0), (1270, 0.040109932331876416), (1271, 0.0), (1272, 0.06133301697751195), (1273, 0.07367599168052402), (1274, 0.20304474133534414), (1275, 0.029003027868633412), (1276, 0.08196116602062961), (1277, 0.06823516848233188), (1278, 0.3085744541932237), (1279, 0.08884321847391902), (1280, 0.06028327198061882), (1281, 0.2758720269127592), (1282, 0.06089575725667595), (1283, 0.0), (1284, 0.20189172320378246), (1285, 0.0934802991127772), (1286, 0.12710384032309793), (1287, 0.09888701378088195), (1288, 0.09589945223121142), (1289, 0.04451576122173201), (1290, 0.0), (1291, 0.0), (1292, 0.0), (1293, 0.06098438675005144), (1294, 0.0), (1295, 0.0), (1296, 0.0), (1297, 0.029791949558823045), (1298, 0.0), (1299, 0.040030704686313874), (1300, 0.17199364057505825), (1301, 0.2076761694478472), (1302, 0.0850086226969598), (1303, 0.0), (1304, 0.06417104130723925), (1305, 0.0), (1306, 0.10062569071445102), (1307, 0.06605181042936571), (1308, 0.03218059213302443), (1309, 0.04225745152258703), (1310, 0.0), (1311, 0.0), (1312, 0.11833705788090673), (1313, 0.1548299428056257), (1314, 0.17663664264877513), (1315, 0.0), (1316, 0.12525212643343728), (1317, 0.0), (1318, 0.0), (1319, 0.09948221418524068), (1320, 0.1269140238907001), (1321, 0.0), (1322, 0.10919261815672456), (1323, 0.0), (1324, 0.0408232446025497), (1325, 0.10539946604709513), (1326, 0.030198032051395804), (1327, 0.053636102257402764), (1328, 0.11678942442080063), (1329, 0.0), (1330, 0.1742681449264509), (1331, 0.028474786864464745), (1332, 0.15748509822043139), (1333, 0.0473831822823625), (1334, 0.09337066271939047), (1335, 0.1874605309317369), (1336, 0.0), (1337, 0.10724915260480078), (1338, 0.608126400968168), (1339, 0.06444887673123416), (1340, 0.0), (1341, 0.03331799054126097), (1342, 0.20596483116578612), (1343, 0.1402146883831264), (1344, 0.49899444720900443), (1345, 0.0), (1346, 0.15564491380721868), (1347, 0.0467054004086076), (1348, 0.1090366282692499), (1349, 0.04610821981354368), (1350, 0.13458903984622675), (1351, 0.04134827757398835), (1352, 0.2995144382904268), (1353, 0.039319848623312684), (1354, 0.051843456428330666), (1355, 0.11427025942620124), (1356, 0.11956166284135655), (1357, 0.09560062045159019), (1358, 0.03494327692242126), (1359, 0.09352515477622375), (1360, 0.03342963911767411), (1361, 0.08575337707593537), (1362, 0.07416006219476298), (1363, 0.1065397037048926), (1364, 0.16271521328443442), (1365, 0.10990843440784023), (1366, 0.1327667934527103), (1367, 0.0), (1368, 0.03745625774378951), (1369, 0.029228474854584525), (1370, 0.13621381301196694), (1371, 0.04283656021183961), (1372, 0.1645414168640027), (1373, 0.035317758752239185), (1374, 0.27119280308013133), (1375, 0.045328938447091995), (1376, 0.14718117891680635), (1377, 0.0), (1378, 0.08534618097254246), (1379, 0.10297882733713795), (1380, 0.20056087142867382), (1381, 0.08411242387692794), (1382, 0.030793505770220803), (1383, 0.0), (1384, 0.020480555785327988), (1385, 0.0), (1386, 0.04691586781550484), (1387, 0.0), (1388, 0.17644806724701176), (1389, 0.03380872741328778), (1390, 0.04421879464348205), (1391, 0.19120254175815052), (1392, 0.14642555136719176), (1393, 0.13104822887623555), (1394, 0.2539716318919344), (1395, 0.07774953574109839), (1396, 0.3445649603675582), (1397, 0.06404453261913826), (1398, 0.06404453261913826), (1399, 0.0), (1400, 0.25031164408596424), (1401, 0.03839267668437811), (1402, 0.0), (1403, 0.0), (1404, 0.08772539703713972), (1405, 0.17287958310238252), (1406, 0.046546402372407016), (1407, 0.040774200770580124), (1408, 0.043516552174963356), (1409, 0.027325981866341584), (1410, 0.30681483825337097), (1411, 0.13522036246131633), (1412, 0.2023002465099385), (1413, 0.04018229105990509), (1414, 0.0), (1415, 0.06666588627492555), (1416, 0.09073535192197354), (1417, 0.03927765013477403), (1418, 0.04329599142591257), (1419, 0.04211843224980149), (1420, 0.09466421120858329), (1421, 0.03263057445049622), (1422, 0.17349029955179404), (1423, 0.07949072280741806), (1424, 0.04420261652590233), (1425, 0.04283755425835434), (1426, 0.4144958799701682), (1427, 0.056865329668019826), (1428, 0.13397972369900446), (1429, 0.034937604813852), (1430, 0.04066287640508144), (1431, 0.03322507594328018), (1432, 0.0), (1433, 0.17721886897512912), (1434, 0.027723712211901546), (1435, 0.030680273306168637), (1436, 0.19035833898347723), (1437, 0.030370373711427694), (1438, 0.09053931155929537), (1439, 0.3167665402867211), (1440, 0.09167458191317274), (1441, 0.03345152883824042), (1442, 0.18534800639813334), (1443, 0.03353148314433248), (1444, 0.029055428402536835), (1445, 0.06923597059695707), (1446, 0.030038062561158558), (1447, 0.03287650853169336), (1448, 0.04762024335016888), (1449, 0.1290666272818339), (1450, 0.3509161649259744), (1451, 0.04474782627408924), (1452, 0.16001288204157793), (1453, 0.16716113072596542), (1454, 0.16952616788631783), (1455, 0.0), (1456, 0.1375327017001554), (1457, 0.04067534833248239), (1458, 0.03362907795337523), (1459, 0.030378200980329565), (1460, 0.0), (1461, 0.0812993815177499), (1462, 0.0), (1463, 0.1064195352883891), (1464, 0.030127739120322707), (1465, 0.03947878353820705), (1466, 0.0), (1467, 0.3234135172096811), (1468, 0.036716066099355786), (1469, 0.034817918535204516), (1470, 0.2793946122235808), (1471, 0.0), (1472, 0.047544432369828), (1473, 0.1254644299682955), (1474, 0.06998063158577024), (1475, 0.0), (1476, 0.03319707172001548), (1477, 0.03760459840303783), (1478, 0.06331192967885407), (1479, 0.037951982330331126), (1480, 0.11002590565346988), (1481, 0.16181415183025064), (1482, 0.17421137220252556), (1483, 0.04019381652352226), (1484, 0.0), (1485, 0.38249240603824125), (1486, 0.1975924150161193), (1487, 0.039125812176263965), (1488, 0.2505784087433766), (1489, 0.11105388833260438), (1490, 0.0), (1491, 0.14385331481163202), (1492, 0.0), (1493, 0.03605931945915094), (1494, 0.1628972356935935), (1495, 0.08012337914741997), (1496, 0.02566324957304106), (1497, 0.0), (1498, 0.12383493968985976), (1499, 0.0), (1500, 0.17494405215628872), (1501, 0.04102673568920425), (1502, 0.0), (1503, 0.04998877468163162), (1504, 0.33388222875475443), (1505, 0.33388222875475443), (1506, 0.11105388833260438), (1507, 0.0646914001423297), (1508, 0.10474850175529614), (1509, 0.04697223065614462), (1510, 0.19569230995048512), (1511, 0.39006856057544687), (1512, 0.06160270080610599), (1513, 0.13809893552328933), (1514, 0.15936169447964801), (1515, 0.19202380100247887), (1516, 0.18262500614404767), (1517, 0.04423459904025756), (1518, 0.17439869829193616), (1519, 0.3463781838862987), (1520, 0.03156210623496752), (1521, 0.0), (1522, 0.14899543637849377), (1523, 0.0), (1524, 0.0), (1525, 0.17111736761616123), (1526, 0.19639076856100746), (1527, 0.04081589483210356), (1528, 0.12176888103150983), (1529, 0.06768597941369758), (1530, 0.17797919751331343), (1531, 0.1909838378004624), (1532, 0.0), (1533, 0.08196947281015055), (1534, 0.12710384032309793), (1535, 0.03359547405632483), (1536, 0.24117571803978255), (1537, 0.0), (1538, 0.03130782505140991), (1539, 0.04812041793949844), (1540, 0.0), (1541, 0.109722553869157), (1542, 0.04474310469093024), (1543, 0.03816814538626472), (1544, 0.04081589483210356), (1545, 0.0252365722433025), (1546, 0.0), (1547, 0.0), (1548, 0.1605990389083813), (1549, 0.33133180679856694), (1550, 0.029686818411505233), (1551, 0.03174548368973901), (1552, 0.07154968966850572), (1553, 0.037341806680297726), (1554, 0.1723103293681934), (1555, 0.0), (1556, 0.0), (1557, 0.02515441164031109), (1558, 0.3489406389064503), (1559, 0.057337070507487486), (1560, 0.029897867176963685), (1561, 0.0), (1562, 0.32747043570496026), (1563, 0.11027211616007246), (1564, 0.07250397096134353), (1565, 0.19880679311640653), (1566, 0.03816814538626472), (1567, 0.19746014502961348), (1568, 0.03325780097805841), (1569, 0.27516559217665887), (1570, 0.16174154229438933), (1571, 0.16649652903101808), (1572, 0.02444461762199845), (1573, 0.050211756084318764), (1574, 0.06732416171264008), (1575, 0.09315106486629236), (1576, 0.03745711247635648), (1577, 0.20112647967723482), (1578, 0.06147671301115718), (1579, 0.18645561585071307), (1580, 0.08535908445492381), (1581, 0.1386721942510027), (1582, 0.0), (1583, 0.27482584292066103), (1584, 0.0), (1585, 0.1220486148749193), (1586, 0.17185144911291933), (1587, 0.11611683302775219), (1588, 0.06967384419478746), (1589, 0.09714790591208673), (1590, 0.21943127602257723), (1591, 0.14525309906119832), (1592, 0.10579146932106342), (1593, 0.10842127552042896), (1594, 0.04073717342287107), (1595, 0.03864482371251893), (1596, 0.33708457530821656), (1597, 0.038478933745824194), (1598, 0.09505889948586888), (1599, 0.06435171804051605), (1600, 0.18158962446857496), (1601, 0.0), (1602, 0.040130580304253406), (1603, 0.23990860963635566), (1604, 0.12383421533456161), (1605, 0.2852971738334532), (1606, 0.044920986950944944), (1607, 0.0), (1608, 0.03724962240145978), (1609, 0.0), (1610, 0.0), (1611, 0.06170603107399228), (1612, 0.030856756164907906), (1613, 0.18539920462562837), (1614, 0.03967010363037678), (1615, 0.042044924775915676), (1616, 0.18300620113401883), (1617, 0.11173348385411608), (1618, 0.0), (1619, 0.0), (1620, 0.08740892468174243), (1621, 0.04353111811922023), (1622, 0.030431269202836193), (1623, 0.050000485248385726), (1624, 0.0824544696786177), (1625, 0.02361878906475308), (1626, 0.16408039427707288), (1627, 0.0), (1628, 0.03146092287648276), (1629, 0.19739191738740983), (1630, 0.06089096553222315), (1631, 0.0), (1632, 0.06693199111169043), (1633, 0.20568643017300156), (1634, 0.0), (1635, 0.0), (1636, 0.13969087574487127), (1637, 0.07257815175940088), (1638, 0.04418805943024735), (1639, 0.10280012997003213), (1640, 0.0), (1641, 0.17292249585601543), (1642, 0.03610051419149634), (1643, 0.08485804203368671), (1644, 0.028674821068543133), (1645, 0.07653873723872623), (1646, 0.042607226829302146), (1647, 0.19682173266936032), (1648, 0.209803517809381), (1649, 0.5759429369189052), (1650, 0.17435940556813445), (1651, 0.036813596209529814), (1652, 0.026486555027732745), (1653, 0.0486271769290527), (1654, 0.06679519349230584), (1655, 0.09671085973937552), (1656, 0.42477145879606354), (1657, 0.0), (1658, 0.0), (1659, 0.056513834258123764), (1660, 0.13291133357813867), (1661, 0.0), (1662, 0.0), (1663, 0.04845723430424605), (1664, 0.0), (1665, 0.23669433485818103), (1666, 0.09564183807231302), (1667, 0.13281923903179735), (1668, 0.15564491380721868), (1669, 0.0), (1670, 0.04340830874377505), (1671, 0.039577502325082003), (1672, 0.20953573975241674), (1673, 0.05750863505356501), (1674, 0.03148108053268469), (1675, 0.0), (1676, 0.26374482379093706), (1677, 0.0), (1678, 0.0), (1679, 0.38343842179182486), (1680, 0.0), (1681, 0.07321015192582549), (1682, 0.043118718311563844), (1683, 0.06575426968220754), (1684, 0.0), (1685, 0.0), (1686, 0.08546389269705251), (1687, 0.031794246066682144), (1688, 0.0), (1689, 0.05291044453821682), (1690, 0.026749280995317423), (1691, 0.0), (1692, 0.1542148487417031), (1693, 0.04120069090731717), (1694, 0.026936146940312784), (1695, 0.5693974226673852), (1696, 0.5033301278969936), (1697, 0.28497404358418194), (1698, 0.05971826908899508), (1699, 0.03725699057285981), (1700, 0.09123635490766074), (1701, 0.04180729299392224), (1702, 0.029704582180072235), (1703, 0.1135270603003488), (1704, 0.1511294548250283), (1705, 0.12189981246748566), (1706, 0.09010907155068004), (1707, 0.08105779505055519), (1708, 0.12227006477820136), (1709, 0.03672483279486488), (1710, 0.05915507440033376), (1711, 0.03337992798233728), (1712, 0.15372056967287612), (1713, 0.08943934030031814), (1714, 0.03511706495368923), (1715, 0.07503896498310009), (1716, 0.107244993400163), (1717, 0.02308111648526109), (1718, 0.14987085912605014), (1719, 0.5147881849293287), (1720, 0.09449803078036345), (1721, 0.04529585985211314), (1722, 0.18867242694144895), (1723, 0.06732335338191502), (1724, 0.12050735335246213), (1725, 0.12050735335246213), (1726, 0.04575110005085908), (1727, 0.2956750606981076), (1728, 0.0), (1729, 0.035704757256361054), (1730, 0.03758838923755721), (1731, 0.5081627307023955), (1732, 0.0), (1733, 0.04260030525494552), (1734, 0.09035488605345643), (1735, 0.08978891491527888), (1736, 0.23554350083032327), (1737, 0.3405114541126256), (1738, 0.0), (1739, 0.035509082769281795), (1740, 0.030364656163832777), (1741, 0.0361050779444869), (1742, 0.2971949364739083), (1743, 0.03264795449034976), (1744, 0.07882577061944407), (1745, 0.06968279703587821), (1746, 0.04349030219285725), (1747, 0.03306662308973003), (1748, 0.4546424003110753), (1749, 0.056849397583120576), (1750, 0.358012705896539), (1751, 0.0), (1752, 0.03163447093647745), (1753, 0.3144385638767163), (1754, 0.03267613323129945), (1755, 0.0), (1756, 0.14955364478745134), (1757, 0.13841007693092772), (1758, 0.03876095780815799), (1759, 0.14812982571623945), (1760, 0.029526455365027314), (1761, 0.03350067900036255), (1762, 0.0), (1763, 0.0954811300682099), (1764, 0.0), (1765, 0.1919319759781141), (1766, 0.029309831125449992), (1767, 0.2523108328905344), (1768, 0.037670300071867606), (1769, 0.028888601008435884), (1770, 0.0), (1771, 0.06315278891705695), (1772, 0.07693620895165795), (1773, 0.040358173366990734), (1774, 0.029209403970879767), (1775, 0.16255739180103773), (1776, 0.2231456716200674), (1777, 0.0), (1778, 0.0), (1779, 0.42629677648347175), (1780, 0.15001150641955613), (1781, 0.07277432069440758), (1782, 0.03247146946946534), (1783, 0.03400901224216785), (1784, 0.06823885338559207), (1785, 0.06173542125828372), (1786, 0.10451234820440174), (1787, 0.19221692538075302), (1788, 0.18288478197341151), (1789, 0.08512763597282796), (1790, 0.07134968416399629), (1791, 0.19181991420920258), (1792, 0.03984361369901216), (1793, 0.13228805786390202), (1794, 0.0), (1795, 0.0), (1796, 0.14053180534185206), (1797, 0.04106587009914864), (1798, 0.08730517738407645), (1799, 0.0), (1800, 0.2037077864047244), (1801, 0.04707326756079272), (1802, 0.09350994697836029), (1803, 0.5102153964906118), (1804, 0.039936094010471906), (1805, 0.0), (1806, 0.16263248564914679), (1807, 0.0), (1808, 0.025401582224796805), (1809, 0.1502958488378106), (1810, 0.0), (1811, 0.029812178225134493), (1812, 0.2064953664363275), (1813, 0.033052428695976355), (1814, 0.0), (1815, 0.047951597573514165), (1816, 0.03580558117176669), (1817, 0.0), (1818, 0.1549845455785094), (1819, 0.07888090206298146), (1820, 0.022802445505023597), (1821, 0.17351006611378034), (1822, 0.08879156518901826), (1823, 0.08250115786833344), (1824, 0.17199913892500573), (1825, 0.1898645534195693), (1826, 0.042942486888126845), (1827, 0.0575086311741071), (1828, 0.3111469622602072), (1829, 0.02466765268869066), (1830, 0.04315154669581506), (1831, 0.030982271150125168), (1832, 0.03821278642946002), (1833, 0.0), (1834, 0.06824827695054435), (1835, 0.11594898168072246), (1836, 0.14414812889696868), (1837, 0.0618005223729488), (1838, 0.17468772429545554), (1839, 0.02899197766334397), (1840, 0.20808785612343328), (1841, 0.05024652954734611), (1842, 0.12305036724669396), (1843, 0.11335755130762451), (1844, 0.0), (1845, 0.14640190914957074), (1846, 0.02635062615852639), (1847, 0.11472014491073555), (1848, 0.09840505103403185), (1849, 0.030067294493822876), (1850, 0.0), (1851, 0.07154862843997484), (1852, 0.05185524916735228), (1853, 0.05548602882145824), (1854, 0.19377518896393836), (1855, 0.1849928094749407), (1856, 0.045230358113182295), (1857, 0.04589072560596878), (1858, 0.06969932276277077), (1859, 0.14822811349965595), (1860, 0.0452175290326493), (1861, 0.1292333572475352), (1862, 0.0), (1863, 0.0), (1864, 0.490597224340709), (1865, 0.03344121265030509), (1866, 0.32150836028597085), (1867, 0.0), (1868, 0.0370674511555959), (1869, 0.03773822365388816), (1870, 0.24792605449464147), (1871, 0.10436174051936845), (1872, 0.03519880412453496), (1873, 0.1589753379149909), (1874, 0.2162413978408055), (1875, 0.11519225807590813), (1876, 0.0), (1877, 0.14020560100032775), (1878, 0.0903972537316863), (1879, 0.0), (1880, 0.03942674912403197), (1881, 0.08707603860724128), (1882, 0.1744717009969801), (1883, 0.07985775585226088), (1884, 0.21142089018977947), (1885, 0.12464811664308519), (1886, 0.0), (1887, 0.03988166906625873), (1888, 0.04124701106439273), (1889, 0.11080774407232374), (1890, 0.1140780910748791), (1891, 0.0), (1892, 0.19241145950394373), (1893, 0.15806271108971248), (1894, 0.10914778614370156), (1895, 0.10914778614370156), (1896, 0.08565196640704531), (1897, 0.2322241428109354), (1898, 0.0), (1899, 0.10693700978348268), (1900, 0.06011583539127496), (1901, 0.06011583539127496), (1902, 0.0536939586829114), (1903, 0.02493885962011314), (1904, 0.2732699470937664), (1905, 0.031435588387736677), (1906, 0.5321324076117206), (1907, 0.0557562391120474), (1908, 0.01907185536117647), (1909, 0.04179763854115411), (1910, 0.49131629060382476), (1911, 0.49131629060382476), (1912, 0.14875648915785253), (1913, 0.04095465134798791), (1914, 0.14485841490066606), (1915, 0.09593493679112435), (1916, 0.20265459854994153), (1917, 0.0), (1918, 0.0), (1919, 0.030422249742378685), (1920, 0.2011741613627784), (1921, 0.04433333193823136), (1922, 0.03161958260628982), (1923, 0.055772314228279864), (1924, 0.06802859360471351), (1925, 0.20358725971073363), (1926, 0.09336168202883252), (1927, 0.0), (1928, 0.07667392083710292), (1929, 0.14660968419203282), (1930, 0.07748387559907347), (1931, 0.05510133766612492), (1932, 0.0), (1933, 0.08928166451595215), (1934, 0.0), (1935, 0.25332182292522276), (1936, 0.03385987442459616), (1937, 0.10672020922254813), (1938, 0.03462973047295931), (1939, 0.06421130316751407), (1940, 0.0830806354598594), (1941, 0.03289570553136468), (1942, 0.21204089707523713), (1943, 0.0), (1944, 0.09601965444574645), (1945, 0.0730392063078808), (1946, 0.1508571960472751), (1947, 0.13329527748952996), (1948, 0.06732416171264008), (1949, 0.04179717813625426), (1950, 0.04086860867458142), (1951, 0.11853473116880701), (1952, 0.04078863492697952), (1953, 0.3548108041144146), (1954, 0.16174154229438933), (1955, 0.02853186423848569), (1956, 0.09946718427123631), (1957, 0.0), (1958, 0.0), (1959, 0.09496749046477351), (1960, 0.27849662927928565), (1961, 0.06464227026106106), (1962, 0.06147671301115718), (1963, 0.0), (1964, 0.037649363876823744), (1965, 0.18607676413272484), (1966, 0.03663426781455593), (1967, 0.09241958060699763), (1968, 0.08795896451836185), (1969, 0.1649366625695822), (1970, 0.0707472336823886), (1971, 0.3118638600044938), (1972, 0.029865083872263738), (1973, 0.022341776709579358), (1974, 0.10003900547653122), (1975, 0.19088659064830518), (1976, 0.18760441172841255), (1977, 0.019954376627255535), (1978, 0.04039195243587675), (1979, 0.02731802960530531), (1980, 0.16231152328194814), (1981, 0.10454670422497722), (1982, 0.20838521758480796), (1983, 0.04459475765222868), (1984, 0.05082497480938632), (1985, 0.042476657137657685), (1986, 0.0), (1987, 0.030656553127789813), (1988, 0.25816308169153046), (1989, 0.0), (1990, 0.03051814635790226), (1991, 0.03707099585960941), (1992, 0.04029336676654087), (1993, 0.07085072987293013), (1994, 0.0), (1995, 0.028649356599311972), (1996, 0.21576505390279332), (1997, 0.11897709434669004), (1998, 0.03431540940824938), (1999, 0.06161874649348409)]\n"
          ]
        }
      ]
    },
    {
      "cell_type": "code",
      "source": [
        "len(similarity_score)\n"
      ],
      "metadata": {
        "colab": {
          "base_uri": "https://localhost:8080/"
        },
        "id": "FymtM2P556dA",
        "outputId": "e4ac1767-e1c3-4efc-e8f8-28d41cce679f"
      },
      "execution_count": null,
      "outputs": [
        {
          "output_type": "execute_result",
          "data": {
            "text/plain": [
              "2000"
            ]
          },
          "metadata": {},
          "execution_count": 23
        }
      ]
    },
    {
      "cell_type": "code",
      "source": [
        "#sorting anime based on their similarity score\n",
        "sorted_similar_anime = sorted(similarity_score , key =lambda x:x[1], reverse= True)\n",
        "print(sorted_similar_anime)"
      ],
      "metadata": {
        "colab": {
          "base_uri": "https://localhost:8080/"
        },
        "id": "ji5Q4fyu59pI",
        "outputId": "afe31ffb-c0d8-45d4-fd66-9a3618ca88b8"
      },
      "execution_count": null,
      "outputs": [
        {
          "output_type": "stream",
          "name": "stdout",
          "text": [
            "[(15, 1.0), (99, 0.8015714073410443), (142, 0.7979764178297742), (28, 0.7853932879537789), (4, 0.7768052176385466), (9, 0.7768052176385466), (23, 0.7768052176385466), (427, 0.7732452177758891), (11, 0.7669152021621374), (5, 0.7617780465770233), (6, 0.7500234361808844), (124, 0.729346116919641), (428, 0.7082839843946975), (18, 0.6706530865231328), (106, 0.6299198362543741), (162, 0.608126400968168), (1338, 0.608126400968168), (466, 0.5804325879630409), (1649, 0.5759429369189052), (1695, 0.5693974226673852), (246, 0.5686759530629875), (1906, 0.5321324076117206), (115, 0.5241174608936663), (911, 0.5202785849113096), (707, 0.5149128462728977), (1719, 0.5147881849293287), (1803, 0.5102153964906118), (822, 0.5097250410392469), (1731, 0.5081627307023955), (737, 0.5067219798262219), (742, 0.5067219798262219), (1696, 0.5033301278969936), (1344, 0.49899444720900443), (235, 0.4942601107615183), (1910, 0.49131629060382476), (1911, 0.49131629060382476), (1864, 0.490597224340709), (736, 0.48811565638452376), (607, 0.4863783686349945), (635, 0.4622895375546342), (1081, 0.458097860012519), (1748, 0.4546424003110753), (633, 0.4451337063416959), (641, 0.4354268337188516), (192, 0.43468218251306795), (1779, 0.42629677648347175), (1656, 0.42477145879606354), (630, 0.4242901878605134), (478, 0.4240885057567317), (1426, 0.4144958799701682), (945, 0.41316313244926306), (887, 0.4060547485950945), (628, 0.3931693708392363), (1511, 0.39006856057544687), (512, 0.38389891850425906), (1679, 0.38343842179182486), (1485, 0.38249240603824125), (632, 0.3821507448396931), (1115, 0.3756102077356445), (129, 0.373177779470977), (1075, 0.3679181884968573), (564, 0.36204769720292346), (709, 0.36204769720292346), (1750, 0.358012705896539), (149, 0.3566006353581637), (140, 0.3561453093736343), (1953, 0.3548108041144146), (1450, 0.3509161649259744), (634, 0.3507821691004302), (1558, 0.3489406389064503), (1519, 0.3463781838862987), (1177, 0.34503052233798687), (1396, 0.3445649603675582), (288, 0.34246970533303145), (433, 0.3415648025143333), (1244, 0.34142938875973433), (1737, 0.3405114541126256), (589, 0.3380621407131057), (1596, 0.33708457530821656), (252, 0.3370758476556077), (1012, 0.33621590930438855), (334, 0.33517412686884934), (319, 0.33495338960663923), (699, 0.3346819018984494), (1504, 0.33388222875475443), (1505, 0.33388222875475443), (640, 0.3317409672422644), (1549, 0.33133180679856694), (963, 0.3278273721666204), (1562, 0.32747043570496026), (1131, 0.32733780313694677), (417, 0.3273102697349012), (1467, 0.3234135172096811), (1162, 0.3218379163424712), (1866, 0.32150836028597085), (689, 0.31891861766251883), (16, 0.31800298773387714), (1439, 0.3167665402867211), (850, 0.31664311904234294), (629, 0.31659424937502995), (1753, 0.3144385638767163), (1971, 0.3118638600044938), (1828, 0.3111469622602072), (1278, 0.3085744541932237), (1410, 0.30681483825337097), (1265, 0.30644695061694965), (1055, 0.30262093844618254), (271, 0.30083593993134805), (1352, 0.2995144382904268), (1742, 0.2971949364739083), (1727, 0.2956750606981076), (574, 0.29492052479441605), (46, 0.2933942212959504), (599, 0.2897240242637325), (637, 0.2888574053446055), (806, 0.28787764567957114), (1605, 0.2852971738334532), (1697, 0.28497404358418194), (546, 0.28049217982542074), (1108, 0.2795874109878791), (1470, 0.2793946122235808), (1960, 0.27849662927928565), (631, 0.2778015058815753), (1281, 0.2758720269127592), (1569, 0.27516559217665887), (1583, 0.27482584292066103), (1904, 0.2732699470937664), (1042, 0.2729955995432845), (1374, 0.27119280308013133), (965, 0.27085125179394476), (1111, 0.26868091487603657), (889, 0.268083086109136), (636, 0.2658490700385468), (1094, 0.2652975976205811), (765, 0.2646920181750748), (1676, 0.26374482379093706), (712, 0.2604240726528463), (1087, 0.2592398282140041), (1988, 0.25816308169153046), (804, 0.25748344578369486), (1394, 0.2539716318919344), (1935, 0.25332182292522276), (910, 0.2528604641812536), (526, 0.2523559991123535), (1767, 0.2523108328905344), (1488, 0.2505784087433766), (1400, 0.25031164408596424), (769, 0.24974208586194396), (900, 0.24849765187634434), (1870, 0.24792605449464147), (1129, 0.24739927180439078), (835, 0.24473949425059377), (669, 0.24432735939212313), (638, 0.24328405265273845), (1221, 0.24293079558714953), (1536, 0.24117571803978255), (1603, 0.23990860963635566), (440, 0.23757721887688185), (700, 0.23735626045969743), (1031, 0.2367427097602181), (1665, 0.23669433485818103), (1225, 0.2366330161679766), (89, 0.23604943644322784), (719, 0.2358339374609124), (1088, 0.2355435216907365), (1089, 0.2355435216907365), (1736, 0.23554350083032327), (1085, 0.23553851516692725), (882, 0.23422295938240334), (1897, 0.2322241428109354), (220, 0.23167249709873636), (459, 0.23017936273447126), (639, 0.22817021134526966), (59, 0.22612425803607483), (646, 0.22450922231975529), (303, 0.22347038010647527), (1776, 0.2231456716200674), (1121, 0.22226830403669373), (744, 0.22140519386328197), (596, 0.22130093522335437), (113, 0.2211389028344724), (66, 0.22078763889563563), (322, 0.21991231797543823), (1590, 0.21943127602257723), (938, 0.2188678765930969), (764, 0.21857190918130254), (1080, 0.21707656574137088), (1874, 0.2162413978408055), (1996, 0.21576505390279332), (1156, 0.21547450850982083), (504, 0.2133312485200837), (1942, 0.21204089707523713), (1884, 0.21142089018977947), (118, 0.21135501840512164), (1237, 0.21013942737757926), (1648, 0.209803517809381), (1672, 0.20953573975241674), (890, 0.20880080418218883), (995, 0.2086343093225199), (799, 0.20855653238918953), (1982, 0.20838521758480796), (1840, 0.20808785612343328), (473, 0.20805845902414405), (1301, 0.2076761694478472), (1812, 0.2064953664363275), (1342, 0.20596483116578612), (808, 0.20581210837771832), (22, 0.20580948980012315), (1633, 0.20568643017300156), (601, 0.20555224385587684), (961, 0.2042495805605112), (179, 0.20393749576087888), (1800, 0.2037077864047244), (483, 0.20365300787104829), (1925, 0.20358725971073363), (1274, 0.20304474133534414), (1916, 0.20265459854994153), (1412, 0.2023002465099385), (1284, 0.20189172320378246), (1920, 0.2011741613627784), (1577, 0.20112647967723482), (1380, 0.20056087142867382), (1565, 0.19880679311640653), (784, 0.19847559254387698), (976, 0.19816529860332296), (429, 0.19786405988080602), (461, 0.19775040779720804), (858, 0.19761555374831752), (1486, 0.1975924150161193), (1567, 0.19746014502961348), (1629, 0.19739191738740983), (836, 0.19682173266936032), (1647, 0.19682173266936032), (1526, 0.19639076856100746), (577, 0.1959289533771628), (1510, 0.19569230995048512), (1228, 0.1955487769980387), (274, 0.1954129787136963), (1256, 0.19486729938135555), (1854, 0.19377518896393836), (983, 0.19272806702105022), (1892, 0.19241145950394373), (1787, 0.19221692538075302), (1206, 0.19204196908800883), (1515, 0.19202380100247887), (1048, 0.19201915130189096), (1765, 0.1919319759781141), (1791, 0.19181991420920258), (1391, 0.19120254175815052), (1531, 0.1909838378004624), (1975, 0.19088659064830518), (1436, 0.19035833898347723), (302, 0.19031050750723955), (1125, 0.19027335289848163), (1252, 0.19025497334405586), (749, 0.19010828845249284), (1825, 0.1898645534195693), (501, 0.18875930245287637), (1722, 0.18867242694144895), (1193, 0.18790757626100607), (1159, 0.1878250855885269), (1976, 0.18760441172841255), (874, 0.1874605309317369), (1086, 0.1874605309317369), (1092, 0.1874605309317369), (1335, 0.1874605309317369), (906, 0.1871396592763104), (955, 0.18698028838932573), (211, 0.18688165948824717), (1579, 0.18645561585071307), (241, 0.18643753317618003), (47, 0.18609839887149265), (1965, 0.18607676413272484), (395, 0.1855310118585538), (323, 0.18552220246903592), (1613, 0.18539920462562837), (1442, 0.18534800639813334), (569, 0.18526801095074202), (1855, 0.1849928094749407), (883, 0.18395289951639082), (460, 0.18356309431432583), (768, 0.18328844383664442), (448, 0.18309678279599287), (1616, 0.18300620113401883), (1788, 0.18288478197341151), (1516, 0.18262500614404767), (119, 0.18194328841835905), (1600, 0.18158962446857496), (331, 0.18157345896812974), (237, 0.18100906690201032), (449, 0.18073975913377324), (117, 0.17854547034515922), (1136, 0.17821346727116538), (1530, 0.17797919751331343), (886, 0.17786377100496983), (1433, 0.17721886897512912), (1141, 0.17700926014479454), (1314, 0.17663664264877513), (1388, 0.17644806724701176), (1179, 0.1760128050372806), (42, 0.17583888679812804), (718, 0.17559021172024908), (1500, 0.17494405215628872), (1838, 0.17468772429545554), (1882, 0.1744717009969801), (1518, 0.17439869829193616), (686, 0.17438611386396652), (855, 0.17438611386396652), (1650, 0.17435940556813445), (1330, 0.1742681449264509), (1482, 0.17421137220252556), (1821, 0.17351006611378034), (1422, 0.17349029955179404), (909, 0.17335298415683326), (132, 0.17298132698201804), (1641, 0.17292249585601543), (1405, 0.17287958310238252), (532, 0.17243673155239797), (1554, 0.1723103293681934), (1824, 0.17199913892500573), (1300, 0.17199364057505825), (1586, 0.17185144911291933), (1525, 0.17111736761616123), (872, 0.17098393210864304), (1154, 0.17086634020880684), (62, 0.17064503162227274), (566, 0.17059203300814707), (444, 0.17051809627952397), (1128, 0.17034038787835115), (1176, 0.1702525726805798), (724, 0.1699739707530623), (1122, 0.16988563825240352), (1454, 0.16952616788631783), (795, 0.16922065058612845), (134, 0.16914198276713907), (126, 0.16912336029618322), (869, 0.16827326030337772), (1184, 0.16827326030337772), (545, 0.16795468366877564), (286, 0.16761831744473651), (551, 0.1672761280752861), (1453, 0.16716113072596542), (1571, 0.16649652903101808), (48, 0.16592960795361628), (996, 0.16590135184879337), (1185, 0.16590135184879337), (502, 0.1656145145442967), (1969, 0.1649366625695822), (136, 0.1646024880004361), (1372, 0.1645414168640027), (972, 0.1644185792434159), (222, 0.1644047932516289), (1626, 0.16408039427707288), (295, 0.16370302062873393), (515, 0.1636201126706858), (655, 0.16302430798602335), (1494, 0.1628972356935935), (1364, 0.16271521328443442), (1806, 0.16263248564914679), (1775, 0.16255739180103773), (400, 0.1625176208811103), (464, 0.1624879987020488), (1980, 0.16231152328194814), (490, 0.16200573763966097), (1481, 0.16181415183025064), (348, 0.1618066182578356), (1570, 0.16174154229438933), (1954, 0.16174154229438933), (1205, 0.16168158965569265), (932, 0.16159323045410087), (791, 0.1608812772662823), (1548, 0.1605990389083813), (1167, 0.1604374162854742), (257, 0.16034372715413725), (403, 0.16034372715413725), (1137, 0.16022560101897898), (832, 0.16009560530696493), (1452, 0.16001288204157793), (35, 0.15946026102666136), (1514, 0.15936169447964801), (834, 0.1591393887201172), (982, 0.15901952290261095), (1873, 0.1589753379149909), (108, 0.1585245352463235), (1023, 0.15845346541395647), (1240, 0.15825841708355579), (1893, 0.15806271108971248), (350, 0.15763530073034548), (1332, 0.15748509822043139), (1134, 0.15690099863174578), (1198, 0.1566240996179481), (1236, 0.15615943370373794), (584, 0.15585957953927387), (164, 0.15564491380721868), (321, 0.15564491380721868), (1346, 0.15564491380721868), (1668, 0.15564491380721868), (662, 0.1553990051627891), (1818, 0.1549845455785094), (1226, 0.15487540508306658), (1313, 0.1548299428056257), (775, 0.15458088126063868), (407, 0.1544427451744293), (408, 0.1544427451744293), (759, 0.1544427451744293), (1692, 0.1542148487417031), (92, 0.15417850257441953), (381, 0.1538688244109828), (740, 0.15381521844252216), (1712, 0.15372056967287612), (1061, 0.15332974446504977), (1106, 0.15275581441161387), (948, 0.1522723967849683), (949, 0.15214540598903623), (1119, 0.15214353407038814), (643, 0.1521344931282038), (586, 0.15204973681230066), (176, 0.1519802683417588), (384, 0.15169807733173785), (33, 0.1516442516645047), (456, 0.15144597087719747), (84, 0.15136715471601855), (51, 0.1512166018437269), (1704, 0.1511294548250283), (127, 0.15094895557909863), (1039, 0.15085942939506), (1946, 0.1508571960472751), (289, 0.1506529592822457), (1809, 0.1502958488378106), (523, 0.15025194906247896), (41, 0.150118608343508), (1780, 0.15001150641955613), (674, 0.14998859229596742), (1718, 0.14987085912605014), (1756, 0.14955364478745134), (1127, 0.1494466769854269), (1227, 0.14937419528968224), (1084, 0.14919845828019795), (1522, 0.14899543637849377), (1034, 0.14899190542388352), (1912, 0.14875648915785253), (19, 0.14828337547808956), (1859, 0.14822811349965595), (1759, 0.14812982571623945), (232, 0.14800706389608315), (443, 0.14780957543600481), (704, 0.14776673520328273), (691, 0.14725811988441403), (1027, 0.14722490880028444), (1376, 0.14718117891680635), (997, 0.14696705661842488), (1204, 0.14671725775219535), (265, 0.14667278802897538), (865, 0.14661825213650853), (1929, 0.14660968419203282), (853, 0.14659892611557634), (1392, 0.14642555136719176), (1845, 0.14640190914957074), (1019, 0.14635963241123395), (455, 0.14584033079948452), (679, 0.14580048696132375), (710, 0.14568766014370413), (840, 0.14538200768446727), (527, 0.14533173249023112), (1591, 0.14525309906119832), (1914, 0.14485841490066606), (726, 0.14432271462535207), (626, 0.14421673181232397), (627, 0.14421673181232397), (685, 0.14421673181232395), (1836, 0.14414812889696868), (426, 0.14412078611248041), (249, 0.14407596976463877), (1491, 0.14385331481163202), (114, 0.1433299667762247), (579, 0.1426509431721466), (856, 0.14263450047092352), (306, 0.14208285650054972), (958, 0.14202955451673535), (343, 0.1419807619804393), (424, 0.14172660175829283), (727, 0.14150682469486353), (203, 0.14146461577668332), (511, 0.14107030673456003), (52, 0.14091263264405293), (53, 0.14091263264405293), (1796, 0.14053180534185206), (1343, 0.1402146883831264), (1877, 0.14020560100032775), (597, 0.1401717669422109), (492, 0.14003691631099588), (1636, 0.13969087574487127), (137, 0.13945402829741835), (732, 0.13917013161862485), (447, 0.13915742637543022), (147, 0.13871297242707928), (1581, 0.1386721942510027), (1757, 0.13841007693092772), (1513, 0.13809893552328933), (195, 0.13782979393617562), (678, 0.1378198453221564), (758, 0.1378198453221564), (1456, 0.1375327017001554), (110, 0.13747695830506437), (926, 0.13723901313290832), (169, 0.1369749930954027), (378, 0.13696363097492728), (1370, 0.13621381301196694), (299, 0.13562637896051655), (1411, 0.13522036246131633), (786, 0.13490211752084827), (805, 0.1348026263962332), (1350, 0.13458903984622675), (562, 0.13429386205318555), (482, 0.1342476579838939), (1428, 0.13397972369900446), (1033, 0.13397060686823425), (1149, 0.13385697465927196), (387, 0.13376249097451162), (366, 0.13370076606893913), (189, 0.13343226761095092), (1947, 0.13329527748952996), (1160, 0.13301388508815729), (1660, 0.13291133357813867), (992, 0.13282888345761537), (1667, 0.13281923903179735), (1366, 0.1327667934527103), (1068, 0.1327209339596186), (561, 0.13269915784379707), (919, 0.1324996306019773), (953, 0.13233133503161212), (1793, 0.13228805786390202), (107, 0.13218442281373302), (394, 0.1321120349764891), (582, 0.1319200902338298), (262, 0.13152021747322307), (258, 0.1314704151733147), (1041, 0.13136515480549177), (1393, 0.13104822887623555), (1268, 0.13066036170556913), (198, 0.1306228017266056), (947, 0.13004350713623258), (1052, 0.12992441824097223), (779, 0.12952809603695714), (196, 0.12950294739845966), (489, 0.1294704892304473), (423, 0.12943109297389568), (1861, 0.1292333572475352), (470, 0.12919659130719327), (1449, 0.1290666272818339), (934, 0.12729441445928402), (1286, 0.12710384032309793), (1534, 0.12710384032309793), (1181, 0.12703712746364837), (1320, 0.1269140238907001), (175, 0.12681733435256023), (1045, 0.1267137665859243), (733, 0.12613125310076365), (703, 0.12576048725335762), (1473, 0.1254644299682955), (1316, 0.12525212643343728), (1885, 0.12464811664308519), (557, 0.12457976734779473), (1498, 0.12383493968985976), (1604, 0.12383421533456161), (376, 0.1233134399631835), (1842, 0.12305036724669396), (642, 0.12261634888693904), (201, 0.12253167518014005), (773, 0.12237874447964271), (1708, 0.12227006477820136), (1585, 0.1220486148749193), (656, 0.12202648299768187), (1705, 0.12189981246748566), (1528, 0.12176888103150983), (418, 0.12126219164136842), (345, 0.1210093953548031), (1004, 0.1207669744841163), (1724, 0.12050735335246213), (1725, 0.12050735335246213), (425, 0.12048997439158574), (885, 0.12035572163430412), (374, 0.1199275838268925), (1356, 0.11956166284135655), (402, 0.11942884434395892), (578, 0.1194183562864814), (1090, 0.11940176168015418), (1230, 0.11917487627772873), (1997, 0.11897709434669004), (388, 0.11886864479541621), (659, 0.11855714868368805), (1951, 0.11853473116880701), (1312, 0.11833705788090673), (814, 0.11829113347083894), (496, 0.11793824895926128), (314, 0.11784985899157197), (729, 0.11778987658812429), (1, 0.11778848432256006), (285, 0.11761830544177215), (209, 0.1172450975102336), (1254, 0.11707201557769156), (10, 0.11693461653859354), (1328, 0.11678942442080063), (145, 0.11661014501488667), (1587, 0.11611683302775219), (1835, 0.11594898168072246), (708, 0.11588405796556266), (233, 0.11536568491795363), (1875, 0.11519225807590813), (1847, 0.11472014491073555), (1355, 0.11427025942620124), (1890, 0.1140780910748791), (1703, 0.1135270603003488), (952, 0.1133747769600867), (1843, 0.11335755130762451), (105, 0.11297146648044783), (308, 0.11260558237664088), (100, 0.11243007735544658), (819, 0.11232912109734884), (441, 0.11232882296409165), (138, 0.1122692988677102), (916, 0.11203499826158053), (1617, 0.11173348385411608), (486, 0.11172897478933524), (386, 0.11168003928525547), (1110, 0.11158897417541237), (1489, 0.11105388833260438), (1506, 0.11105388833260438), (1889, 0.11080774407232374), (998, 0.11059463623753125), (857, 0.11035763854651146), (1563, 0.11027211616007246), (73, 0.1102101662372348), (1480, 0.11002590565346988), (664, 0.10993624239633881), (1365, 0.10990843440784023), (283, 0.10980847162336181), (68, 0.109722553869157), (1541, 0.109722553869157), (1078, 0.10923491280101451), (1322, 0.10919261815672456), (1894, 0.10914778614370156), (1895, 0.10914778614370156), (880, 0.1090366282692499), (1348, 0.1090366282692499), (1593, 0.10842127552042896), (276, 0.1082528861322925), (772, 0.10792638854229872), (522, 0.10781585414199346), (50, 0.10769245283758432), (816, 0.10766655923069729), (1337, 0.10724915260480078), (1716, 0.107244993400163), (1899, 0.10693700978348268), (1035, 0.10689739342877755), (1038, 0.10689739342877755), (1937, 0.10672020922254813), (1363, 0.1065397037048926), (1463, 0.1064195352883891), (480, 0.10629218435183015), (1592, 0.10579146932106342), (1325, 0.10539946604709513), (1022, 0.10504325536258134), (3, 0.10485541141466041), (1508, 0.10474850175529614), (663, 0.10468382391015252), (1981, 0.10454670422497722), (1786, 0.10451234820440174), (1871, 0.10436174051936845), (866, 0.10414142560781567), (1196, 0.10414142560781567), (238, 0.10408691744681099), (420, 0.10396895936553952), (693, 0.10346482277744272), (728, 0.10326209344115422), (91, 0.10319453067340849), (1250, 0.10300099951045813), (1379, 0.10297882733713795), (1133, 0.10294993288184996), (1639, 0.10280012997003213), (143, 0.10272720137365979), (782, 0.10222926053891618), (785, 0.10222926053891618), (1037, 0.10212179252666337), (296, 0.10180291070481476), (531, 0.1016990985497518), (1259, 0.10169199821214803), (317, 0.10157985744987592), (676, 0.10127659494683278), (505, 0.10118040597959328), (1219, 0.10088255347845677), (927, 0.10078870350724212), (261, 0.1007435427251376), (1306, 0.10062569071445102), (410, 0.10056133181737223), (670, 0.10056133181737223), (1974, 0.10003900547653122), (908, 0.09997561447211639), (1028, 0.09966622692253231), (1079, 0.09955203496074977), (1319, 0.09948221418524068), (1956, 0.09946718427123631), (293, 0.09930046777211878), (863, 0.09892371537404612), (1287, 0.09888701378088195), (757, 0.09874154044374231), (1063, 0.09872710282832255), (339, 0.09861429029717614), (1848, 0.09840505103403185), (792, 0.09812182024023991), (1161, 0.09809977245743504), (1070, 0.09794262700803832), (829, 0.09752972385990923), (406, 0.09738810590265323), (1589, 0.09714790591208673), (362, 0.09710388505927531), (404, 0.09710388505927531), (783, 0.097051968029939), (1655, 0.09671085973937552), (204, 0.09663944003070558), (815, 0.09653576545651552), (487, 0.09648596247040771), (7, 0.0962651737532566), (730, 0.0962651737532566), (605, 0.09602389416192314), (1944, 0.09601965444574645), (1915, 0.09593493679112435), (1288, 0.09589945223121142), (1666, 0.09564183807231302), (1357, 0.09560062045159019), (1763, 0.0954811300682099), (228, 0.09535790684094678), (280, 0.09535790684094678), (1064, 0.09522509827400505), (615, 0.09515706173882439), (1598, 0.09505889948586888), (1959, 0.09496749046477351), (375, 0.0947903299903048), (1420, 0.09466421120858329), (1051, 0.09452475326506427), (1720, 0.09449803078036345), (820, 0.09449303254027328), (1103, 0.09358088626906277), (1359, 0.09352515477622375), (1802, 0.09350994697836029), (1285, 0.0934802991127772), (213, 0.09340614665570142), (1334, 0.09337066271939047), (1926, 0.09336168202883252), (269, 0.09328029996539179), (1575, 0.09315106486629236), (1091, 0.09302894612659338), (735, 0.09250056459209091), (1262, 0.09246607586340996), (1967, 0.09241958060699763), (1173, 0.09218581704840212), (1440, 0.09167458191317274), (760, 0.09156421546794713), (360, 0.09146280923794424), (1700, 0.09123635490766074), (1416, 0.09073535192197354), (1438, 0.09053931155929537), (465, 0.09047667457747174), (1878, 0.0903972537316863), (1734, 0.09035488605345643), (521, 0.09019932106281682), (1706, 0.09010907155068004), (416, 0.09005888539245391), (1735, 0.08978891491527888), (1713, 0.08943934030031814), (1150, 0.08939100597914545), (1933, 0.08928166451595215), (419, 0.08920861451873303), (281, 0.0891940262086514), (1279, 0.08884321847391902), (1025, 0.08883585347038288), (1822, 0.08879156518901826), (751, 0.08852570428097639), (1968, 0.08795896451836185), (1404, 0.08772539703713972), (821, 0.0875635915639987), (943, 0.0875635915639987), (304, 0.08755016372590718), (1620, 0.08740892468174243), (1798, 0.08730517738407645), (393, 0.08722441808682387), (842, 0.08720638580987031), (1881, 0.08707603860724128), (825, 0.08689489076907733), (1258, 0.08687134650454761), (1245, 0.08682979104364116), (803, 0.08680572352889415), (0, 0.08676838208058105), (1040, 0.08658777128356906), (1232, 0.08654200754587482), (989, 0.0864748244854553), (761, 0.08639697728782061), (212, 0.08636432121657568), (355, 0.08626403358608895), (1145, 0.08595973891792863), (1361, 0.08575337707593537), (1896, 0.08565196640704531), (528, 0.08559785798875087), (120, 0.0855429321553918), (618, 0.08547914998836331), (1686, 0.08546389269705251), (90, 0.08543637171625118), (1580, 0.08535908445492381), (1378, 0.08534618097254246), (1257, 0.08519985537604391), (21, 0.08519049710925514), (116, 0.08519049710925514), (1789, 0.08512763597282796), (1140, 0.08507574151161257), (901, 0.08502170319403024), (1302, 0.0850086226969598), (1643, 0.08485804203368671), (1233, 0.08483645687904273), (647, 0.08443804692600326), (688, 0.08435452757176448), (859, 0.08435452757176447), (1114, 0.08424391254936493), (1381, 0.08411242387692794), (959, 0.08408897004884909), (668, 0.08399712354206904), (255, 0.08394489074722693), (452, 0.08394489074722693), (74, 0.08324294589811744), (787, 0.08322013789593215), (946, 0.08322013789593215), (503, 0.08320458943919612), (1940, 0.0830806354598594), (683, 0.08301805283452887), (524, 0.08290260643783177), (525, 0.08290260643783177), (510, 0.08256873076611324), (543, 0.08256873076611324), (745, 0.08256873076611324), (1823, 0.08250115786833344), (1624, 0.0824544696786177), (1178, 0.08223871724516163), (415, 0.0822167269963586), (353, 0.08221411051915715), (753, 0.08221313505032954), (325, 0.08213689828134925), (1533, 0.08196947281015055), (1276, 0.08196116602062961), (435, 0.08184316082262097), (287, 0.08144955442490569), (1067, 0.08136646942422557), (247, 0.08134520972348153), (604, 0.08131001970054746), (1461, 0.0812993815177499), (698, 0.08124455394313851), (1707, 0.08105779505055519), (892, 0.08102891012097042), (1024, 0.08093335152977682), (475, 0.08057893823526904), (1495, 0.08012337914741997), (367, 0.08009517220247636), (313, 0.07992950051528872), (1883, 0.07985775585226088), (450, 0.07949490346087226), (1423, 0.07949072280741806), (396, 0.07937859045090354), (364, 0.07914317554176846), (594, 0.07895451902738876), (1819, 0.07888090206298146), (1744, 0.07882577061944407), (278, 0.07848458247955561), (500, 0.07846168961569014), (905, 0.07833037768455166), (877, 0.07812466995445905), (1395, 0.07774953574109839), (1168, 0.07759120538435962), (870, 0.07750448887534217), (1930, 0.07748387559907347), (789, 0.07742972478445181), (1231, 0.07721635559239803), (1772, 0.07693620895165795), (1047, 0.07684200165861832), (451, 0.07675232351525305), (766, 0.07670653292473972), (1928, 0.07667392083710292), (1645, 0.07653873723872623), (1109, 0.0764281156946704), (1169, 0.07580910536512518), (1216, 0.07560523916713774), (1013, 0.0756019420744366), (356, 0.07555740260399607), (139, 0.07549581197623588), (1043, 0.07529112447146243), (1715, 0.07503896498310009), (55, 0.07483456443681212), (102, 0.07479614475747948), (45, 0.0747381902305101), (812, 0.07461941518515336), (845, 0.07438452510613129), (39, 0.07431171614802987), (474, 0.07430831160914099), (78, 0.07425967385927189), (1362, 0.07416006219476298), (826, 0.07371522135800074), (1273, 0.07367599168052402), (891, 0.07358606974665582), (148, 0.07335552841512474), (1082, 0.07335082080539415), (1681, 0.07321015192582549), (72, 0.07308358764890396), (1945, 0.0730392063078808), (1781, 0.07277432069440758), (517, 0.07268415143068607), (1637, 0.07257815175940088), (122, 0.07253623216016389), (1564, 0.07250397096134353), (468, 0.07244460567698079), (651, 0.07229117730140006), (82, 0.07224765897488113), (25, 0.07213175754156506), (88, 0.07210739772397243), (2, 0.07174746074092793), (1552, 0.07154968966850572), (1851, 0.07154862843997484), (38, 0.07143529191324478), (1790, 0.07134968416399629), (722, 0.07121406996995638), (27, 0.07107325265287742), (1993, 0.07085072987293013), (1970, 0.0707472336823886), (1474, 0.06998063158577024), (610, 0.0698871767573069), (1858, 0.06969932276277077), (1745, 0.06968279703587821), (1588, 0.06967384419478746), (1218, 0.06963202436480373), (1445, 0.06923597059695707), (49, 0.06915265886708896), (583, 0.06907508830836091), (398, 0.06901914450634475), (1175, 0.06889561519593315), (457, 0.06869513982996348), (971, 0.06857810530649615), (924, 0.06836252908820654), (981, 0.06836252908820654), (1834, 0.06824827695054435), (1784, 0.06823885338559207), (1277, 0.06823516848233188), (861, 0.06812747546815204), (1924, 0.06802859360471351), (239, 0.0678931743723151), (168, 0.06773586113471594), (1529, 0.06768597941369758), (1026, 0.06766632639995304), (1574, 0.06732416171264008), (1948, 0.06732416171264008), (1723, 0.06732335338191502), (1632, 0.06693199111169043), (687, 0.0668672280862975), (619, 0.06685139980411171), (324, 0.06679519349230584), (1654, 0.06679519349230584), (1415, 0.06666588627492555), (259, 0.06646622099128383), (1170, 0.06637340469239252), (150, 0.06613370947380934), (957, 0.06612946142634289), (1307, 0.06605181042936571), (335, 0.06603850142519051), (1249, 0.06595826142087083), (1683, 0.06575426968220754), (186, 0.06493222538439188), (294, 0.06491207642901531), (1507, 0.0646914001423297), (1961, 0.06464227026106106), (696, 0.06463395080700611), (242, 0.06444887673123416), (329, 0.06444887673123416), (1339, 0.06444887673123416), (1599, 0.06435171804051605), (1939, 0.06421130316751407), (1304, 0.06417104130723925), (1397, 0.06404453261913826), (1398, 0.06404453261913826), (978, 0.06399307079360528), (199, 0.06394962994598377), (315, 0.06394962994598377), (316, 0.06394962994598377), (828, 0.06393886285759334), (1076, 0.06369273409871434), (231, 0.06365280232915162), (359, 0.06365280232915162), (1116, 0.06348941819952925), (1151, 0.0634481553243278), (1478, 0.06331192967885407), (1771, 0.06315278891705695), (1200, 0.0630427301722678), (846, 0.06276897119667868), (1101, 0.06276039202355761), (379, 0.06258010825487673), (380, 0.06258010825487673), (898, 0.06258010825487673), (530, 0.06218847016023491), (1837, 0.0618005223729488), (1126, 0.061748572498547795), (1785, 0.06173542125828372), (1611, 0.06170603107399228), (44, 0.06166616606860026), (385, 0.06166120825501746), (1999, 0.06161874649348409), (1512, 0.06160270080610599), (1578, 0.06147671301115718), (1962, 0.06147671301115718), (931, 0.06146619983810013), (1272, 0.06133301697751195), (1293, 0.06098438675005144), (111, 0.06095301296343075), (1282, 0.06089575725667595), (1630, 0.06089096553222315), (494, 0.060678901428199726), (225, 0.06062261970120441), (701, 0.06046508968029614), (702, 0.06046508968029614), (1188, 0.06046508968029614), (1058, 0.06045527207157807), (476, 0.06041216846594523), (1280, 0.06028327198061882), (498, 0.06019535674088519), (568, 0.06014178471090685), (1900, 0.06011583539127496), (1901, 0.06011583539127496), (1698, 0.05971826908899508), (956, 0.05962359130473315), (1069, 0.05955459898415862), (734, 0.0595140468069429), (1710, 0.05915507440033376), (606, 0.0591452966300717), (741, 0.05888205586115828), (603, 0.058760782587670785), (462, 0.05864511569626296), (1006, 0.05860792270531292), (990, 0.058447009735997583), (454, 0.05830593707647827), (1673, 0.05750863505356501), (1827, 0.0575086311741071), (1559, 0.057337070507487486), (245, 0.05725685128370867), (141, 0.057076156126210864), (1427, 0.056865329668019826), (1749, 0.056849397583120576), (518, 0.05661247963058799), (1659, 0.056513834258123764), (405, 0.05631590091565432), (762, 0.05600200668650147), (844, 0.05600200668650147), (234, 0.05579711519428461), (1923, 0.055772314228279864), (1907, 0.0557562391120474), (590, 0.0556982473211552), (1853, 0.05548602882145824), (677, 0.0551147710271573), (1931, 0.05510133766612492), (922, 0.054887332625197016), (268, 0.05453233763850188), (1132, 0.05406353571583955), (57, 0.053750719580978684), (1902, 0.0536939586829114), (1327, 0.053636102257402764), (830, 0.053101067781703266), (554, 0.0529197085374409), (1689, 0.05291044453821682), (974, 0.05266342921697034), (422, 0.05237155690167411), (1852, 0.05185524916735228), (1354, 0.051843456428330666), (172, 0.05147508186208564), (154, 0.05120641802904343), (484, 0.051188722923553434), (69, 0.05104640289214608), (1984, 0.05082497480938632), (847, 0.050742240268712165), (1841, 0.05024652954734611), (715, 0.050237639259776), (1095, 0.050237639259776), (1573, 0.050211756084318764), (1623, 0.050000485248385726), (1503, 0.04998877468163162), (994, 0.04981146237906098), (1653, 0.0486271769290527), (1663, 0.04845723430424605), (1539, 0.04812041793949844), (1815, 0.047951597573514165), (1448, 0.04762024335016888), (1472, 0.047544432369828), (951, 0.04750262383183834), (1333, 0.0473831822823625), (1801, 0.04707326756079272), (1509, 0.04697223065614462), (1386, 0.04691586781550484), (1347, 0.0467054004086076), (98, 0.046656301408513456), (1406, 0.046546402372407016), (1267, 0.04652412407225231), (1130, 0.0465137837060362), (1102, 0.04633682076287143), (576, 0.04633574407525178), (266, 0.04616224646471349), (240, 0.04610821981354368), (442, 0.04610821981354368), (445, 0.04610821981354368), (570, 0.04610821981354368), (1105, 0.04610821981354368), (1349, 0.04610821981354368), (1163, 0.04610688892569207), (29, 0.04605493102611444), (1857, 0.04589072560596878), (85, 0.045830760698959284), (1726, 0.04575110005085908), (802, 0.04566997989652155), (54, 0.04562921642657715), (1375, 0.045328938447091995), (1721, 0.04529585985211314), (43, 0.04528910556588687), (1060, 0.04528910556588687), (807, 0.04523768877910061), (1856, 0.045230358113182295), (1860, 0.0452175290326493), (623, 0.04505849750525331), (986, 0.04504269926085288), (1104, 0.044987373824177355), (1606, 0.044920986950944944), (1451, 0.04474782627408924), (1542, 0.04474310469093024), (1983, 0.04459475765222868), (1289, 0.04451576122173201), (1921, 0.04433333193823136), (1517, 0.04423459904025756), (1390, 0.04421879464348205), (1424, 0.04420261652590233), (1638, 0.04418805943024735), (1011, 0.044168551363937804), (506, 0.04381136002987291), (1146, 0.04371606236209396), (888, 0.043712214372943724), (413, 0.04366362484045844), (1621, 0.04353111811922023), (1408, 0.043516552174963356), (1746, 0.04349030219285725), (1670, 0.04340830874377505), (161, 0.04336973193798151), (1418, 0.04329599142591257), (1248, 0.04321271495368191), (344, 0.0431621740798342), (1830, 0.04315154669581506), (1682, 0.043118718311563844), (587, 0.042971033662871305), (1826, 0.042942486888126845), (1174, 0.04288157143881912), (1425, 0.04283755425835434), (1371, 0.04283656021183961), (1646, 0.042607226829302146), (1733, 0.04260030525494552), (913, 0.042597158731763826), (969, 0.042597158731763826), (1985, 0.042476657137657685), (1309, 0.04225745152258703), (327, 0.042212276094365085), (146, 0.042137524511741103), (1214, 0.042133614856884626), (1419, 0.04211843224980149), (163, 0.04210090712615291), (94, 0.04209871209942254), (1615, 0.042044924775915676), (333, 0.041955179934429626), (336, 0.0419106512750008), (1701, 0.04180729299392224), (1909, 0.04179763854115411), (1949, 0.04179717813625426), (571, 0.04169353763628558), (223, 0.041611385428165365), (1054, 0.04161004407443785), (14, 0.04160142137176147), (135, 0.04138141110365611), (1018, 0.0413729654444951), (1351, 0.04134827757398835), (560, 0.04129123239330473), (244, 0.04125888955927149), (1888, 0.04124701106439273), (695, 0.041208138016319965), (1693, 0.04120069090731717), (372, 0.041165344175058655), (1797, 0.04106587009914864), (770, 0.04104754135337452), (1501, 0.04102673568920425), (1913, 0.04095465134798791), (20, 0.040923994604082706), (103, 0.04090345787694598), (1950, 0.04086860867458142), (1324, 0.0408232446025497), (96, 0.04081589483210356), (1527, 0.04081589483210356), (1544, 0.04081589483210356), (1952, 0.04078863492697952), (1407, 0.040774200770580124), (1594, 0.04073717342287107), (823, 0.0407238190364304), (1153, 0.04067625678007344), (1457, 0.04067534833248239), (1430, 0.04066287640508144), (1223, 0.040604740376541784), (680, 0.04039195855777024), (1978, 0.04039195243587675), (477, 0.04038140595332554), (1773, 0.040358173366990734), (332, 0.040317452348427145), (177, 0.04030930869279485), (1235, 0.040300522860055026), (1992, 0.04029336676654087), (979, 0.04027201033530879), (1483, 0.04019381652352226), (1413, 0.04018229105990509), (1118, 0.04016716647453608), (491, 0.040167034066414094), (1602, 0.040130580304253406), (1270, 0.040109932331876416), (1014, 0.04010905658210844), (399, 0.040088615644414585), (1264, 0.040048200825253316), (1299, 0.040030704686313874), (617, 0.03999899296043187), (1804, 0.039936094010471906), (1186, 0.03988275920604159), (1887, 0.03988166906625873), (1792, 0.03984361369901216), (63, 0.03980387432459771), (725, 0.03979344624767482), (595, 0.039773221520705344), (1614, 0.03967010363037678), (77, 0.03965158761496354), (1671, 0.039577502325082003), (780, 0.03956788629109661), (935, 0.03954383763661295), (1465, 0.03947878353820705), (864, 0.03947250264697643), (1880, 0.03942674912403197), (649, 0.03940425558327259), (471, 0.03934690724523692), (472, 0.03934690724523692), (1353, 0.039319848623312684), (967, 0.039305235339436216), (1417, 0.03927765013477403), (848, 0.03923978486476382), (851, 0.03923978486476382), (622, 0.039239784864763816), (897, 0.03923098121909374), (1246, 0.03915944155523177), (942, 0.039147108219788375), (1487, 0.039125812176263965), (841, 0.03908546278754435), (291, 0.03900459087394582), (32, 0.03887462305007864), (681, 0.03887285234897679), (1197, 0.038820032361774795), (827, 0.03876177537031257), (1758, 0.03876095780815799), (40, 0.038756442859491716), (60, 0.038756442859491716), (1016, 0.03867454790372195), (813, 0.03866548335120274), (1595, 0.03864482371251893), (370, 0.03858354969857199), (516, 0.03854707538747771), (277, 0.038534866172451596), (1208, 0.03849971428052049), (1597, 0.038478933745824194), (1401, 0.03839267668437811), (671, 0.03832701899086832), (657, 0.03824419464541449), (230, 0.038238345966444334), (1832, 0.03821278642946002), (1543, 0.03816814538626472), (1566, 0.03816814538626472), (648, 0.03804073396715132), (538, 0.03798200908459583), (1479, 0.037951982330331126), (290, 0.037949119241958144), (620, 0.037925351827117045), (1243, 0.037738789612938375), (1869, 0.03773822365388816), (1768, 0.037670300071867606), (1964, 0.037649363876823744), (1477, 0.03760459840303783), (1730, 0.03758838923755721), (272, 0.03756153792568072), (453, 0.037561007513282195), (941, 0.03753436883511063), (1576, 0.03745711247635648), (1368, 0.03745625774378951), (513, 0.037409029638236196), (1553, 0.037341806680297726), (187, 0.03726897364956625), (1699, 0.03725699057285981), (1608, 0.03724962240145978), (76, 0.03723172417763816), (144, 0.037147561398899576), (548, 0.03709027821527686), (351, 0.03708369343711342), (1991, 0.03707099585960941), (1868, 0.0370674511555959), (567, 0.03703515678405685), (1242, 0.03694669746680961), (157, 0.03686474993734118), (1651, 0.036813596209529814), (878, 0.03679376816123086), (1029, 0.0367694928745274), (1709, 0.03672483279486488), (1468, 0.036716066099355786), (1000, 0.0366703633282447), (1966, 0.03663426781455593), (1017, 0.03660328980142698), (794, 0.03643555553340525), (260, 0.0363449884480375), (469, 0.036142288681566895), (537, 0.03612566834560358), (899, 0.03612004973717054), (1741, 0.0361050779444869), (1642, 0.03610051419149634), (1493, 0.03605931945915094), (1816, 0.03580558117176669), (868, 0.035781653229370054), (1729, 0.035704757256361054), (796, 0.03558936679134893), (97, 0.03555345361055967), (917, 0.03555189347496301), (310, 0.03553264909106829), (191, 0.035529535411542), (875, 0.03552284199729765), (377, 0.035518755005876854), (1739, 0.035509082769281795), (1373, 0.035317758752239185), (920, 0.035242187981778896), (852, 0.03521044839059799), (1872, 0.03519880412453496), (514, 0.03515813938204891), (251, 0.035156247077435025), (391, 0.035139357768689664), (1714, 0.03511706495368923), (1009, 0.03506737079885053), (1358, 0.03494327692242126), (1429, 0.034937604813852), (109, 0.03485657661872042), (167, 0.034845171772963895), (1469, 0.034817918535204516), (747, 0.03479331530724497), (229, 0.034694098067400383), (1194, 0.03464693286569089), (1938, 0.03462973047295931), (914, 0.034598660750103594), (1220, 0.034594427887940545), (495, 0.03458039457409881), (1050, 0.03437834796224788), (675, 0.03435655529093588), (609, 0.034356555290935877), (625, 0.03434142319701301), (1998, 0.03431540940824938), (763, 0.03430077711457042), (778, 0.03424495542482312), (790, 0.03424495542482312), (432, 0.0342255507083275), (654, 0.034153164112001234), (755, 0.034123940681071205), (881, 0.03405502212302158), (1783, 0.03400901224216785), (130, 0.0339781005177837), (746, 0.033965606773172355), (1936, 0.03385987442459616), (1389, 0.03380872741328778), (565, 0.03377009838112804), (1143, 0.03370469784479768), (1458, 0.03362907795337523), (1535, 0.03359547405632483), (1443, 0.03353148314433248), (1761, 0.03350067900036255), (1441, 0.03345152883824042), (1865, 0.03344121265030509), (128, 0.033435367026323055), (1360, 0.03342963911767411), (1711, 0.03337992798233728), (1341, 0.03331799054126097), (645, 0.03328575679545926), (1568, 0.03325780097805841), (1431, 0.03322507594328018), (282, 0.03321600124501027), (1476, 0.03319707172001548), (1192, 0.03310797857335373), (1120, 0.03308843938746153), (253, 0.03306744934014564), (1747, 0.03306662308973003), (1813, 0.033052428695976355), (311, 0.033024995370298), (612, 0.0329198235487858), (1941, 0.03289570553136468), (1447, 0.03287650853169336), (1044, 0.03286251784657586), (1191, 0.032785092047691776), (1754, 0.03267613323129945), (1743, 0.03264795449034976), (1421, 0.03263057445049622), (1077, 0.032561822611164734), (1008, 0.03254124974777823), (1782, 0.03247146946946534), (767, 0.032464000564802975), (1171, 0.032365877232728844), (611, 0.03226945010649315), (616, 0.0322484815900694), (1308, 0.03218059213302443), (549, 0.03212560601270671), (397, 0.03206484984983392), (1053, 0.03201143564267718), (1239, 0.032010488838347846), (86, 0.03197381542886101), (1180, 0.031969421624880416), (843, 0.03191554157578026), (284, 0.031912392886230066), (800, 0.0319098179845069), (1222, 0.031808793870240756), (173, 0.03179828815991737), (1687, 0.031794246066682144), (839, 0.03178033288401197), (644, 0.03177661403870296), (921, 0.03176478994659624), (987, 0.03176478994659624), (1551, 0.03174548368973901), (650, 0.03173401981666822), (34, 0.031653857340467766), (1752, 0.03163447093647745), (1922, 0.03161958260628982), (297, 0.03161622916625586), (436, 0.03161487980491664), (340, 0.03156610089889785), (1520, 0.03156210623496752), (884, 0.03148108053268469), (1674, 0.03148108053268469), (1628, 0.03146092287648276), (1905, 0.031435588387736677), (437, 0.03143117203760588), (481, 0.03140220377437235), (535, 0.03138709366244595), (1046, 0.031373293032297904), (95, 0.03135191207252323), (382, 0.031325072572236504), (1538, 0.03130782505140991), (588, 0.03130232386686142), (777, 0.03129399199835541), (591, 0.03128238531605008), (326, 0.03127246538706898), (392, 0.0312257988226336), (975, 0.03107218738463519), (1241, 0.03106059359250776), (717, 0.03099084936912329), (1831, 0.030982271150125168), (682, 0.030964688923982957), (17, 0.030946128873431126), (563, 0.03086680156053899), (1612, 0.030856756164907906), (178, 0.030826550622243123), (1382, 0.030793505770220803), (553, 0.030756762858181193), (1112, 0.030711132066534447), (1435, 0.030680273306168637), (694, 0.03067773637324492), (1987, 0.030656553127789813), (1211, 0.03061744024118375), (1990, 0.03051814635790226), (966, 0.030516734777137133), (1210, 0.030516734777137133), (488, 0.030505151292212117), (1622, 0.030431269202836193), (1919, 0.030422249742378685), (1459, 0.030378200980329565), (1437, 0.030370373711427694), (1740, 0.030364656163832777), (939, 0.03035846037252634), (1003, 0.03034133299755489), (1096, 0.03033775128727113), (1326, 0.030198032051395804), (849, 0.03017543893433761), (1464, 0.030127739120322707), (1849, 0.030067294493822876), (1446, 0.030038062561158558), (1187, 0.030030316637771847), (1215, 0.029980610589338017), (988, 0.029973987088583193), (1560, 0.029897867176963685), (508, 0.029875072674811654), (1972, 0.029865083872263738), (1811, 0.029812178225134493), (1297, 0.029791949558823045), (1702, 0.029704582180072235), (1550, 0.029686818411505233), (871, 0.029658269364347234), (1113, 0.029612189878260815), (673, 0.02956646732962663), (809, 0.029530727325808553), (1760, 0.029526455365027314), (793, 0.02934027626518992), (1766, 0.029309831125449992), (208, 0.02929945868889506), (165, 0.029259181025284582), (1369, 0.029228474854584525), (950, 0.029217584095281114), (1774, 0.029209403970879767), (980, 0.02919510764550668), (817, 0.029164013125291714), (818, 0.029164013125291714), (1123, 0.029141088492043443), (1444, 0.029055428402536835), (1275, 0.029003027868633412), (1839, 0.02899197766334397), (434, 0.02897936153478485), (1199, 0.028903132041068102), (1769, 0.028888601008435884), (672, 0.028833865796096828), (365, 0.028827280750947017), (1021, 0.028768412041831178), (684, 0.028697930971995758), (592, 0.028676798456493822), (1644, 0.028674821068543133), (1995, 0.028649356599311972), (431, 0.0285724169083311), (1049, 0.028568801602548308), (1144, 0.028568801602548308), (968, 0.0285370923179429), (1955, 0.02853186423848569), (1331, 0.028474786864464745), (738, 0.02845689780849606), (739, 0.02845689780849606), (101, 0.028384756820156065), (1190, 0.028264235380648612), (1182, 0.02820268665760177), (357, 0.028181777782425046), (608, 0.028055779014467142), (774, 0.02804724918632121), (1059, 0.028020017968194144), (1155, 0.028020017968194144), (797, 0.028006363700471226), (1253, 0.02798233932382212), (174, 0.02797241504312927), (1255, 0.027953158500832086), (263, 0.02795045505910832), (811, 0.027846522738993254), (867, 0.02783916534777383), (519, 0.02779743975901955), (520, 0.02779743975901955), (1434, 0.027723712211901546), (1032, 0.02772027886056435), (731, 0.02769042539622789), (534, 0.027669338566511152), (83, 0.027541852274543577), (1217, 0.02753878819320458), (342, 0.027485934417134924), (743, 0.027482728678067146), (264, 0.027461359958078677), (1409, 0.027325981866341584), (1979, 0.02731802960530531), (652, 0.027290264583827797), (1005, 0.027242994869123936), (1251, 0.02722801942757603), (962, 0.027097151931370363), (1694, 0.026936146940312784), (697, 0.026754710864800756), (1690, 0.026749280995317423), (349, 0.026652021768844635), (346, 0.026644944664410548), (1263, 0.02662801785654678), (279, 0.026616919377532317), (412, 0.02659281340298696), (236, 0.026564541621710295), (1652, 0.026486555027732745), (541, 0.026485192003489613), (893, 0.026454114253016088), (389, 0.02643366996095906), (1846, 0.02635062615852639), (1203, 0.026324374280052094), (298, 0.026256050746769406), (1142, 0.026146932628358998), (1147, 0.026027439058462314), (216, 0.025993589950750517), (536, 0.025985258494337696), (1496, 0.02566324957304106), (64, 0.025641113953588857), (653, 0.025604823215765078), (312, 0.02559363721275442), (1808, 0.025401582224796805), (12, 0.02530954787719259), (1164, 0.025303384420098267), (170, 0.025289730398438074), (1545, 0.0252365722433025), (1557, 0.02515441164031109), (305, 0.024979145228593774), (1903, 0.02493885962011314), (798, 0.024926592105778758), (383, 0.024916049669929677), (430, 0.024882036181323307), (930, 0.024838922749869877), (1829, 0.02466765268869066), (614, 0.024639127917602623), (373, 0.024637928330697955), (1572, 0.02444461762199845), (188, 0.024363417193744283), (411, 0.024326408812671105), (248, 0.02432566076485365), (131, 0.024292805852382717), (692, 0.02396263017181281), (862, 0.02396263017181281), (1083, 0.02393851597305009), (904, 0.023911103048367254), (1020, 0.023885690570820912), (1266, 0.023876751835809756), (824, 0.023800873573929793), (936, 0.023800873573929793), (658, 0.02375500440290647), (458, 0.023751673010891493), (467, 0.023706492332387193), (499, 0.023667291201975454), (1625, 0.02361878906475308), (371, 0.02354598469803088), (347, 0.02352372086480795), (171, 0.023196192937136973), (1717, 0.02308111648526109), (902, 0.02295790397990782), (1820, 0.022802445505023597), (1973, 0.022341776709579358), (1124, 0.022263886986718585), (573, 0.021711647675145513), (547, 0.021651619593688973), (421, 0.02150802385505942), (363, 0.021286008381748024), (1384, 0.020480555785327988), (1036, 0.020339392474727193), (1977, 0.019954376627255535), (895, 0.019836910432803605), (580, 0.019796042789224384), (1908, 0.01907185536117647), (667, 0.01840049278597587), (8, 0.0), (13, 0.0), (24, 0.0), (26, 0.0), (30, 0.0), (31, 0.0), (36, 0.0), (37, 0.0), (56, 0.0), (58, 0.0), (61, 0.0), (65, 0.0), (67, 0.0), (70, 0.0), (71, 0.0), (75, 0.0), (79, 0.0), (80, 0.0), (81, 0.0), (87, 0.0), (93, 0.0), (104, 0.0), (112, 0.0), (121, 0.0), (123, 0.0), (125, 0.0), (133, 0.0), (151, 0.0), (152, 0.0), (153, 0.0), (155, 0.0), (156, 0.0), (158, 0.0), (159, 0.0), (160, 0.0), (166, 0.0), (180, 0.0), (181, 0.0), (182, 0.0), (183, 0.0), (184, 0.0), (185, 0.0), (190, 0.0), (193, 0.0), (194, 0.0), (197, 0.0), (200, 0.0), (202, 0.0), (205, 0.0), (206, 0.0), (207, 0.0), (210, 0.0), (214, 0.0), (215, 0.0), (217, 0.0), (218, 0.0), (219, 0.0), (221, 0.0), (224, 0.0), (226, 0.0), (227, 0.0), (243, 0.0), (250, 0.0), (254, 0.0), (256, 0.0), (267, 0.0), (270, 0.0), (273, 0.0), (275, 0.0), (292, 0.0), (300, 0.0), (301, 0.0), (307, 0.0), (309, 0.0), (318, 0.0), (320, 0.0), (328, 0.0), (330, 0.0), (337, 0.0), (338, 0.0), (341, 0.0), (352, 0.0), (354, 0.0), (358, 0.0), (361, 0.0), (368, 0.0), (369, 0.0), (390, 0.0), (401, 0.0), (409, 0.0), (414, 0.0), (438, 0.0), (439, 0.0), (446, 0.0), (463, 0.0), (479, 0.0), (485, 0.0), (493, 0.0), (497, 0.0), (507, 0.0), (509, 0.0), (529, 0.0), (533, 0.0), (539, 0.0), (540, 0.0), (542, 0.0), (544, 0.0), (550, 0.0), (552, 0.0), (555, 0.0), (556, 0.0), (558, 0.0), (559, 0.0), (572, 0.0), (575, 0.0), (581, 0.0), (585, 0.0), (593, 0.0), (598, 0.0), (600, 0.0), (602, 0.0), (613, 0.0), (621, 0.0), (624, 0.0), (660, 0.0), (661, 0.0), (665, 0.0), (666, 0.0), (690, 0.0), (705, 0.0), (706, 0.0), (711, 0.0), (713, 0.0), (714, 0.0), (716, 0.0), (720, 0.0), (721, 0.0), (723, 0.0), (748, 0.0), (750, 0.0), (752, 0.0), (754, 0.0), (756, 0.0), (771, 0.0), (776, 0.0), (781, 0.0), (788, 0.0), (801, 0.0), (810, 0.0), (831, 0.0), (833, 0.0), (837, 0.0), (838, 0.0), (854, 0.0), (860, 0.0), (873, 0.0), (876, 0.0), (879, 0.0), (894, 0.0), (896, 0.0), (903, 0.0), (907, 0.0), (912, 0.0), (915, 0.0), (918, 0.0), (923, 0.0), (925, 0.0), (928, 0.0), (929, 0.0), (933, 0.0), (937, 0.0), (940, 0.0), (944, 0.0), (954, 0.0), (960, 0.0), (964, 0.0), (970, 0.0), (973, 0.0), (977, 0.0), (984, 0.0), (985, 0.0), (991, 0.0), (993, 0.0), (999, 0.0), (1001, 0.0), (1002, 0.0), (1007, 0.0), (1010, 0.0), (1015, 0.0), (1030, 0.0), (1056, 0.0), (1057, 0.0), (1062, 0.0), (1065, 0.0), (1066, 0.0), (1071, 0.0), (1072, 0.0), (1073, 0.0), (1074, 0.0), (1093, 0.0), (1097, 0.0), (1098, 0.0), (1099, 0.0), (1100, 0.0), (1107, 0.0), (1117, 0.0), (1135, 0.0), (1138, 0.0), (1139, 0.0), (1148, 0.0), (1152, 0.0), (1157, 0.0), (1158, 0.0), (1165, 0.0), (1166, 0.0), (1172, 0.0), (1183, 0.0), (1189, 0.0), (1195, 0.0), (1201, 0.0), (1202, 0.0), (1207, 0.0), (1209, 0.0), (1212, 0.0), (1213, 0.0), (1224, 0.0), (1229, 0.0), (1234, 0.0), (1238, 0.0), (1247, 0.0), (1260, 0.0), (1261, 0.0), (1269, 0.0), (1271, 0.0), (1283, 0.0), (1290, 0.0), (1291, 0.0), (1292, 0.0), (1294, 0.0), (1295, 0.0), (1296, 0.0), (1298, 0.0), (1303, 0.0), (1305, 0.0), (1310, 0.0), (1311, 0.0), (1315, 0.0), (1317, 0.0), (1318, 0.0), (1321, 0.0), (1323, 0.0), (1329, 0.0), (1336, 0.0), (1340, 0.0), (1345, 0.0), (1367, 0.0), (1377, 0.0), (1383, 0.0), (1385, 0.0), (1387, 0.0), (1399, 0.0), (1402, 0.0), (1403, 0.0), (1414, 0.0), (1432, 0.0), (1455, 0.0), (1460, 0.0), (1462, 0.0), (1466, 0.0), (1471, 0.0), (1475, 0.0), (1484, 0.0), (1490, 0.0), (1492, 0.0), (1497, 0.0), (1499, 0.0), (1502, 0.0), (1521, 0.0), (1523, 0.0), (1524, 0.0), (1532, 0.0), (1537, 0.0), (1540, 0.0), (1546, 0.0), (1547, 0.0), (1555, 0.0), (1556, 0.0), (1561, 0.0), (1582, 0.0), (1584, 0.0), (1601, 0.0), (1607, 0.0), (1609, 0.0), (1610, 0.0), (1618, 0.0), (1619, 0.0), (1627, 0.0), (1631, 0.0), (1634, 0.0), (1635, 0.0), (1640, 0.0), (1657, 0.0), (1658, 0.0), (1661, 0.0), (1662, 0.0), (1664, 0.0), (1669, 0.0), (1675, 0.0), (1677, 0.0), (1678, 0.0), (1680, 0.0), (1684, 0.0), (1685, 0.0), (1688, 0.0), (1691, 0.0), (1728, 0.0), (1732, 0.0), (1738, 0.0), (1751, 0.0), (1755, 0.0), (1762, 0.0), (1764, 0.0), (1770, 0.0), (1777, 0.0), (1778, 0.0), (1794, 0.0), (1795, 0.0), (1799, 0.0), (1805, 0.0), (1807, 0.0), (1810, 0.0), (1814, 0.0), (1817, 0.0), (1833, 0.0), (1844, 0.0), (1850, 0.0), (1862, 0.0), (1863, 0.0), (1867, 0.0), (1876, 0.0), (1879, 0.0), (1886, 0.0), (1891, 0.0), (1898, 0.0), (1917, 0.0), (1918, 0.0), (1927, 0.0), (1932, 0.0), (1934, 0.0), (1943, 0.0), (1957, 0.0), (1958, 0.0), (1963, 0.0), (1986, 0.0), (1989, 0.0), (1994, 0.0)]\n"
          ]
        }
      ]
    },
    {
      "cell_type": "code",
      "source": [
        "# print the name of similar anime based on the Index\n",
        "print('Anime Suggested for you :) \\n')\n",
        "\n",
        "i=1\n",
        "for anime in sorted_similar_anime:\n",
        "    Index=anime[0]\n",
        "    title_from_index = anime_data[anime_data.Index==Index]['Name'].values[0]\n",
        "    if(i<20):\n",
        "        print(i,'.',title_from_index)\n",
        "        i+=1"
      ],
      "metadata": {
        "colab": {
          "base_uri": "https://localhost:8080/"
        },
        "id": "2hCTZqlH5_r5",
        "outputId": "44972bc5-0147-4c5d-f22e-e2b710cf619f"
      },
      "execution_count": null,
      "outputs": [
        {
          "output_type": "stream",
          "name": "stdout",
          "text": [
            "Anime Suggested for you :) \n",
            "\n",
            "1 . Gintama\n",
            "2 . Gintama.: Porori-hen\n",
            "3 . Gintama: Yorinuki Gintama-san on Theater 2D\n",
            "4 . Gintama.: Shirogane no Tamashii-hen\n",
            "5 . Gintama°\n",
            "6 . Gintama': Enchousen\n",
            "7 . Gintama.: Shirogane no Tamashii-hen - Kouhan-sen\n",
            "8 . Gintama': Futon ni Haitte kara Buki Nokoshi ni Kizuite Neru ni Nerenai Toki mo Aru\n",
            "9 . Gintama.\n",
            "10 . Gintama'\n",
            "11 . Gintama: The Final\n",
            "12 . Gintama: The Semi-Final\n",
            "13 . Gintama°: Umai-mono wa Atomawashi ni Suru to Yokodorisareru kara Yappari Saki ni Kue\n",
            "14 . Gintama Movie 2: Kanketsu-hen - Yorozuya yo Eien Nare\n",
            "15 . Gintama Movie 1: Shinyaku Benizakura-hen\n",
            "16 . Gintama°: Aizome Kaori-hen\n",
            "17 . Osomatsu-san 2nd Season\n",
            "18 . Gintama: Nanigoto mo Saiyo ga Kanjin nano de Tasho Senobisuru Kurai ga Choudoyoi\n",
            "19 . Paniponi Dash!: Danjite Okonaeba Kishin mo Kore wo Saku\n"
          ]
        }
      ]
    },
    {
      "cell_type": "markdown",
      "source": [
        "ANIME RECOMMENDATION SYSTEM\n"
      ],
      "metadata": {
        "id": "bJTf7clM6LqU"
      }
    },
    {
      "cell_type": "code",
      "source": [
        "anime_name = input('Enter your favorite Anime:')\n",
        "list_anime_titles = anime_data['Name'].tolist()\n",
        "find_cl_match = difflib.get_close_matches(anime_name,list_anime_titles)\n",
        "close_match = find_cl_match[0]\n",
        "index_of_anime = anime_data[anime_data.Name == close_match]['Index'].values[0]\n",
        "similarity_score = list(enumerate(similarity[index_of_anime]))\n",
        "sorted_similar_anime = sorted(similarity_score , key =lambda x:x[1], reverse= True)\n",
        "print('Anime Suggested for you :) \\n')\n",
        "\n",
        "i=1\n",
        "for anime in sorted_similar_anime:\n",
        "    Index=anime[0]\n",
        "    title_from_index = anime_data[anime_data.Index==Index]['Name'].values[0]\n",
        "    demog_from_index = anime_data[anime_data.Index==Index]['Demographic'].values[0]\n",
        "    if(i<20):\n",
        "        print(i,'.',title_from_index, ([demog_from_index]))\n",
        "        i+=1"
      ],
      "metadata": {
        "colab": {
          "base_uri": "https://localhost:8080/"
        },
        "id": "q6AjFrfa6DTv",
        "outputId": "e0111090-7668-4e63-fca8-1f68b7852e95"
      },
      "execution_count": null,
      "outputs": [
        {
          "output_type": "stream",
          "name": "stdout",
          "text": [
            "Enter your favorite Anime:no game no life\n",
            "Anime Suggested for you :) \n",
            "\n",
            "1 . No Game No Life ['None']\n",
            "2 . Tsukimonogatari ['None']\n",
            "3 . Black Clover ['Shounen']\n",
            "4 . Quanzhi Gaoshou Zhi Dianfeng Rongyao ['None']\n",
            "5 . Yu☆Gi☆Oh! Duel Monsters ['Shounen']\n",
            "6 . D-Frag! ['Seinen']\n",
            "7 . Yu☆Gi☆Oh! 5D's ['Shounen']\n",
            "8 . Hikaru no Go: Hokuto Hai e no Michi ['Shounen']\n",
            "9 . Shoubushi Densetsu Tetsuya ['Shounen']\n",
            "10 . Hikaru no Go ['Shounen']\n",
            "11 . Yu☆Gi☆Oh! The Dark Side of Dimensions ['Shounen']\n",
            "12 . Zero no Tsukaima F ['None']\n",
            "13 . Saki ['None']\n",
            "14 . Saki Zenkoku-hen ['None']\n",
            "15 . Pokemon Generations ['Kids']\n",
            "16 . Saki Achiga-hen: Episode of Side-A Specials ['None']\n",
            "17 . Shion no Ou ['None']\n",
            "18 . Uchouten Kazoku 2 ['None']\n",
            "19 . Shinchou Yuusha: Kono Yuusha ga Ore Tueee Kuse ni Shinchou Sugiru ['None']\n"
          ]
        }
      ]
    },
    {
      "cell_type": "markdown",
      "source": [
        "GUI CREATION"
      ],
      "metadata": {
        "id": "mbmF6VBG6b53"
      }
    },
    {
      "cell_type": "code",
      "source": [
        "import tkinter as tk\n",
        "from tkinter import messagebox\n",
        "import difflib\n",
        "from PIL import ImageTk, Image\n",
        "\n",
        "\n",
        "#create Tkinter GUI\n",
        "root=tk.Tk()\n",
        "root.title(\"Anime Recommendation System\")\n",
        "root.configure(bg=\"#222222\")\n",
        "root.columnconfigure(0, weight=1)\n",
        "root.rowconfigure(0, weight=1)\n",
        "root.rowconfigure(1,weight=1)\n",
        "\n",
        "\n",
        "\n",
        "\n",
        "\n",
        "\n",
        "#define styling\n",
        "title_font=(\"Arial\",16,\"bold\")\n",
        "root.option_add(\"*Font\",title_font)\n",
        "\n",
        "#define styling for labels\n",
        "label_font=(\"Arial\",12,\"bold\")\n",
        "entry_font=(\"Arial\",12)\n",
        "button_font=(\"Arial\",12,\"bold\")\n",
        "button_bg=\"#3366CC\"\n",
        "button_fg=\"#FFFFFF\"\n",
        "button_active_bg=\"#25476D\"\n",
        "button_active_fg=\"#FFFFFF\"\n",
        "\n",
        "#create a canvas widget and set the bg image\n",
        "try:\n",
        "    bg_image=Image.open(r\"D:\\Users\\User\\Downloads\\ani.gif\")\n",
        "    bg_image=bg_image.resize((1300,600),Image.ANTIALIAS)\n",
        "    root.background=ImageTk.PhotoImage(bg_image)\n",
        "\n",
        "    #create a canvas widget and place the bg on it\n",
        "    canvas=tk.Canvas(root, width=900, height=400)\n",
        "    canvas.grid(row=0,column=0,padx=10,pady=10,sticky=\"nsew\")\n",
        "    canvas.create_image(0,0,anchor=tk.NW,image=root.background)\n",
        "except IOError:\n",
        "    messagebox.showerror(\"Error\",\"failed to load background image.\")\n",
        "\n",
        "\n",
        "#Create GUI elements - label for anime name input\n",
        "name_label=tk.Label(root,text=\"Enter Anime Name:\")\n",
        "name_label.grid(row=0, column=0,padx=10,pady=10,sticky=\"w\")\n",
        "\n",
        "\n",
        "\n",
        "\n",
        "#create the entry field\n",
        "entry = tk.Entry(root, font=entry_font)\n",
        "entry.grid(row=0, column=1, padx=10, pady=10 , sticky=\"ew\")\n",
        "\n",
        "\n",
        "\n",
        "def get_recommendations():\n",
        "    anime_name=entry.get()\n",
        "\n",
        "\n",
        "#find closest match in the anime dataset\n",
        "    list_anime_titles = anime_data['Name'].tolist()\n",
        "    find_cl_match = difflib.get_close_matches(anime_name, list_anime_titles)\n",
        "    if find_cl_match:\n",
        "        close_match = find_cl_match[0]\n",
        "        index_of_anime = anime_data[anime_data.Name == close_match]['Index'].values[0]\n",
        "\n",
        "        # Compute similarity scores\n",
        "        similarity_score = list(enumerate(similarity[index_of_anime]))\n",
        "        sorted_similar_anime = sorted(similarity_score , key=lambda x: x[1], reverse=True)\n",
        "\n",
        "        # Generate recommendations\n",
        "        recommendations = []\n",
        "        for i, anime in enumerate(sorted_similar_anime):\n",
        "            if i < 20:\n",
        "                Index = anime[0]\n",
        "                title_from_index = anime_data[anime_data.Index == Index]['Name'].values[0]\n",
        "                demog_from_index = anime_data[anime_data.Index == Index]['Demographic'].values[0]\n",
        "                recommendations.append(f\"{i+1}. {title_from_index} {demog_from_index}\")\n",
        "\n",
        "        messagebox.showinfo(\"Anime Recommendations For You :)\",\"\\n\".join(recommendations))\n",
        "\n",
        "    else:\n",
        "        messagebox.showinfo(\"Anime Recommendations For You\",\"No match found :(\")\n",
        "\n",
        "button = tk.Button(root, text=\"Get Recommendations\",font=button_font, bg=button_bg, fg=button_fg,activebackground=button_active_bg, activeforeground=button_active_fg, command=get_recommendations)\n",
        "button.grid(row=1, column=0 , padx=10 ,pady=10, sticky=\"ew\")\n",
        "\n",
        "\n",
        "\n",
        "\n",
        "#start the event loop\n",
        "root.mainloop()"
      ],
      "metadata": {
        "colab": {
          "base_uri": "https://localhost:8080/",
          "height": 402
        },
        "id": "fWhV9HXp6P0b",
        "outputId": "45a9a9fb-beb9-4d71-874c-0fff574168db"
      },
      "execution_count": null,
      "outputs": [
        {
          "output_type": "error",
          "ename": "TclError",
          "evalue": "ignored",
          "traceback": [
            "\u001b[0;31m---------------------------------------------------------------------------\u001b[0m",
            "\u001b[0;31mTclError\u001b[0m                                  Traceback (most recent call last)",
            "\u001b[0;32m<ipython-input-27-f2df77240173>\u001b[0m in \u001b[0;36m<cell line: 8>\u001b[0;34m()\u001b[0m\n\u001b[1;32m      6\u001b[0m \u001b[0;34m\u001b[0m\u001b[0m\n\u001b[1;32m      7\u001b[0m \u001b[0;31m#create Tkinter GUI\u001b[0m\u001b[0;34m\u001b[0m\u001b[0;34m\u001b[0m\u001b[0m\n\u001b[0;32m----> 8\u001b[0;31m \u001b[0mroot\u001b[0m\u001b[0;34m=\u001b[0m\u001b[0mtk\u001b[0m\u001b[0;34m.\u001b[0m\u001b[0mTk\u001b[0m\u001b[0;34m(\u001b[0m\u001b[0;34m)\u001b[0m\u001b[0;34m\u001b[0m\u001b[0;34m\u001b[0m\u001b[0m\n\u001b[0m\u001b[1;32m      9\u001b[0m \u001b[0mroot\u001b[0m\u001b[0;34m.\u001b[0m\u001b[0mtitle\u001b[0m\u001b[0;34m(\u001b[0m\u001b[0;34m\"Anime Recommendation System\"\u001b[0m\u001b[0;34m)\u001b[0m\u001b[0;34m\u001b[0m\u001b[0;34m\u001b[0m\u001b[0m\n\u001b[1;32m     10\u001b[0m \u001b[0mroot\u001b[0m\u001b[0;34m.\u001b[0m\u001b[0mconfigure\u001b[0m\u001b[0;34m(\u001b[0m\u001b[0mbg\u001b[0m\u001b[0;34m=\u001b[0m\u001b[0;34m\"#222222\"\u001b[0m\u001b[0;34m)\u001b[0m\u001b[0;34m\u001b[0m\u001b[0;34m\u001b[0m\u001b[0m\n",
            "\u001b[0;32m/usr/lib/python3.10/tkinter/__init__.py\u001b[0m in \u001b[0;36m__init__\u001b[0;34m(self, screenName, baseName, className, useTk, sync, use)\u001b[0m\n\u001b[1;32m   2297\u001b[0m                 \u001b[0mbaseName\u001b[0m \u001b[0;34m=\u001b[0m \u001b[0mbaseName\u001b[0m \u001b[0;34m+\u001b[0m \u001b[0mext\u001b[0m\u001b[0;34m\u001b[0m\u001b[0;34m\u001b[0m\u001b[0m\n\u001b[1;32m   2298\u001b[0m         \u001b[0minteractive\u001b[0m \u001b[0;34m=\u001b[0m \u001b[0;32mFalse\u001b[0m\u001b[0;34m\u001b[0m\u001b[0;34m\u001b[0m\u001b[0m\n\u001b[0;32m-> 2299\u001b[0;31m         \u001b[0mself\u001b[0m\u001b[0;34m.\u001b[0m\u001b[0mtk\u001b[0m \u001b[0;34m=\u001b[0m \u001b[0m_tkinter\u001b[0m\u001b[0;34m.\u001b[0m\u001b[0mcreate\u001b[0m\u001b[0;34m(\u001b[0m\u001b[0mscreenName\u001b[0m\u001b[0;34m,\u001b[0m \u001b[0mbaseName\u001b[0m\u001b[0;34m,\u001b[0m \u001b[0mclassName\u001b[0m\u001b[0;34m,\u001b[0m \u001b[0minteractive\u001b[0m\u001b[0;34m,\u001b[0m \u001b[0mwantobjects\u001b[0m\u001b[0;34m,\u001b[0m \u001b[0museTk\u001b[0m\u001b[0;34m,\u001b[0m \u001b[0msync\u001b[0m\u001b[0;34m,\u001b[0m \u001b[0muse\u001b[0m\u001b[0;34m)\u001b[0m\u001b[0;34m\u001b[0m\u001b[0;34m\u001b[0m\u001b[0m\n\u001b[0m\u001b[1;32m   2300\u001b[0m         \u001b[0;32mif\u001b[0m \u001b[0museTk\u001b[0m\u001b[0;34m:\u001b[0m\u001b[0;34m\u001b[0m\u001b[0;34m\u001b[0m\u001b[0m\n\u001b[1;32m   2301\u001b[0m             \u001b[0mself\u001b[0m\u001b[0;34m.\u001b[0m\u001b[0m_loadtk\u001b[0m\u001b[0;34m(\u001b[0m\u001b[0;34m)\u001b[0m\u001b[0;34m\u001b[0m\u001b[0;34m\u001b[0m\u001b[0m\n",
            "\u001b[0;31mTclError\u001b[0m: no display name and no $DISPLAY environment variable"
          ]
        }
      ]
    },
    {
      "cell_type": "code",
      "source": [],
      "metadata": {
        "id": "rphyytlf6kY3"
      },
      "execution_count": null,
      "outputs": []
    }
  ]
}